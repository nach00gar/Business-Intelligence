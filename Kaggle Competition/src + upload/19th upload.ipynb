{
 "cells": [
  {
   "cell_type": "code",
   "execution_count": 13,
   "metadata": {
    "colab": {
     "base_uri": "https://localhost:8080/",
     "height": 71
    },
    "executionInfo": {
     "elapsed": 6610,
     "status": "ok",
     "timestamp": 1671998006641,
     "user": {
      "displayName": "IGNACIO GARACH VELEZ",
      "userId": "17565059811689301258"
     },
     "user_tz": -60
    },
    "id": "itgpMsMb0DqY",
    "outputId": "9cc112a1-6afa-4238-b0f0-9462d3872daa"
   },
   "outputs": [],
   "source": [
    "import numpy as np\n",
    "from sklearn.preprocessing import OrdinalEncoder, LabelEncoder\n",
    "# We start by getting access to the drive"
   ]
  },
  {
   "cell_type": "code",
   "execution_count": 14,
   "metadata": {
    "executionInfo": {
     "elapsed": 287,
     "status": "ok",
     "timestamp": 1672006207619,
     "user": {
      "displayName": "IGNACIO GARACH VELEZ",
      "userId": "17565059811689301258"
     },
     "user_tz": -60
    },
    "id": "a_W7Lw6B0DqZ"
   },
   "outputs": [],
   "source": [
    "import pandas as pd\n",
    "\n",
    "train_df = pd.read_csv(\"train.csv\")\n",
    "test_df = pd.read_csv(\"test.csv\")"
   ]
  },
  {
   "cell_type": "markdown",
   "metadata": {
    "id": "y1pbHM3L0DqZ"
   },
   "source": [
    "Vamos a ver qué tal se ha cargado"
   ]
  },
  {
   "cell_type": "markdown",
   "metadata": {
    "id": "h_IU_ibe0Dqb"
   },
   "source": [
    "## Eliminando atributos no correctos\n",
    "\n",
    "Vamos a eliminar del conjunto de entrenamiento los atributos 'Artista' y\n",
    "'Titulo' porque no se puede aprender a partir de ellos.\n",
    "\n",
    "También quitamos el atributo a predecir para evitar usarlo de entrada."
   ]
  },
  {
   "cell_type": "code",
   "execution_count": 15,
   "metadata": {
    "colab": {
     "base_uri": "https://localhost:8080/"
    },
    "executionInfo": {
     "elapsed": 258,
     "status": "ok",
     "timestamp": 1672006210093,
     "user": {
      "displayName": "IGNACIO GARACH VELEZ",
      "userId": "17565059811689301258"
     },
     "user_tz": -60
    },
    "id": "JrpHVXp30Dqb",
    "outputId": "af0d1f83-326a-4593-940b-f3b3b17b73a5"
   },
   "outputs": [
    {
     "data": {
      "text/plain": [
       "Index(['bailable', 'energia', 'clave', 'hablado', 'positivismo',\n",
       "       'duración en min/ms', 'acustico', 'vivacidad', 'popularidad', 'tempo',\n",
       "       'modo', 'volumen', 'ritmo', 'instrumental'],\n",
       "      dtype='object')"
      ]
     },
     "execution_count": 15,
     "metadata": {},
     "output_type": "execute_result"
    }
   ],
   "source": [
    "train_target = train_df.Category\n",
    "targetencoder = LabelEncoder()\n",
    "train_target = targetencoder.fit_transform(train_target)\n",
    "train_df.drop(['Artista', 'Titulo', 'Category'], axis=1, inplace=True)\n",
    "train_df.columns"
   ]
  },
  {
   "cell_type": "markdown",
   "metadata": {
    "id": "zUVxrdoN0Dqd"
   },
   "source": [
    "## Viendo nulos\n",
    "\n",
    "Ahora voy a ver los nulos y procesarlos. En general hay que procesarlos mejor\n",
    "pero aquí únicamente voy a reemplazarlos por las medias."
   ]
  },
  {
   "cell_type": "code",
   "execution_count": 16,
   "metadata": {
    "executionInfo": {
     "elapsed": 598,
     "status": "ok",
     "timestamp": 1672006216469,
     "user": {
      "displayName": "IGNACIO GARACH VELEZ",
      "userId": "17565059811689301258"
     },
     "user_tz": -60
    },
    "id": "_U8NtrCH0Dqd"
   },
   "outputs": [],
   "source": [
    "train_df.replace({'P1.0': 1.0, 'P9.0': 9.0, 'P10.0':10.0, 'P11.0':11.0, 'P2.0': 2.0, 'P6.0': 6.0, 'P4.0': 4.0,\n",
    "       'P7.0': 7.0, 'P5.0': 5.0 , 'P8.0': 8.0, 'P3.0' : 3.0, 'menor': 0, 'mayor': 1}, inplace=True)\n",
    "test_df.replace({'P1.0': 1.0, 'P9.0': 9.0, 'P10.0':10.0, 'P11.0':11.0, 'P2.0': 2.0, 'P6.0': 6.0, 'P4.0': 4.0,\n",
    "       'P7.0': 7.0, 'P5.0': 5.0 , 'P8.0': 8.0, 'P3.0' : 3.0, 'menor': 0, 'mayor': 1}, inplace=True)"
   ]
  },
  {
   "cell_type": "code",
   "execution_count": null,
   "metadata": {},
   "outputs": [],
   "source": []
  },
  {
   "cell_type": "code",
   "execution_count": 17,
   "metadata": {
    "executionInfo": {
     "elapsed": 248,
     "status": "ok",
     "timestamp": 1672006219552,
     "user": {
      "displayName": "IGNACIO GARACH VELEZ",
      "userId": "17565059811689301258"
     },
     "user_tz": -60
    },
    "id": "GR2oBKkt0Dqe"
   },
   "outputs": [],
   "source": [
    "ids = test_df['id']\n",
    "test_df.drop(columns=\"id\", inplace=True)\n"
   ]
  },
  {
   "cell_type": "code",
   "execution_count": 18,
   "metadata": {
    "id": "DRAJeHKIUYqy"
   },
   "outputs": [],
   "source": [
    "import sklearn\n",
    "from sklearn.impute import SimpleImputer\n",
    "\n",
    "imputer1 = SimpleImputer(strategy='mean')\n",
    "train_df = imputer1.fit_transform(train_df)\n",
    "test_df = imputer1.transform(test_df)"
   ]
  },
  {
   "cell_type": "code",
   "execution_count": 20,
   "metadata": {
    "colab": {
     "base_uri": "https://localhost:8080/"
    },
    "executionInfo": {
     "elapsed": 3610,
     "status": "ok",
     "timestamp": 1672006225674,
     "user": {
      "displayName": "IGNACIO GARACH VELEZ",
      "userId": "17565059811689301258"
     },
     "user_tz": -60
    },
    "id": "U7o7BWlyUYoH",
    "outputId": "2cd5caa2-f23b-4878-ece7-c8942a6f6288"
   },
   "outputs": [
    {
     "data": {
      "text/plain": [
       "0.7320969646454122"
      ]
     },
     "execution_count": 20,
     "metadata": {},
     "output_type": "execute_result"
    }
   ],
   "source": [
    "from sklearn.ensemble import HistGradientBoostingClassifier\n",
    "\n",
    "clf = HistGradientBoostingClassifier(random_state=0)\n",
    "clf.fit(train_df, train_target)\n",
    "clf.score(train_df, train_target)"
   ]
  },
  {
   "cell_type": "code",
   "execution_count": 18,
   "metadata": {
    "colab": {
     "base_uri": "https://localhost:8080/"
    },
    "executionInfo": {
     "elapsed": 80585,
     "status": "ok",
     "timestamp": 1672007548462,
     "user": {
      "displayName": "IGNACIO GARACH VELEZ",
      "userId": "17565059811689301258"
     },
     "user_tz": -60
    },
    "id": "HxZ6HNgJUYgy",
    "outputId": "a88c3b3f-06bc-452b-9b8a-bf5a42f77999"
   },
   "outputs": [
    {
     "data": {
      "text/html": [
       "<style>#sk-container-id-5 {color: black;background-color: white;}#sk-container-id-5 pre{padding: 0;}#sk-container-id-5 div.sk-toggleable {background-color: white;}#sk-container-id-5 label.sk-toggleable__label {cursor: pointer;display: block;width: 100%;margin-bottom: 0;padding: 0.3em;box-sizing: border-box;text-align: center;}#sk-container-id-5 label.sk-toggleable__label-arrow:before {content: \"▸\";float: left;margin-right: 0.25em;color: #696969;}#sk-container-id-5 label.sk-toggleable__label-arrow:hover:before {color: black;}#sk-container-id-5 div.sk-estimator:hover label.sk-toggleable__label-arrow:before {color: black;}#sk-container-id-5 div.sk-toggleable__content {max-height: 0;max-width: 0;overflow: hidden;text-align: left;background-color: #f0f8ff;}#sk-container-id-5 div.sk-toggleable__content pre {margin: 0.2em;color: black;border-radius: 0.25em;background-color: #f0f8ff;}#sk-container-id-5 input.sk-toggleable__control:checked~div.sk-toggleable__content {max-height: 200px;max-width: 100%;overflow: auto;}#sk-container-id-5 input.sk-toggleable__control:checked~label.sk-toggleable__label-arrow:before {content: \"▾\";}#sk-container-id-5 div.sk-estimator input.sk-toggleable__control:checked~label.sk-toggleable__label {background-color: #d4ebff;}#sk-container-id-5 div.sk-label input.sk-toggleable__control:checked~label.sk-toggleable__label {background-color: #d4ebff;}#sk-container-id-5 input.sk-hidden--visually {border: 0;clip: rect(1px 1px 1px 1px);clip: rect(1px, 1px, 1px, 1px);height: 1px;margin: -1px;overflow: hidden;padding: 0;position: absolute;width: 1px;}#sk-container-id-5 div.sk-estimator {font-family: monospace;background-color: #f0f8ff;border: 1px dotted black;border-radius: 0.25em;box-sizing: border-box;margin-bottom: 0.5em;}#sk-container-id-5 div.sk-estimator:hover {background-color: #d4ebff;}#sk-container-id-5 div.sk-parallel-item::after {content: \"\";width: 100%;border-bottom: 1px solid gray;flex-grow: 1;}#sk-container-id-5 div.sk-label:hover label.sk-toggleable__label {background-color: #d4ebff;}#sk-container-id-5 div.sk-serial::before {content: \"\";position: absolute;border-left: 1px solid gray;box-sizing: border-box;top: 0;bottom: 0;left: 50%;z-index: 0;}#sk-container-id-5 div.sk-serial {display: flex;flex-direction: column;align-items: center;background-color: white;padding-right: 0.2em;padding-left: 0.2em;position: relative;}#sk-container-id-5 div.sk-item {position: relative;z-index: 1;}#sk-container-id-5 div.sk-parallel {display: flex;align-items: stretch;justify-content: center;background-color: white;position: relative;}#sk-container-id-5 div.sk-item::before, #sk-container-id-5 div.sk-parallel-item::before {content: \"\";position: absolute;border-left: 1px solid gray;box-sizing: border-box;top: 0;bottom: 0;left: 50%;z-index: -1;}#sk-container-id-5 div.sk-parallel-item {display: flex;flex-direction: column;z-index: 1;position: relative;background-color: white;}#sk-container-id-5 div.sk-parallel-item:first-child::after {align-self: flex-end;width: 50%;}#sk-container-id-5 div.sk-parallel-item:last-child::after {align-self: flex-start;width: 50%;}#sk-container-id-5 div.sk-parallel-item:only-child::after {width: 0;}#sk-container-id-5 div.sk-dashed-wrapped {border: 1px dashed gray;margin: 0 0.4em 0.5em 0.4em;box-sizing: border-box;padding-bottom: 0.4em;background-color: white;}#sk-container-id-5 div.sk-label label {font-family: monospace;font-weight: bold;display: inline-block;line-height: 1.2em;}#sk-container-id-5 div.sk-label-container {text-align: center;}#sk-container-id-5 div.sk-container {/* jupyter's `normalize.less` sets `[hidden] { display: none; }` but bootstrap.min.css set `[hidden] { display: none !important; }` so we also need the `!important` here to be able to override the default hidden behavior on the sphinx rendered scikit-learn.org. See: https://github.com/scikit-learn/scikit-learn/issues/21755 */display: inline-block !important;position: relative;}#sk-container-id-5 div.sk-text-repr-fallback {display: none;}</style><div id=\"sk-container-id-5\" class=\"sk-top-container\"><div class=\"sk-text-repr-fallback\"><pre>GridSearchCV(cv=5, estimator=HistGradientBoostingClassifier(random_state=0),\n",
       "             n_jobs=-1,\n",
       "             param_grid=[{&#x27;learning_rate&#x27;: array([0.023     , 0.0232069 , 0.02341379, 0.02362069, 0.02382759,\n",
       "       0.02403448, 0.02424138, 0.02444828, 0.02465517, 0.02486207,\n",
       "       0.02506897, 0.02527586, 0.02548276, 0.02568966, 0.02589655,\n",
       "       0.02610345, 0.02631034, 0.02651724, 0.02672414, 0.02693103,\n",
       "       0.02713793, 0.02734483, 0.02755172, 0.02775862, 0.02796552,\n",
       "       0.02817241, 0.02837931, 0.02858621, 0.0287931 , 0.029     ])}],\n",
       "             scoring=&#x27;accuracy&#x27;)</pre><b>In a Jupyter environment, please rerun this cell to show the HTML representation or trust the notebook. <br />On GitHub, the HTML representation is unable to render, please try loading this page with nbviewer.org.</b></div><div class=\"sk-container\" hidden><div class=\"sk-item sk-dashed-wrapped\"><div class=\"sk-label-container\"><div class=\"sk-label sk-toggleable\"><input class=\"sk-toggleable__control sk-hidden--visually\" id=\"sk-estimator-id-13\" type=\"checkbox\" ><label for=\"sk-estimator-id-13\" class=\"sk-toggleable__label sk-toggleable__label-arrow\">GridSearchCV</label><div class=\"sk-toggleable__content\"><pre>GridSearchCV(cv=5, estimator=HistGradientBoostingClassifier(random_state=0),\n",
       "             n_jobs=-1,\n",
       "             param_grid=[{&#x27;learning_rate&#x27;: array([0.023     , 0.0232069 , 0.02341379, 0.02362069, 0.02382759,\n",
       "       0.02403448, 0.02424138, 0.02444828, 0.02465517, 0.02486207,\n",
       "       0.02506897, 0.02527586, 0.02548276, 0.02568966, 0.02589655,\n",
       "       0.02610345, 0.02631034, 0.02651724, 0.02672414, 0.02693103,\n",
       "       0.02713793, 0.02734483, 0.02755172, 0.02775862, 0.02796552,\n",
       "       0.02817241, 0.02837931, 0.02858621, 0.0287931 , 0.029     ])}],\n",
       "             scoring=&#x27;accuracy&#x27;)</pre></div></div></div><div class=\"sk-parallel\"><div class=\"sk-parallel-item\"><div class=\"sk-item\"><div class=\"sk-label-container\"><div class=\"sk-label sk-toggleable\"><input class=\"sk-toggleable__control sk-hidden--visually\" id=\"sk-estimator-id-14\" type=\"checkbox\" ><label for=\"sk-estimator-id-14\" class=\"sk-toggleable__label sk-toggleable__label-arrow\">estimator: HistGradientBoostingClassifier</label><div class=\"sk-toggleable__content\"><pre>HistGradientBoostingClassifier(random_state=0)</pre></div></div></div><div class=\"sk-serial\"><div class=\"sk-item\"><div class=\"sk-estimator sk-toggleable\"><input class=\"sk-toggleable__control sk-hidden--visually\" id=\"sk-estimator-id-15\" type=\"checkbox\" ><label for=\"sk-estimator-id-15\" class=\"sk-toggleable__label sk-toggleable__label-arrow\">HistGradientBoostingClassifier</label><div class=\"sk-toggleable__content\"><pre>HistGradientBoostingClassifier(random_state=0)</pre></div></div></div></div></div></div></div></div></div></div>"
      ],
      "text/plain": [
       "GridSearchCV(cv=5, estimator=HistGradientBoostingClassifier(random_state=0),\n",
       "             n_jobs=-1,\n",
       "             param_grid=[{'learning_rate': array([0.023     , 0.0232069 , 0.02341379, 0.02362069, 0.02382759,\n",
       "       0.02403448, 0.02424138, 0.02444828, 0.02465517, 0.02486207,\n",
       "       0.02506897, 0.02527586, 0.02548276, 0.02568966, 0.02589655,\n",
       "       0.02610345, 0.02631034, 0.02651724, 0.02672414, 0.02693103,\n",
       "       0.02713793, 0.02734483, 0.02755172, 0.02775862, 0.02796552,\n",
       "       0.02817241, 0.02837931, 0.02858621, 0.0287931 , 0.029     ])}],\n",
       "             scoring='accuracy')"
      ]
     },
     "execution_count": 18,
     "metadata": {},
     "output_type": "execute_result"
    }
   ],
   "source": [
    "from sklearn.model_selection import GridSearchCV\n",
    "clf = HistGradientBoostingClassifier(random_state=0)\n",
    "parameters = [{\"learning_rate\": np.linspace(0.023, 0.029, 30)}]\n",
    "search = GridSearchCV(clf, parameters, cv=5, scoring='accuracy', n_jobs=-1)\n",
    "search.fit(train_df, train_target)"
   ]
  },
  {
   "cell_type": "code",
   "execution_count": 19,
   "metadata": {
    "colab": {
     "base_uri": "https://localhost:8080/"
    },
    "executionInfo": {
     "elapsed": 8,
     "status": "ok",
     "timestamp": 1672007599902,
     "user": {
      "displayName": "IGNACIO GARACH VELEZ",
      "userId": "17565059811689301258"
     },
     "user_tz": -60
    },
    "id": "CpdbBSB1UYeC",
    "outputId": "aff262fe-5690-44a8-9330-36f438cdbedc"
   },
   "outputs": [
    {
     "data": {
      "text/plain": [
       "{'learning_rate': 0.024241379310344827}"
      ]
     },
     "execution_count": 19,
     "metadata": {},
     "output_type": "execute_result"
    }
   ],
   "source": [
    "search.best_params_"
   ]
  },
  {
   "cell_type": "code",
   "execution_count": 20,
   "metadata": {
    "colab": {
     "base_uri": "https://localhost:8080/"
    },
    "executionInfo": {
     "elapsed": 3,
     "status": "ok",
     "timestamp": 1672007632368,
     "user": {
      "displayName": "IGNACIO GARACH VELEZ",
      "userId": "17565059811689301258"
     },
     "user_tz": -60
    },
    "id": "D4DKFzmrUYbM",
    "outputId": "e7ed9fbb-66e5-411b-bae8-07388aeb6c61"
   },
   "outputs": [
    {
     "data": {
      "text/plain": [
       "{'mean_fit_time': array([7.22449336, 7.21609435, 7.23409204, 7.03712335, 7.39970713,\n",
       "        7.36401062, 7.27031207, 7.40806427, 7.3205977 , 7.34720407,\n",
       "        7.18591866, 7.31514621, 7.40748329, 7.02765946, 7.12349687,\n",
       "        7.13440857, 7.1159101 , 7.02956972, 7.24282579, 7.26534982,\n",
       "        7.07447572, 7.21699982, 7.12294736, 7.2485569 , 7.24281087,\n",
       "        7.25344076, 7.14855227, 7.41578932, 6.84848852, 4.83340425]),\n",
       " 'std_fit_time': array([0.08074426, 0.11458395, 0.09439912, 0.04299742, 0.09024338,\n",
       "        0.09401165, 0.12369474, 0.14853589, 0.12506406, 0.22415534,\n",
       "        0.06525815, 0.17672595, 0.20333553, 0.0630782 , 0.06885447,\n",
       "        0.10278916, 0.1423447 , 0.03688331, 0.11841587, 0.26361739,\n",
       "        0.03099322, 0.18602277, 0.06180905, 0.23558467, 0.14950636,\n",
       "        0.27442828, 0.07763096, 0.3006274 , 0.79255554, 0.12982309]),\n",
       " 'mean_score_time': array([0.25400128, 0.26240015, 0.25820236, 0.25259972, 0.27966881,\n",
       "        0.28478251, 0.27098331, 0.2630116 , 0.2627984 , 0.25883956,\n",
       "        0.26406455, 0.26522989, 0.25993991, 0.26095324, 0.25995398,\n",
       "        0.26521964, 0.26313791, 0.2630002 , 0.2640274 , 0.26095533,\n",
       "        0.26428647, 0.26275215, 0.26173401, 0.26340137, 0.26394105,\n",
       "        0.26685219, 0.26547532, 0.25447049, 0.22765231, 0.19982448]),\n",
       " 'std_score_time': array([0.00260821, 0.01209586, 0.00910846, 0.00135645, 0.01195045,\n",
       "        0.01576496, 0.02350642, 0.0084658 , 0.00861333, 0.0080801 ,\n",
       "        0.00577517, 0.00673987, 0.00616763, 0.00576732, 0.00226277,\n",
       "        0.0055236 , 0.0049523 , 0.00907798, 0.00630195, 0.00439083,\n",
       "        0.00399661, 0.001593  , 0.00655206, 0.00816372, 0.00824134,\n",
       "        0.00431726, 0.00878198, 0.0036395 , 0.01528224, 0.00234797]),\n",
       " 'param_learning_rate': masked_array(data=[0.023, 0.023206896551724136, 0.023413793103448276,\n",
       "                    0.023620689655172413, 0.023827586206896553,\n",
       "                    0.02403448275862069, 0.024241379310344827,\n",
       "                    0.024448275862068967, 0.024655172413793103,\n",
       "                    0.02486206896551724, 0.02506896551724138,\n",
       "                    0.025275862068965517, 0.025482758620689657,\n",
       "                    0.025689655172413794, 0.02589655172413793,\n",
       "                    0.02610344827586207, 0.026310344827586207,\n",
       "                    0.026517241379310344, 0.026724137931034484,\n",
       "                    0.02693103448275862, 0.02713793103448276,\n",
       "                    0.027344827586206898, 0.027551724137931034,\n",
       "                    0.027758620689655174, 0.02796551724137931,\n",
       "                    0.02817241379310345, 0.028379310344827588,\n",
       "                    0.028586206896551725, 0.028793103448275865, 0.029],\n",
       "              mask=[False, False, False, False, False, False, False, False,\n",
       "                    False, False, False, False, False, False, False, False,\n",
       "                    False, False, False, False, False, False, False, False,\n",
       "                    False, False, False, False, False, False],\n",
       "        fill_value='?',\n",
       "             dtype=object),\n",
       " 'params': [{'learning_rate': 0.023},\n",
       "  {'learning_rate': 0.023206896551724136},\n",
       "  {'learning_rate': 0.023413793103448276},\n",
       "  {'learning_rate': 0.023620689655172413},\n",
       "  {'learning_rate': 0.023827586206896553},\n",
       "  {'learning_rate': 0.02403448275862069},\n",
       "  {'learning_rate': 0.024241379310344827},\n",
       "  {'learning_rate': 0.024448275862068967},\n",
       "  {'learning_rate': 0.024655172413793103},\n",
       "  {'learning_rate': 0.02486206896551724},\n",
       "  {'learning_rate': 0.02506896551724138},\n",
       "  {'learning_rate': 0.025275862068965517},\n",
       "  {'learning_rate': 0.025482758620689657},\n",
       "  {'learning_rate': 0.025689655172413794},\n",
       "  {'learning_rate': 0.02589655172413793},\n",
       "  {'learning_rate': 0.02610344827586207},\n",
       "  {'learning_rate': 0.026310344827586207},\n",
       "  {'learning_rate': 0.026517241379310344},\n",
       "  {'learning_rate': 0.026724137931034484},\n",
       "  {'learning_rate': 0.02693103448275862},\n",
       "  {'learning_rate': 0.02713793103448276},\n",
       "  {'learning_rate': 0.027344827586206898},\n",
       "  {'learning_rate': 0.027551724137931034},\n",
       "  {'learning_rate': 0.027758620689655174},\n",
       "  {'learning_rate': 0.02796551724137931},\n",
       "  {'learning_rate': 0.02817241379310345},\n",
       "  {'learning_rate': 0.028379310344827588},\n",
       "  {'learning_rate': 0.028586206896551725},\n",
       "  {'learning_rate': 0.028793103448275865},\n",
       "  {'learning_rate': 0.029}],\n",
       " 'split0_test_score': array([0.53611111, 0.53958333, 0.53680556, 0.53611111, 0.5375    ,\n",
       "        0.54340278, 0.5375    , 0.534375  , 0.53645833, 0.534375  ,\n",
       "        0.54166667, 0.54236111, 0.53472222, 0.53993056, 0.53819444,\n",
       "        0.53506944, 0.5375    , 0.53680556, 0.53645833, 0.53715278,\n",
       "        0.53506944, 0.53541667, 0.53402778, 0.534375  , 0.53715278,\n",
       "        0.5375    , 0.53576389, 0.53298611, 0.534375  , 0.53541667]),\n",
       " 'split1_test_score': array([0.53854167, 0.53819444, 0.54236111, 0.5375    , 0.54027778,\n",
       "        0.54131944, 0.5375    , 0.53715278, 0.54166667, 0.540625  ,\n",
       "        0.53645833, 0.53645833, 0.53923611, 0.54131944, 0.540625  ,\n",
       "        0.53993056, 0.53888889, 0.53715278, 0.5375    , 0.54375   ,\n",
       "        0.53611111, 0.53715278, 0.5375    , 0.53229167, 0.53576389,\n",
       "        0.53472222, 0.53645833, 0.53680556, 0.54027778, 0.53680556]),\n",
       " 'split2_test_score': array([0.5401181 , 0.54046544, 0.53977075, 0.53733935, 0.53838138,\n",
       "        0.53629733, 0.54463355, 0.53733935, 0.54116013, 0.53594998,\n",
       "        0.54081278, 0.53699201, 0.54046544, 0.5401181 , 0.53907607,\n",
       "        0.53803404, 0.53942341, 0.53942341, 0.53977075, 0.54220215,\n",
       "        0.5425495 , 0.53733935, 0.5401181 , 0.54081278, 0.5401181 ,\n",
       "        0.5376867 , 0.53942341, 0.53907607, 0.53977075, 0.54359152]),\n",
       " 'split3_test_score': array([0.52900313, 0.52761375, 0.52830844, 0.52865578, 0.52587704,\n",
       "        0.52900313, 0.53108718, 0.53004515, 0.53004515, 0.52830844,\n",
       "        0.53004515, 0.5303925 , 0.53004515, 0.5230983 , 0.52761375,\n",
       "        0.53108718, 0.5303925 , 0.53108718, 0.52865578, 0.5279611 ,\n",
       "        0.52935047, 0.52935047, 0.52935047, 0.52935047, 0.52865578,\n",
       "        0.53108718, 0.52900313, 0.52969781, 0.52935047, 0.53108718]),\n",
       " 'split4_test_score': array([0.55019104, 0.54880167, 0.54810698, 0.55574852, 0.55192775,\n",
       "        0.55088572, 0.5571379 , 0.55296978, 0.55192775, 0.5522751 ,\n",
       "        0.55887461, 0.55540118, 0.55679055, 0.5547065 , 0.55158041,\n",
       "        0.55401181, 0.55366447, 0.55644321, 0.55296978, 0.55435915,\n",
       "        0.55401181, 0.55262244, 0.55505384, 0.55401181, 0.55401181,\n",
       "        0.54880167, 0.55123307, 0.55331712, 0.55505384, 0.54914901]),\n",
       " 'mean_test_score': array([0.53879301, 0.53893173, 0.53907057, 0.53907095, 0.53879279,\n",
       "        0.54018168, 0.54157173, 0.53837641, 0.54025161, 0.5383067 ,\n",
       "        0.54157151, 0.54032103, 0.5402519 , 0.53983458, 0.53941794,\n",
       "        0.53962661, 0.53997385, 0.54018243, 0.53907093, 0.54108504,\n",
       "        0.53941847, 0.53837634, 0.53921004, 0.53816835, 0.53914047,\n",
       "        0.53795955, 0.53837637, 0.53837653, 0.53976557, 0.53920999]),\n",
       " 'std_test_score': array([0.00685228, 0.0067651 , 0.00654108, 0.0089537 , 0.00828721,\n",
       "        0.00729787, 0.00888554, 0.00775835, 0.00717943, 0.00801833,\n",
       "        0.00958106, 0.0084398 , 0.00904831, 0.01003565, 0.00762017,\n",
       "        0.00778784, 0.00757411, 0.00858248, 0.00789223, 0.00862847,\n",
       "        0.00841411, 0.0076909 , 0.0087045 , 0.00877141, 0.00833539,\n",
       "        0.00592532, 0.00727671, 0.00813087, 0.00862005, 0.00638956]),\n",
       " 'rank_test_score': array([22, 21, 20, 18, 23,  8,  1, 25,  6, 28,  2,  4,  5, 10, 14, 12,  9,\n",
       "         7, 19,  3, 13, 27, 15, 29, 17, 30, 26, 24, 11, 16])}"
      ]
     },
     "execution_count": 20,
     "metadata": {},
     "output_type": "execute_result"
    }
   ],
   "source": [
    "search.cv_results_"
   ]
  },
  {
   "cell_type": "code",
   "execution_count": 21,
   "metadata": {
    "colab": {
     "base_uri": "https://localhost:8080/"
    },
    "executionInfo": {
     "elapsed": 5198,
     "status": "ok",
     "timestamp": 1672007748047,
     "user": {
      "displayName": "IGNACIO GARACH VELEZ",
      "userId": "17565059811689301258"
     },
     "user_tz": -60
    },
    "id": "Cyh3UqCUbEfa",
    "outputId": "5d044276-01f5-4a9c-c27e-b00936fc1ef5"
   },
   "outputs": [
    {
     "data": {
      "text/plain": [
       "0.6686809752031673"
      ]
     },
     "execution_count": 21,
     "metadata": {},
     "output_type": "execute_result"
    }
   ],
   "source": [
    "clf = HistGradientBoostingClassifier(random_state=0, learning_rate=0.024241379310344827)\n",
    "clf.fit(train_df, train_target)\n",
    "clf.score(train_df, train_target)"
   ]
  },
  {
   "cell_type": "code",
   "execution_count": 31,
   "metadata": {},
   "outputs": [
    {
     "data": {
      "text/html": [
       "<style>#sk-container-id-9 {color: black;background-color: white;}#sk-container-id-9 pre{padding: 0;}#sk-container-id-9 div.sk-toggleable {background-color: white;}#sk-container-id-9 label.sk-toggleable__label {cursor: pointer;display: block;width: 100%;margin-bottom: 0;padding: 0.3em;box-sizing: border-box;text-align: center;}#sk-container-id-9 label.sk-toggleable__label-arrow:before {content: \"▸\";float: left;margin-right: 0.25em;color: #696969;}#sk-container-id-9 label.sk-toggleable__label-arrow:hover:before {color: black;}#sk-container-id-9 div.sk-estimator:hover label.sk-toggleable__label-arrow:before {color: black;}#sk-container-id-9 div.sk-toggleable__content {max-height: 0;max-width: 0;overflow: hidden;text-align: left;background-color: #f0f8ff;}#sk-container-id-9 div.sk-toggleable__content pre {margin: 0.2em;color: black;border-radius: 0.25em;background-color: #f0f8ff;}#sk-container-id-9 input.sk-toggleable__control:checked~div.sk-toggleable__content {max-height: 200px;max-width: 100%;overflow: auto;}#sk-container-id-9 input.sk-toggleable__control:checked~label.sk-toggleable__label-arrow:before {content: \"▾\";}#sk-container-id-9 div.sk-estimator input.sk-toggleable__control:checked~label.sk-toggleable__label {background-color: #d4ebff;}#sk-container-id-9 div.sk-label input.sk-toggleable__control:checked~label.sk-toggleable__label {background-color: #d4ebff;}#sk-container-id-9 input.sk-hidden--visually {border: 0;clip: rect(1px 1px 1px 1px);clip: rect(1px, 1px, 1px, 1px);height: 1px;margin: -1px;overflow: hidden;padding: 0;position: absolute;width: 1px;}#sk-container-id-9 div.sk-estimator {font-family: monospace;background-color: #f0f8ff;border: 1px dotted black;border-radius: 0.25em;box-sizing: border-box;margin-bottom: 0.5em;}#sk-container-id-9 div.sk-estimator:hover {background-color: #d4ebff;}#sk-container-id-9 div.sk-parallel-item::after {content: \"\";width: 100%;border-bottom: 1px solid gray;flex-grow: 1;}#sk-container-id-9 div.sk-label:hover label.sk-toggleable__label {background-color: #d4ebff;}#sk-container-id-9 div.sk-serial::before {content: \"\";position: absolute;border-left: 1px solid gray;box-sizing: border-box;top: 0;bottom: 0;left: 50%;z-index: 0;}#sk-container-id-9 div.sk-serial {display: flex;flex-direction: column;align-items: center;background-color: white;padding-right: 0.2em;padding-left: 0.2em;position: relative;}#sk-container-id-9 div.sk-item {position: relative;z-index: 1;}#sk-container-id-9 div.sk-parallel {display: flex;align-items: stretch;justify-content: center;background-color: white;position: relative;}#sk-container-id-9 div.sk-item::before, #sk-container-id-9 div.sk-parallel-item::before {content: \"\";position: absolute;border-left: 1px solid gray;box-sizing: border-box;top: 0;bottom: 0;left: 50%;z-index: -1;}#sk-container-id-9 div.sk-parallel-item {display: flex;flex-direction: column;z-index: 1;position: relative;background-color: white;}#sk-container-id-9 div.sk-parallel-item:first-child::after {align-self: flex-end;width: 50%;}#sk-container-id-9 div.sk-parallel-item:last-child::after {align-self: flex-start;width: 50%;}#sk-container-id-9 div.sk-parallel-item:only-child::after {width: 0;}#sk-container-id-9 div.sk-dashed-wrapped {border: 1px dashed gray;margin: 0 0.4em 0.5em 0.4em;box-sizing: border-box;padding-bottom: 0.4em;background-color: white;}#sk-container-id-9 div.sk-label label {font-family: monospace;font-weight: bold;display: inline-block;line-height: 1.2em;}#sk-container-id-9 div.sk-label-container {text-align: center;}#sk-container-id-9 div.sk-container {/* jupyter's `normalize.less` sets `[hidden] { display: none; }` but bootstrap.min.css set `[hidden] { display: none !important; }` so we also need the `!important` here to be able to override the default hidden behavior on the sphinx rendered scikit-learn.org. See: https://github.com/scikit-learn/scikit-learn/issues/21755 */display: inline-block !important;position: relative;}#sk-container-id-9 div.sk-text-repr-fallback {display: none;}</style><div id=\"sk-container-id-9\" class=\"sk-top-container\"><div class=\"sk-text-repr-fallback\"><pre>GridSearchCV(cv=5,\n",
       "             estimator=HistGradientBoostingClassifier(learning_rate=0.024241379310344827,\n",
       "                                                      random_state=0),\n",
       "             n_jobs=-1,\n",
       "             param_grid=[{&#x27;l2_regularization&#x27;: array([0.001     , 0.00108163, 0.00116327, 0.0012449 , 0.00132653,\n",
       "       0.00140816, 0.0014898 , 0.00157143, 0.00165306, 0.00173469,\n",
       "       0.00181633, 0.00189796, 0.00197959, 0.00206122, 0.00214286,\n",
       "       0.00222449, 0.00230612, 0.00238776...102,\n",
       "       0.00263265, 0.00271429, 0.00279592, 0.00287755, 0.00295918,\n",
       "       0.00304082, 0.00312245, 0.00320408, 0.00328571, 0.00336735,\n",
       "       0.00344898, 0.00353061, 0.00361224, 0.00369388, 0.00377551,\n",
       "       0.00385714, 0.00393878, 0.00402041, 0.00410204, 0.00418367,\n",
       "       0.00426531, 0.00434694, 0.00442857, 0.0045102 , 0.00459184,\n",
       "       0.00467347, 0.0047551 , 0.00483673, 0.00491837, 0.005     ])}],\n",
       "             scoring=&#x27;accuracy&#x27;)</pre><b>In a Jupyter environment, please rerun this cell to show the HTML representation or trust the notebook. <br />On GitHub, the HTML representation is unable to render, please try loading this page with nbviewer.org.</b></div><div class=\"sk-container\" hidden><div class=\"sk-item sk-dashed-wrapped\"><div class=\"sk-label-container\"><div class=\"sk-label sk-toggleable\"><input class=\"sk-toggleable__control sk-hidden--visually\" id=\"sk-estimator-id-25\" type=\"checkbox\" ><label for=\"sk-estimator-id-25\" class=\"sk-toggleable__label sk-toggleable__label-arrow\">GridSearchCV</label><div class=\"sk-toggleable__content\"><pre>GridSearchCV(cv=5,\n",
       "             estimator=HistGradientBoostingClassifier(learning_rate=0.024241379310344827,\n",
       "                                                      random_state=0),\n",
       "             n_jobs=-1,\n",
       "             param_grid=[{&#x27;l2_regularization&#x27;: array([0.001     , 0.00108163, 0.00116327, 0.0012449 , 0.00132653,\n",
       "       0.00140816, 0.0014898 , 0.00157143, 0.00165306, 0.00173469,\n",
       "       0.00181633, 0.00189796, 0.00197959, 0.00206122, 0.00214286,\n",
       "       0.00222449, 0.00230612, 0.00238776...102,\n",
       "       0.00263265, 0.00271429, 0.00279592, 0.00287755, 0.00295918,\n",
       "       0.00304082, 0.00312245, 0.00320408, 0.00328571, 0.00336735,\n",
       "       0.00344898, 0.00353061, 0.00361224, 0.00369388, 0.00377551,\n",
       "       0.00385714, 0.00393878, 0.00402041, 0.00410204, 0.00418367,\n",
       "       0.00426531, 0.00434694, 0.00442857, 0.0045102 , 0.00459184,\n",
       "       0.00467347, 0.0047551 , 0.00483673, 0.00491837, 0.005     ])}],\n",
       "             scoring=&#x27;accuracy&#x27;)</pre></div></div></div><div class=\"sk-parallel\"><div class=\"sk-parallel-item\"><div class=\"sk-item\"><div class=\"sk-label-container\"><div class=\"sk-label sk-toggleable\"><input class=\"sk-toggleable__control sk-hidden--visually\" id=\"sk-estimator-id-26\" type=\"checkbox\" ><label for=\"sk-estimator-id-26\" class=\"sk-toggleable__label sk-toggleable__label-arrow\">estimator: HistGradientBoostingClassifier</label><div class=\"sk-toggleable__content\"><pre>HistGradientBoostingClassifier(learning_rate=0.024241379310344827,\n",
       "                               random_state=0)</pre></div></div></div><div class=\"sk-serial\"><div class=\"sk-item\"><div class=\"sk-estimator sk-toggleable\"><input class=\"sk-toggleable__control sk-hidden--visually\" id=\"sk-estimator-id-27\" type=\"checkbox\" ><label for=\"sk-estimator-id-27\" class=\"sk-toggleable__label sk-toggleable__label-arrow\">HistGradientBoostingClassifier</label><div class=\"sk-toggleable__content\"><pre>HistGradientBoostingClassifier(learning_rate=0.024241379310344827,\n",
       "                               random_state=0)</pre></div></div></div></div></div></div></div></div></div></div>"
      ],
      "text/plain": [
       "GridSearchCV(cv=5,\n",
       "             estimator=HistGradientBoostingClassifier(learning_rate=0.024241379310344827,\n",
       "                                                      random_state=0),\n",
       "             n_jobs=-1,\n",
       "             param_grid=[{'l2_regularization': array([0.001     , 0.00108163, 0.00116327, 0.0012449 , 0.00132653,\n",
       "       0.00140816, 0.0014898 , 0.00157143, 0.00165306, 0.00173469,\n",
       "       0.00181633, 0.00189796, 0.00197959, 0.00206122, 0.00214286,\n",
       "       0.00222449, 0.00230612, 0.00238776...102,\n",
       "       0.00263265, 0.00271429, 0.00279592, 0.00287755, 0.00295918,\n",
       "       0.00304082, 0.00312245, 0.00320408, 0.00328571, 0.00336735,\n",
       "       0.00344898, 0.00353061, 0.00361224, 0.00369388, 0.00377551,\n",
       "       0.00385714, 0.00393878, 0.00402041, 0.00410204, 0.00418367,\n",
       "       0.00426531, 0.00434694, 0.00442857, 0.0045102 , 0.00459184,\n",
       "       0.00467347, 0.0047551 , 0.00483673, 0.00491837, 0.005     ])}],\n",
       "             scoring='accuracy')"
      ]
     },
     "execution_count": 31,
     "metadata": {},
     "output_type": "execute_result"
    }
   ],
   "source": [
    "from sklearn.model_selection import GridSearchCV\n",
    "clf = HistGradientBoostingClassifier(random_state=0, learning_rate=0.024241379310344827)\n",
    "parameters = [{\"l2_regularization\": np.linspace(0.001, 0.005, 50)}]\n",
    "search = GridSearchCV(clf, parameters, cv=5, scoring='accuracy', n_jobs=-1)\n",
    "search.fit(train_df, train_target)"
   ]
  },
  {
   "cell_type": "code",
   "execution_count": 32,
   "metadata": {},
   "outputs": [
    {
     "data": {
      "text/plain": [
       "{'l2_regularization': 0.0020612244897959186}"
      ]
     },
     "execution_count": 32,
     "metadata": {},
     "output_type": "execute_result"
    }
   ],
   "source": [
    "search.best_params_"
   ]
  },
  {
   "cell_type": "code",
   "execution_count": 33,
   "metadata": {
    "scrolled": false
   },
   "outputs": [
    {
     "data": {
      "text/plain": [
       "{'mean_fit_time': array([6.91100607, 6.97140336, 6.93040152, 6.86837988, 6.90462346,\n",
       "        6.99797659, 6.94495368, 6.928967  , 6.97856674, 6.98399606,\n",
       "        6.88574433, 6.96871181, 7.02440681, 6.91484985, 6.94828439,\n",
       "        7.04924431, 6.87153549, 6.88907471, 6.95617661, 6.92080278,\n",
       "        6.89002514, 6.89062161, 6.8830584 , 6.90328436, 6.90390401,\n",
       "        6.89370255, 6.90900073, 6.96421714, 6.93908477, 6.85523491,\n",
       "        6.90614152, 6.97462182, 6.84064808, 6.84982462, 6.97328367,\n",
       "        6.88175597, 6.88036537, 6.98211689, 7.56301775, 7.10763922,\n",
       "        7.34441786, 7.18073254, 7.0391088 , 7.22137661, 7.22364426,\n",
       "        6.95222321, 6.9640698 , 7.09939933, 5.8917932 , 5.48431334]),\n",
       " 'std_fit_time': array([0.05477875, 0.03044722, 0.08926851, 0.06637441, 0.01059476,\n",
       "        0.05369826, 0.08694621, 0.03735051, 0.07344254, 0.07794358,\n",
       "        0.04562607, 0.11544833, 0.14124453, 0.04464159, 0.07860919,\n",
       "        0.07356577, 0.04388553, 0.09741252, 0.10227077, 0.07201582,\n",
       "        0.04343779, 0.06448743, 0.105365  , 0.07054784, 0.10394257,\n",
       "        0.07889277, 0.0525031 , 0.09769417, 0.07975539, 0.01676361,\n",
       "        0.05062653, 0.10336137, 0.02700437, 0.02053563, 0.08155886,\n",
       "        0.06416077, 0.06102077, 0.10189445, 0.3609446 , 0.46851398,\n",
       "        0.44159092, 0.35975382, 0.26823472, 0.16310329, 0.20332584,\n",
       "        0.06714542, 0.1240081 , 0.08717952, 0.10738304, 0.14954476]),\n",
       " 'mean_score_time': array([0.2465981 , 0.24897261, 0.24730153, 0.25079904, 0.24879861,\n",
       "        0.25099921, 0.25480084, 0.25019941, 0.25359979, 0.25560098,\n",
       "        0.25160079, 0.26478744, 0.25731149, 0.25291266, 0.26091337,\n",
       "        0.2584003 , 0.25627298, 0.26449494, 0.26778646, 0.2525631 ,\n",
       "        0.26862526, 0.26415391, 0.25560126, 0.26278219, 0.26319838,\n",
       "        0.25996566, 0.26164432, 0.2601697 , 0.2684875 , 0.25999913,\n",
       "        0.25820093, 0.26620798, 0.26121907, 0.25987086, 0.25985641,\n",
       "        0.27311606, 0.28708892, 0.25880036, 0.3060545 , 0.2790329 ,\n",
       "        0.2699173 , 0.26922126, 0.27322426, 0.26399965, 0.27090268,\n",
       "        0.25709181, 0.26399384, 0.25480309, 0.21340075, 0.20025349]),\n",
       " 'std_score_time': array([0.00185166, 0.0033195 , 0.00404678, 0.00412021, 0.00416711,\n",
       "        0.0028305 , 0.00741456, 0.00312477, 0.0047597 , 0.00749747,\n",
       "        0.00307178, 0.01134182, 0.00582449, 0.00289074, 0.01076015,\n",
       "        0.00755268, 0.00871408, 0.00447362, 0.00829696, 0.00570568,\n",
       "        0.01235835, 0.00817468, 0.00717273, 0.00276655, 0.01169852,\n",
       "        0.00713727, 0.00471305, 0.0081595 , 0.01430137, 0.0026079 ,\n",
       "        0.00365537, 0.00786552, 0.00338588, 0.0035874 , 0.0044134 ,\n",
       "        0.01236285, 0.03950591, 0.00567117, 0.0264652 , 0.02436488,\n",
       "        0.02681345, 0.01143575, 0.01222927, 0.00804798, 0.01225119,\n",
       "        0.00472051, 0.00259726, 0.0095179 , 0.01078103, 0.00459202]),\n",
       " 'param_l2_regularization': masked_array(data=[0.001, 0.0010816326530612246, 0.001163265306122449,\n",
       "                    0.0012448979591836735, 0.001326530612244898,\n",
       "                    0.0014081632653061226, 0.001489795918367347,\n",
       "                    0.0015714285714285715, 0.001653061224489796,\n",
       "                    0.0017346938775510204, 0.001816326530612245,\n",
       "                    0.0018979591836734695, 0.001979591836734694,\n",
       "                    0.0020612244897959186, 0.002142857142857143,\n",
       "                    0.0022244897959183673, 0.002306122448979592,\n",
       "                    0.0023877551020408164, 0.0024693877551020408,\n",
       "                    0.0025510204081632655, 0.00263265306122449,\n",
       "                    0.0027142857142857142, 0.002795918367346939,\n",
       "                    0.0028775510204081633, 0.0029591836734693877,\n",
       "                    0.0030408163265306124, 0.003122448979591837,\n",
       "                    0.003204081632653061, 0.003285714285714286,\n",
       "                    0.0033673469387755102, 0.0034489795918367346,\n",
       "                    0.0035306122448979594, 0.0036122448979591837,\n",
       "                    0.003693877551020408, 0.003775510204081633,\n",
       "                    0.003857142857142857, 0.0039387755102040815,\n",
       "                    0.004020408163265306, 0.00410204081632653,\n",
       "                    0.004183673469387755, 0.00426530612244898,\n",
       "                    0.0043469387755102045, 0.004428571428571428,\n",
       "                    0.004510204081632653, 0.004591836734693877,\n",
       "                    0.004673469387755102, 0.004755102040816327,\n",
       "                    0.004836734693877551, 0.004918367346938775, 0.005],\n",
       "              mask=[False, False, False, False, False, False, False, False,\n",
       "                    False, False, False, False, False, False, False, False,\n",
       "                    False, False, False, False, False, False, False, False,\n",
       "                    False, False, False, False, False, False, False, False,\n",
       "                    False, False, False, False, False, False, False, False,\n",
       "                    False, False, False, False, False, False, False, False,\n",
       "                    False, False],\n",
       "        fill_value='?',\n",
       "             dtype=object),\n",
       " 'params': [{'l2_regularization': 0.001},\n",
       "  {'l2_regularization': 0.0010816326530612246},\n",
       "  {'l2_regularization': 0.001163265306122449},\n",
       "  {'l2_regularization': 0.0012448979591836735},\n",
       "  {'l2_regularization': 0.001326530612244898},\n",
       "  {'l2_regularization': 0.0014081632653061226},\n",
       "  {'l2_regularization': 0.001489795918367347},\n",
       "  {'l2_regularization': 0.0015714285714285715},\n",
       "  {'l2_regularization': 0.001653061224489796},\n",
       "  {'l2_regularization': 0.0017346938775510204},\n",
       "  {'l2_regularization': 0.001816326530612245},\n",
       "  {'l2_regularization': 0.0018979591836734695},\n",
       "  {'l2_regularization': 0.001979591836734694},\n",
       "  {'l2_regularization': 0.0020612244897959186},\n",
       "  {'l2_regularization': 0.002142857142857143},\n",
       "  {'l2_regularization': 0.0022244897959183673},\n",
       "  {'l2_regularization': 0.002306122448979592},\n",
       "  {'l2_regularization': 0.0023877551020408164},\n",
       "  {'l2_regularization': 0.0024693877551020408},\n",
       "  {'l2_regularization': 0.0025510204081632655},\n",
       "  {'l2_regularization': 0.00263265306122449},\n",
       "  {'l2_regularization': 0.0027142857142857142},\n",
       "  {'l2_regularization': 0.002795918367346939},\n",
       "  {'l2_regularization': 0.0028775510204081633},\n",
       "  {'l2_regularization': 0.0029591836734693877},\n",
       "  {'l2_regularization': 0.0030408163265306124},\n",
       "  {'l2_regularization': 0.003122448979591837},\n",
       "  {'l2_regularization': 0.003204081632653061},\n",
       "  {'l2_regularization': 0.003285714285714286},\n",
       "  {'l2_regularization': 0.0033673469387755102},\n",
       "  {'l2_regularization': 0.0034489795918367346},\n",
       "  {'l2_regularization': 0.0035306122448979594},\n",
       "  {'l2_regularization': 0.0036122448979591837},\n",
       "  {'l2_regularization': 0.003693877551020408},\n",
       "  {'l2_regularization': 0.003775510204081633},\n",
       "  {'l2_regularization': 0.003857142857142857},\n",
       "  {'l2_regularization': 0.0039387755102040815},\n",
       "  {'l2_regularization': 0.004020408163265306},\n",
       "  {'l2_regularization': 0.00410204081632653},\n",
       "  {'l2_regularization': 0.004183673469387755},\n",
       "  {'l2_regularization': 0.00426530612244898},\n",
       "  {'l2_regularization': 0.0043469387755102045},\n",
       "  {'l2_regularization': 0.004428571428571428},\n",
       "  {'l2_regularization': 0.004510204081632653},\n",
       "  {'l2_regularization': 0.004591836734693877},\n",
       "  {'l2_regularization': 0.004673469387755102},\n",
       "  {'l2_regularization': 0.004755102040816327},\n",
       "  {'l2_regularization': 0.004836734693877551},\n",
       "  {'l2_regularization': 0.004918367346938775},\n",
       "  {'l2_regularization': 0.005}],\n",
       " 'split0_test_score': array([0.5375    , 0.5375    , 0.53611111, 0.53715278, 0.5375    ,\n",
       "        0.53506944, 0.53784722, 0.53402778, 0.53472222, 0.53888889,\n",
       "        0.53715278, 0.53645833, 0.53472222, 0.53784722, 0.54131944,\n",
       "        0.54201389, 0.53402778, 0.53784722, 0.53784722, 0.53854167,\n",
       "        0.53472222, 0.5375    , 0.5375    , 0.53993056, 0.53333333,\n",
       "        0.52881944, 0.52881944, 0.53541667, 0.53680556, 0.53611111,\n",
       "        0.53645833, 0.53333333, 0.53576389, 0.53541667, 0.53854167,\n",
       "        0.53194444, 0.5375    , 0.53784722, 0.53368056, 0.53784722,\n",
       "        0.53680556, 0.53611111, 0.53333333, 0.53854167, 0.53645833,\n",
       "        0.534375  , 0.53819444, 0.53472222, 0.540625  , 0.540625  ]),\n",
       " 'split1_test_score': array([0.53819444, 0.53784722, 0.53611111, 0.53993056, 0.53819444,\n",
       "        0.53888889, 0.5375    , 0.54166667, 0.54305556, 0.54305556,\n",
       "        0.540625  , 0.53888889, 0.540625  , 0.54166667, 0.54375   ,\n",
       "        0.54027778, 0.54270833, 0.54270833, 0.54131944, 0.53888889,\n",
       "        0.53958333, 0.54097222, 0.54027778, 0.54270833, 0.53854167,\n",
       "        0.54270833, 0.53819444, 0.5375    , 0.53993056, 0.54340278,\n",
       "        0.54166667, 0.5375    , 0.54027778, 0.53993056, 0.54131944,\n",
       "        0.54340278, 0.540625  , 0.53993056, 0.54270833, 0.54201389,\n",
       "        0.54270833, 0.53819444, 0.53645833, 0.54305556, 0.54027778,\n",
       "        0.53958333, 0.54201389, 0.54201389, 0.53715278, 0.540625  ]),\n",
       " 'split2_test_score': array([0.53594998, 0.53560264, 0.54081278, 0.54081278, 0.5401181 ,\n",
       "        0.53942341, 0.54220215, 0.53872873, 0.54220215, 0.54185481,\n",
       "        0.53838138, 0.53421327, 0.5376867 , 0.54463355, 0.53803404,\n",
       "        0.53977075, 0.53594998, 0.53907607, 0.54463355, 0.53699201,\n",
       "        0.53942341, 0.53872873, 0.53977075, 0.5376867 , 0.5401181 ,\n",
       "        0.54150747, 0.53490795, 0.54116013, 0.53351858, 0.53872873,\n",
       "        0.54046544, 0.53977075, 0.54081278, 0.53664467, 0.53907607,\n",
       "        0.5401181 , 0.53317124, 0.53317124, 0.53942341, 0.5376867 ,\n",
       "        0.53699201, 0.53872873, 0.53490795, 0.53733935, 0.53942341,\n",
       "        0.53629733, 0.53872873, 0.54046544, 0.53872873, 0.53872873]),\n",
       " 'split3_test_score': array([0.5303925 , 0.52865578, 0.52518235, 0.52865578, 0.52518235,\n",
       "        0.52900313, 0.53004515, 0.52935047, 0.53143453, 0.53178187,\n",
       "        0.52830844, 0.52969781, 0.52900313, 0.53143453, 0.52726641,\n",
       "        0.52830844, 0.53073984, 0.52935047, 0.53108718, 0.52830844,\n",
       "        0.53143453, 0.52900313, 0.52691907, 0.53143453, 0.52657173,\n",
       "        0.53351858, 0.52761375, 0.52726641, 0.52865578, 0.52761375,\n",
       "        0.52726641, 0.5279611 , 0.52900313, 0.53004515, 0.53108718,\n",
       "        0.52622438, 0.52587704, 0.53004515, 0.52726641, 0.53004515,\n",
       "        0.52657173, 0.52657173, 0.53317124, 0.53212921, 0.52587704,\n",
       "        0.52761375, 0.53143453, 0.52900313, 0.52969781, 0.52935047]),\n",
       " 'split4_test_score': array([0.55296978, 0.55366447, 0.5498437 , 0.5547065 , 0.55401181,\n",
       "        0.55366447, 0.55296978, 0.55262244, 0.55540118, 0.5498437 ,\n",
       "        0.55262244, 0.55262244, 0.55262244, 0.5522751 , 0.55574852,\n",
       "        0.55053838, 0.55158041, 0.54914901, 0.5498437 , 0.5498437 ,\n",
       "        0.5498437 , 0.55158041, 0.55158041, 0.55192775, 0.55053838,\n",
       "        0.55366447, 0.55435915, 0.55088572, 0.55366447, 0.55262244,\n",
       "        0.55331712, 0.55505384, 0.55331712, 0.55053838, 0.55158041,\n",
       "        0.55331712, 0.55053838, 0.55331712, 0.55296978, 0.55401181,\n",
       "        0.55158041, 0.55401181, 0.5547065 , 0.55679055, 0.55331712,\n",
       "        0.55088572, 0.55331712, 0.55644321, 0.5498437 , 0.55366447]),\n",
       " 'mean_test_score': array([0.53900134, 0.53865402, 0.53761221, 0.54025168, 0.53900134,\n",
       "        0.53920987, 0.54011286, 0.53927922, 0.54136313, 0.54108496,\n",
       "        0.53941801, 0.53837615, 0.5389319 , 0.54157141, 0.54122368,\n",
       "        0.54018185, 0.53900127, 0.53962622, 0.54094622, 0.53851494,\n",
       "        0.53900144, 0.5395569 , 0.5392096 , 0.54073757, 0.53782064,\n",
       "        0.54004366, 0.53677895, 0.53844579, 0.53851499, 0.53969576,\n",
       "        0.5398348 , 0.5387238 , 0.53983494, 0.53851509, 0.54032095,\n",
       "        0.53900137, 0.53754233, 0.53886226, 0.5392097 , 0.54032095,\n",
       "        0.53893161, 0.53872356, 0.53851547, 0.54157127, 0.53907074,\n",
       "        0.53775103, 0.54073774, 0.54052958, 0.5392096 , 0.54059873]),\n",
       " 'std_test_score': array([0.0075026 , 0.00820453, 0.00798575, 0.00840747, 0.00916985,\n",
       "        0.00812902, 0.00752309, 0.00787657, 0.0082863 , 0.00587472,\n",
       "        0.00781591, 0.00774004, 0.00785048, 0.00693658, 0.00919067,\n",
       "        0.00709606, 0.00740641, 0.00646903, 0.00631989, 0.00685526,\n",
       "        0.0062232 , 0.00725075, 0.00785459, 0.00671729, 0.00792733,\n",
       "        0.00852443, 0.00961168, 0.00770932, 0.00844513, 0.00825349,\n",
       "        0.00842486, 0.00910117, 0.00796019, 0.00680296, 0.00659925,\n",
       "        0.00936602, 0.00816808, 0.00801553, 0.0086584 , 0.00786074,\n",
       "        0.00818907, 0.00881479, 0.00818304, 0.00836743, 0.00877997,\n",
       "        0.00764399, 0.00716832, 0.00918733, 0.0064811 , 0.00775545]),\n",
       " 'rank_test_score': array([31, 39, 48, 13, 31, 24, 15, 23,  3,  5, 22, 45, 34,  1,  4, 14, 33,\n",
       "        20,  6, 43, 29, 21, 26,  8, 46, 16, 50, 44, 42, 19, 18, 37, 17, 41,\n",
       "        11, 30, 49, 36, 25, 11, 35, 38, 40,  2, 28, 47,  7, 10, 27,  9])}"
      ]
     },
     "execution_count": 33,
     "metadata": {},
     "output_type": "execute_result"
    }
   ],
   "source": [
    "search.cv_results_"
   ]
  },
  {
   "cell_type": "code",
   "execution_count": 34,
   "metadata": {},
   "outputs": [
    {
     "data": {
      "text/plain": [
       "0.6663193720914079"
      ]
     },
     "execution_count": 34,
     "metadata": {},
     "output_type": "execute_result"
    }
   ],
   "source": [
    "clf = HistGradientBoostingClassifier(random_state=0, learning_rate=0.024241379310344827, l2_regularization=0.0020612244897959186)\n",
    "clf.fit(train_df, train_target)\n",
    "clf.score(train_df, train_target)"
   ]
  },
  {
   "cell_type": "code",
   "execution_count": 38,
   "metadata": {},
   "outputs": [
    {
     "data": {
      "text/html": [
       "<style>#sk-container-id-11 {color: black;background-color: white;}#sk-container-id-11 pre{padding: 0;}#sk-container-id-11 div.sk-toggleable {background-color: white;}#sk-container-id-11 label.sk-toggleable__label {cursor: pointer;display: block;width: 100%;margin-bottom: 0;padding: 0.3em;box-sizing: border-box;text-align: center;}#sk-container-id-11 label.sk-toggleable__label-arrow:before {content: \"▸\";float: left;margin-right: 0.25em;color: #696969;}#sk-container-id-11 label.sk-toggleable__label-arrow:hover:before {color: black;}#sk-container-id-11 div.sk-estimator:hover label.sk-toggleable__label-arrow:before {color: black;}#sk-container-id-11 div.sk-toggleable__content {max-height: 0;max-width: 0;overflow: hidden;text-align: left;background-color: #f0f8ff;}#sk-container-id-11 div.sk-toggleable__content pre {margin: 0.2em;color: black;border-radius: 0.25em;background-color: #f0f8ff;}#sk-container-id-11 input.sk-toggleable__control:checked~div.sk-toggleable__content {max-height: 200px;max-width: 100%;overflow: auto;}#sk-container-id-11 input.sk-toggleable__control:checked~label.sk-toggleable__label-arrow:before {content: \"▾\";}#sk-container-id-11 div.sk-estimator input.sk-toggleable__control:checked~label.sk-toggleable__label {background-color: #d4ebff;}#sk-container-id-11 div.sk-label input.sk-toggleable__control:checked~label.sk-toggleable__label {background-color: #d4ebff;}#sk-container-id-11 input.sk-hidden--visually {border: 0;clip: rect(1px 1px 1px 1px);clip: rect(1px, 1px, 1px, 1px);height: 1px;margin: -1px;overflow: hidden;padding: 0;position: absolute;width: 1px;}#sk-container-id-11 div.sk-estimator {font-family: monospace;background-color: #f0f8ff;border: 1px dotted black;border-radius: 0.25em;box-sizing: border-box;margin-bottom: 0.5em;}#sk-container-id-11 div.sk-estimator:hover {background-color: #d4ebff;}#sk-container-id-11 div.sk-parallel-item::after {content: \"\";width: 100%;border-bottom: 1px solid gray;flex-grow: 1;}#sk-container-id-11 div.sk-label:hover label.sk-toggleable__label {background-color: #d4ebff;}#sk-container-id-11 div.sk-serial::before {content: \"\";position: absolute;border-left: 1px solid gray;box-sizing: border-box;top: 0;bottom: 0;left: 50%;z-index: 0;}#sk-container-id-11 div.sk-serial {display: flex;flex-direction: column;align-items: center;background-color: white;padding-right: 0.2em;padding-left: 0.2em;position: relative;}#sk-container-id-11 div.sk-item {position: relative;z-index: 1;}#sk-container-id-11 div.sk-parallel {display: flex;align-items: stretch;justify-content: center;background-color: white;position: relative;}#sk-container-id-11 div.sk-item::before, #sk-container-id-11 div.sk-parallel-item::before {content: \"\";position: absolute;border-left: 1px solid gray;box-sizing: border-box;top: 0;bottom: 0;left: 50%;z-index: -1;}#sk-container-id-11 div.sk-parallel-item {display: flex;flex-direction: column;z-index: 1;position: relative;background-color: white;}#sk-container-id-11 div.sk-parallel-item:first-child::after {align-self: flex-end;width: 50%;}#sk-container-id-11 div.sk-parallel-item:last-child::after {align-self: flex-start;width: 50%;}#sk-container-id-11 div.sk-parallel-item:only-child::after {width: 0;}#sk-container-id-11 div.sk-dashed-wrapped {border: 1px dashed gray;margin: 0 0.4em 0.5em 0.4em;box-sizing: border-box;padding-bottom: 0.4em;background-color: white;}#sk-container-id-11 div.sk-label label {font-family: monospace;font-weight: bold;display: inline-block;line-height: 1.2em;}#sk-container-id-11 div.sk-label-container {text-align: center;}#sk-container-id-11 div.sk-container {/* jupyter's `normalize.less` sets `[hidden] { display: none; }` but bootstrap.min.css set `[hidden] { display: none !important; }` so we also need the `!important` here to be able to override the default hidden behavior on the sphinx rendered scikit-learn.org. See: https://github.com/scikit-learn/scikit-learn/issues/21755 */display: inline-block !important;position: relative;}#sk-container-id-11 div.sk-text-repr-fallback {display: none;}</style><div id=\"sk-container-id-11\" class=\"sk-top-container\"><div class=\"sk-text-repr-fallback\"><pre>GridSearchCV(cv=5,\n",
       "             estimator=HistGradientBoostingClassifier(l2_regularization=0.0020612244897959186,\n",
       "                                                      learning_rate=0.024241379310344827,\n",
       "                                                      random_state=0),\n",
       "             n_jobs=-1,\n",
       "             param_grid=[{&#x27;max_leaf_nodes&#x27;: array([10, 11, 12, 13, 14, 15, 16, 17, 18, 19, 20])}],\n",
       "             scoring=&#x27;accuracy&#x27;)</pre><b>In a Jupyter environment, please rerun this cell to show the HTML representation or trust the notebook. <br />On GitHub, the HTML representation is unable to render, please try loading this page with nbviewer.org.</b></div><div class=\"sk-container\" hidden><div class=\"sk-item sk-dashed-wrapped\"><div class=\"sk-label-container\"><div class=\"sk-label sk-toggleable\"><input class=\"sk-toggleable__control sk-hidden--visually\" id=\"sk-estimator-id-31\" type=\"checkbox\" ><label for=\"sk-estimator-id-31\" class=\"sk-toggleable__label sk-toggleable__label-arrow\">GridSearchCV</label><div class=\"sk-toggleable__content\"><pre>GridSearchCV(cv=5,\n",
       "             estimator=HistGradientBoostingClassifier(l2_regularization=0.0020612244897959186,\n",
       "                                                      learning_rate=0.024241379310344827,\n",
       "                                                      random_state=0),\n",
       "             n_jobs=-1,\n",
       "             param_grid=[{&#x27;max_leaf_nodes&#x27;: array([10, 11, 12, 13, 14, 15, 16, 17, 18, 19, 20])}],\n",
       "             scoring=&#x27;accuracy&#x27;)</pre></div></div></div><div class=\"sk-parallel\"><div class=\"sk-parallel-item\"><div class=\"sk-item\"><div class=\"sk-label-container\"><div class=\"sk-label sk-toggleable\"><input class=\"sk-toggleable__control sk-hidden--visually\" id=\"sk-estimator-id-32\" type=\"checkbox\" ><label for=\"sk-estimator-id-32\" class=\"sk-toggleable__label sk-toggleable__label-arrow\">estimator: HistGradientBoostingClassifier</label><div class=\"sk-toggleable__content\"><pre>HistGradientBoostingClassifier(l2_regularization=0.0020612244897959186,\n",
       "                               learning_rate=0.024241379310344827,\n",
       "                               random_state=0)</pre></div></div></div><div class=\"sk-serial\"><div class=\"sk-item\"><div class=\"sk-estimator sk-toggleable\"><input class=\"sk-toggleable__control sk-hidden--visually\" id=\"sk-estimator-id-33\" type=\"checkbox\" ><label for=\"sk-estimator-id-33\" class=\"sk-toggleable__label sk-toggleable__label-arrow\">HistGradientBoostingClassifier</label><div class=\"sk-toggleable__content\"><pre>HistGradientBoostingClassifier(l2_regularization=0.0020612244897959186,\n",
       "                               learning_rate=0.024241379310344827,\n",
       "                               random_state=0)</pre></div></div></div></div></div></div></div></div></div></div>"
      ],
      "text/plain": [
       "GridSearchCV(cv=5,\n",
       "             estimator=HistGradientBoostingClassifier(l2_regularization=0.0020612244897959186,\n",
       "                                                      learning_rate=0.024241379310344827,\n",
       "                                                      random_state=0),\n",
       "             n_jobs=-1,\n",
       "             param_grid=[{'max_leaf_nodes': array([10, 11, 12, 13, 14, 15, 16, 17, 18, 19, 20])}],\n",
       "             scoring='accuracy')"
      ]
     },
     "execution_count": 38,
     "metadata": {},
     "output_type": "execute_result"
    }
   ],
   "source": [
    "from sklearn.model_selection import GridSearchCV\n",
    "clf = HistGradientBoostingClassifier(random_state=0, learning_rate=0.024241379310344827, l2_regularization=0.0020612244897959186)\n",
    "parameters = [{\"max_leaf_nodes\": np.arange(10, 21, 1)}]\n",
    "search = GridSearchCV(clf, parameters, cv=5, scoring='accuracy', n_jobs=-1)\n",
    "search.fit(train_df, train_target)"
   ]
  },
  {
   "cell_type": "code",
   "execution_count": 40,
   "metadata": {},
   "outputs": [
    {
     "data": {
      "text/plain": [
       "{'max_leaf_nodes': 19}"
      ]
     },
     "execution_count": 40,
     "metadata": {},
     "output_type": "execute_result"
    }
   ],
   "source": [
    "search.best_params_"
   ]
  },
  {
   "cell_type": "code",
   "execution_count": 41,
   "metadata": {
    "scrolled": true
   },
   "outputs": [
    {
     "data": {
      "text/plain": [
       "{'mean_fit_time': array([3.34229512, 3.60644383, 3.91914091, 3.90649858, 4.09134555,\n",
       "        4.34751701, 4.41912074, 4.49162135, 4.75608945, 4.4874896 ,\n",
       "        3.89425859]),\n",
       " 'std_fit_time': array([0.05832565, 0.11812074, 0.18838694, 0.06663443, 0.0770053 ,\n",
       "        0.05548149, 0.14263481, 0.01892168, 0.07643545, 0.45947685,\n",
       "        0.10306808]),\n",
       " 'mean_score_time': array([0.21269403, 0.23129921, 0.22583833, 0.2309031 , 0.22848053,\n",
       "        0.22931895, 0.23275971, 0.23975139, 0.23932443, 0.2134006 ,\n",
       "        0.18379908]),\n",
       " 'std_score_time': array([0.00353642, 0.01575955, 0.00741019, 0.0091961 , 0.00291619,\n",
       "        0.00532741, 0.00356938, 0.00612743, 0.01326569, 0.01575555,\n",
       "        0.00132598]),\n",
       " 'param_max_leaf_nodes': masked_array(data=[10, 11, 12, 13, 14, 15, 16, 17, 18, 19, 20],\n",
       "              mask=[False, False, False, False, False, False, False, False,\n",
       "                    False, False, False],\n",
       "        fill_value='?',\n",
       "             dtype=object),\n",
       " 'params': [{'max_leaf_nodes': 10},\n",
       "  {'max_leaf_nodes': 11},\n",
       "  {'max_leaf_nodes': 12},\n",
       "  {'max_leaf_nodes': 13},\n",
       "  {'max_leaf_nodes': 14},\n",
       "  {'max_leaf_nodes': 15},\n",
       "  {'max_leaf_nodes': 16},\n",
       "  {'max_leaf_nodes': 17},\n",
       "  {'max_leaf_nodes': 18},\n",
       "  {'max_leaf_nodes': 19},\n",
       "  {'max_leaf_nodes': 20}],\n",
       " 'split0_test_score': array([0.53541667, 0.53229167, 0.53784722, 0.53263889, 0.534375  ,\n",
       "        0.53576389, 0.53229167, 0.53611111, 0.53645833, 0.53784722,\n",
       "        0.53993056]),\n",
       " 'split1_test_score': array([0.54027778, 0.53993056, 0.540625  , 0.54131944, 0.54618056,\n",
       "        0.54201389, 0.54340278, 0.54409722, 0.54479167, 0.54826389,\n",
       "        0.54513889]),\n",
       " 'split2_test_score': array([0.53212921, 0.5328239 , 0.53560264, 0.53942341, 0.53803404,\n",
       "        0.5376867 , 0.5376867 , 0.54046544, 0.54393887, 0.53977075,\n",
       "        0.54289684]),\n",
       " 'split3_test_score': array([0.5328239 , 0.53317124, 0.53108718, 0.53178187, 0.53386593,\n",
       "        0.53456061, 0.53212921, 0.53317124, 0.52969781, 0.53178187,\n",
       "        0.53490795]),\n",
       " 'split4_test_score': array([0.54602292, 0.5522751 , 0.55158041, 0.5498437 , 0.55053838,\n",
       "        0.55401181, 0.55401181, 0.55296978, 0.55123307, 0.55922195,\n",
       "        0.55262244]),\n",
       " 'mean_test_score': array([0.5373341 , 0.53809849, 0.53934849, 0.53900146, 0.54059878,\n",
       "        0.54080738, 0.53990443, 0.54136296, 0.54122395, 0.54337714,\n",
       "        0.54309934]),\n",
       " 'std_test_score': array([0.00520135, 0.00761775, 0.00686708, 0.00656826, 0.00664224,\n",
       "        0.00707121, 0.00818026, 0.00689473, 0.00742758, 0.00951814,\n",
       "        0.00586567]),\n",
       " 'rank_test_score': array([11, 10,  8,  9,  6,  5,  7,  3,  4,  1,  2])}"
      ]
     },
     "execution_count": 41,
     "metadata": {},
     "output_type": "execute_result"
    }
   ],
   "source": [
    "search.cv_results_"
   ]
  },
  {
   "cell_type": "code",
   "execution_count": 42,
   "metadata": {},
   "outputs": [
    {
     "data": {
      "text/plain": [
       "0.6271445440022226"
      ]
     },
     "execution_count": 42,
     "metadata": {},
     "output_type": "execute_result"
    }
   ],
   "source": [
    "clf = HistGradientBoostingClassifier(random_state=0, learning_rate=0.024241379310344827, l2_regularization=0.0020612244897959186, max_leaf_nodes=19)\n",
    "clf.fit(train_df, train_target)\n",
    "clf.score(train_df, train_target)"
   ]
  },
  {
   "cell_type": "code",
   "execution_count": 43,
   "metadata": {},
   "outputs": [
    {
     "data": {
      "text/html": [
       "<style>#sk-container-id-12 {color: black;background-color: white;}#sk-container-id-12 pre{padding: 0;}#sk-container-id-12 div.sk-toggleable {background-color: white;}#sk-container-id-12 label.sk-toggleable__label {cursor: pointer;display: block;width: 100%;margin-bottom: 0;padding: 0.3em;box-sizing: border-box;text-align: center;}#sk-container-id-12 label.sk-toggleable__label-arrow:before {content: \"▸\";float: left;margin-right: 0.25em;color: #696969;}#sk-container-id-12 label.sk-toggleable__label-arrow:hover:before {color: black;}#sk-container-id-12 div.sk-estimator:hover label.sk-toggleable__label-arrow:before {color: black;}#sk-container-id-12 div.sk-toggleable__content {max-height: 0;max-width: 0;overflow: hidden;text-align: left;background-color: #f0f8ff;}#sk-container-id-12 div.sk-toggleable__content pre {margin: 0.2em;color: black;border-radius: 0.25em;background-color: #f0f8ff;}#sk-container-id-12 input.sk-toggleable__control:checked~div.sk-toggleable__content {max-height: 200px;max-width: 100%;overflow: auto;}#sk-container-id-12 input.sk-toggleable__control:checked~label.sk-toggleable__label-arrow:before {content: \"▾\";}#sk-container-id-12 div.sk-estimator input.sk-toggleable__control:checked~label.sk-toggleable__label {background-color: #d4ebff;}#sk-container-id-12 div.sk-label input.sk-toggleable__control:checked~label.sk-toggleable__label {background-color: #d4ebff;}#sk-container-id-12 input.sk-hidden--visually {border: 0;clip: rect(1px 1px 1px 1px);clip: rect(1px, 1px, 1px, 1px);height: 1px;margin: -1px;overflow: hidden;padding: 0;position: absolute;width: 1px;}#sk-container-id-12 div.sk-estimator {font-family: monospace;background-color: #f0f8ff;border: 1px dotted black;border-radius: 0.25em;box-sizing: border-box;margin-bottom: 0.5em;}#sk-container-id-12 div.sk-estimator:hover {background-color: #d4ebff;}#sk-container-id-12 div.sk-parallel-item::after {content: \"\";width: 100%;border-bottom: 1px solid gray;flex-grow: 1;}#sk-container-id-12 div.sk-label:hover label.sk-toggleable__label {background-color: #d4ebff;}#sk-container-id-12 div.sk-serial::before {content: \"\";position: absolute;border-left: 1px solid gray;box-sizing: border-box;top: 0;bottom: 0;left: 50%;z-index: 0;}#sk-container-id-12 div.sk-serial {display: flex;flex-direction: column;align-items: center;background-color: white;padding-right: 0.2em;padding-left: 0.2em;position: relative;}#sk-container-id-12 div.sk-item {position: relative;z-index: 1;}#sk-container-id-12 div.sk-parallel {display: flex;align-items: stretch;justify-content: center;background-color: white;position: relative;}#sk-container-id-12 div.sk-item::before, #sk-container-id-12 div.sk-parallel-item::before {content: \"\";position: absolute;border-left: 1px solid gray;box-sizing: border-box;top: 0;bottom: 0;left: 50%;z-index: -1;}#sk-container-id-12 div.sk-parallel-item {display: flex;flex-direction: column;z-index: 1;position: relative;background-color: white;}#sk-container-id-12 div.sk-parallel-item:first-child::after {align-self: flex-end;width: 50%;}#sk-container-id-12 div.sk-parallel-item:last-child::after {align-self: flex-start;width: 50%;}#sk-container-id-12 div.sk-parallel-item:only-child::after {width: 0;}#sk-container-id-12 div.sk-dashed-wrapped {border: 1px dashed gray;margin: 0 0.4em 0.5em 0.4em;box-sizing: border-box;padding-bottom: 0.4em;background-color: white;}#sk-container-id-12 div.sk-label label {font-family: monospace;font-weight: bold;display: inline-block;line-height: 1.2em;}#sk-container-id-12 div.sk-label-container {text-align: center;}#sk-container-id-12 div.sk-container {/* jupyter's `normalize.less` sets `[hidden] { display: none; }` but bootstrap.min.css set `[hidden] { display: none !important; }` so we also need the `!important` here to be able to override the default hidden behavior on the sphinx rendered scikit-learn.org. See: https://github.com/scikit-learn/scikit-learn/issues/21755 */display: inline-block !important;position: relative;}#sk-container-id-12 div.sk-text-repr-fallback {display: none;}</style><div id=\"sk-container-id-12\" class=\"sk-top-container\"><div class=\"sk-text-repr-fallback\"><pre>GridSearchCV(cv=5,\n",
       "             estimator=HistGradientBoostingClassifier(l2_regularization=0.0020612244897959186,\n",
       "                                                      learning_rate=0.024241379310344827,\n",
       "                                                      max_leaf_nodes=19,\n",
       "                                                      random_state=0),\n",
       "             n_jobs=-1,\n",
       "             param_grid=[{&#x27;min_samples_leaf&#x27;: array([10, 11, 12, 13, 14, 15, 16, 17, 18, 19, 20, 21, 22, 23, 24, 25, 26,\n",
       "       27, 28, 29, 30, 31, 32, 33, 34, 35, 36, 37, 38, 39])}],\n",
       "             scoring=&#x27;accuracy&#x27;)</pre><b>In a Jupyter environment, please rerun this cell to show the HTML representation or trust the notebook. <br />On GitHub, the HTML representation is unable to render, please try loading this page with nbviewer.org.</b></div><div class=\"sk-container\" hidden><div class=\"sk-item sk-dashed-wrapped\"><div class=\"sk-label-container\"><div class=\"sk-label sk-toggleable\"><input class=\"sk-toggleable__control sk-hidden--visually\" id=\"sk-estimator-id-34\" type=\"checkbox\" ><label for=\"sk-estimator-id-34\" class=\"sk-toggleable__label sk-toggleable__label-arrow\">GridSearchCV</label><div class=\"sk-toggleable__content\"><pre>GridSearchCV(cv=5,\n",
       "             estimator=HistGradientBoostingClassifier(l2_regularization=0.0020612244897959186,\n",
       "                                                      learning_rate=0.024241379310344827,\n",
       "                                                      max_leaf_nodes=19,\n",
       "                                                      random_state=0),\n",
       "             n_jobs=-1,\n",
       "             param_grid=[{&#x27;min_samples_leaf&#x27;: array([10, 11, 12, 13, 14, 15, 16, 17, 18, 19, 20, 21, 22, 23, 24, 25, 26,\n",
       "       27, 28, 29, 30, 31, 32, 33, 34, 35, 36, 37, 38, 39])}],\n",
       "             scoring=&#x27;accuracy&#x27;)</pre></div></div></div><div class=\"sk-parallel\"><div class=\"sk-parallel-item\"><div class=\"sk-item\"><div class=\"sk-label-container\"><div class=\"sk-label sk-toggleable\"><input class=\"sk-toggleable__control sk-hidden--visually\" id=\"sk-estimator-id-35\" type=\"checkbox\" ><label for=\"sk-estimator-id-35\" class=\"sk-toggleable__label sk-toggleable__label-arrow\">estimator: HistGradientBoostingClassifier</label><div class=\"sk-toggleable__content\"><pre>HistGradientBoostingClassifier(l2_regularization=0.0020612244897959186,\n",
       "                               learning_rate=0.024241379310344827,\n",
       "                               max_leaf_nodes=19, random_state=0)</pre></div></div></div><div class=\"sk-serial\"><div class=\"sk-item\"><div class=\"sk-estimator sk-toggleable\"><input class=\"sk-toggleable__control sk-hidden--visually\" id=\"sk-estimator-id-36\" type=\"checkbox\" ><label for=\"sk-estimator-id-36\" class=\"sk-toggleable__label sk-toggleable__label-arrow\">HistGradientBoostingClassifier</label><div class=\"sk-toggleable__content\"><pre>HistGradientBoostingClassifier(l2_regularization=0.0020612244897959186,\n",
       "                               learning_rate=0.024241379310344827,\n",
       "                               max_leaf_nodes=19, random_state=0)</pre></div></div></div></div></div></div></div></div></div></div>"
      ],
      "text/plain": [
       "GridSearchCV(cv=5,\n",
       "             estimator=HistGradientBoostingClassifier(l2_regularization=0.0020612244897959186,\n",
       "                                                      learning_rate=0.024241379310344827,\n",
       "                                                      max_leaf_nodes=19,\n",
       "                                                      random_state=0),\n",
       "             n_jobs=-1,\n",
       "             param_grid=[{'min_samples_leaf': array([10, 11, 12, 13, 14, 15, 16, 17, 18, 19, 20, 21, 22, 23, 24, 25, 26,\n",
       "       27, 28, 29, 30, 31, 32, 33, 34, 35, 36, 37, 38, 39])}],\n",
       "             scoring='accuracy')"
      ]
     },
     "execution_count": 43,
     "metadata": {},
     "output_type": "execute_result"
    }
   ],
   "source": [
    "from sklearn.model_selection import GridSearchCV\n",
    "clf = HistGradientBoostingClassifier(random_state=0, learning_rate=0.024241379310344827, l2_regularization=0.0020612244897959186, max_leaf_nodes=19)\n",
    "parameters = [{\"min_samples_leaf\": np.arange(10, 40, 1)}]\n",
    "search = GridSearchCV(clf, parameters, cv=5, scoring='accuracy', n_jobs=-1)\n",
    "search.fit(train_df, train_target)"
   ]
  },
  {
   "cell_type": "code",
   "execution_count": 44,
   "metadata": {},
   "outputs": [
    {
     "data": {
      "text/plain": [
       "{'min_samples_leaf': 21}"
      ]
     },
     "execution_count": 44,
     "metadata": {},
     "output_type": "execute_result"
    }
   ],
   "source": [
    "search.best_params_"
   ]
  },
  {
   "cell_type": "code",
   "execution_count": 45,
   "metadata": {},
   "outputs": [
    {
     "data": {
      "text/plain": [
       "{'mean_fit_time': array([4.99290919, 5.00690856, 4.98410621, 4.930059  , 4.93999519,\n",
       "        4.96744113, 4.94147615, 4.93261499, 4.96236105, 4.91895452,\n",
       "        4.92166977, 4.90188408, 4.93132677, 4.84416037, 4.90003724,\n",
       "        4.87702732, 4.85697756, 4.86339426, 4.89162707, 4.80337944,\n",
       "        4.82189274, 4.83091927, 4.83886752, 4.77462668, 4.81069307,\n",
       "        4.86946931, 4.92538476, 4.9227879 , 4.65519223, 3.32608633]),\n",
       " 'std_fit_time': array([0.03652634, 0.04588815, 0.03949461, 0.02985148, 0.04041482,\n",
       "        0.04644201, 0.02830101, 0.05964099, 0.09156167, 0.08409443,\n",
       "        0.05751879, 0.07913171, 0.06989568, 0.01947947, 0.05319775,\n",
       "        0.04065151, 0.03036942, 0.01941148, 0.0815466 , 0.01772451,\n",
       "        0.03903656, 0.06072623, 0.05327099, 0.03442096, 0.05237226,\n",
       "        0.02456974, 0.03015128, 0.05092682, 0.62787579, 0.03549667]),\n",
       " 'mean_score_time': array([0.22320271, 0.23624492, 0.22966633, 0.22909837, 0.22668891,\n",
       "        0.23405991, 0.2301753 , 0.23825407, 0.23662925, 0.236374  ,\n",
       "        0.23366323, 0.23584881, 0.24486337, 0.23484721, 0.23474789,\n",
       "        0.2400878 , 0.23879714, 0.2398942 , 0.24693027, 0.24259768,\n",
       "        0.24572115, 0.25028114, 0.24439993, 0.23840055, 0.24812541,\n",
       "        0.25945296, 0.24045253, 0.25625725, 0.21020064, 0.18500037]),\n",
       " 'std_score_time': array([0.00541655, 0.01605375, 0.0093373 , 0.00366231, 0.0079642 ,\n",
       "        0.01123757, 0.00567659, 0.01357618, 0.01307087, 0.00518561,\n",
       "        0.01478473, 0.00413068, 0.00680073, 0.00859225, 0.00425214,\n",
       "        0.00290685, 0.00724998, 0.00695236, 0.01275723, 0.00734357,\n",
       "        0.01284436, 0.01243743, 0.0108187 , 0.00387768, 0.01672054,\n",
       "        0.01661664, 0.00327241, 0.01565153, 0.01016646, 0.00529074]),\n",
       " 'param_min_samples_leaf': masked_array(data=[10, 11, 12, 13, 14, 15, 16, 17, 18, 19, 20, 21, 22, 23,\n",
       "                    24, 25, 26, 27, 28, 29, 30, 31, 32, 33, 34, 35, 36, 37,\n",
       "                    38, 39],\n",
       "              mask=[False, False, False, False, False, False, False, False,\n",
       "                    False, False, False, False, False, False, False, False,\n",
       "                    False, False, False, False, False, False, False, False,\n",
       "                    False, False, False, False, False, False],\n",
       "        fill_value='?',\n",
       "             dtype=object),\n",
       " 'params': [{'min_samples_leaf': 10},\n",
       "  {'min_samples_leaf': 11},\n",
       "  {'min_samples_leaf': 12},\n",
       "  {'min_samples_leaf': 13},\n",
       "  {'min_samples_leaf': 14},\n",
       "  {'min_samples_leaf': 15},\n",
       "  {'min_samples_leaf': 16},\n",
       "  {'min_samples_leaf': 17},\n",
       "  {'min_samples_leaf': 18},\n",
       "  {'min_samples_leaf': 19},\n",
       "  {'min_samples_leaf': 20},\n",
       "  {'min_samples_leaf': 21},\n",
       "  {'min_samples_leaf': 22},\n",
       "  {'min_samples_leaf': 23},\n",
       "  {'min_samples_leaf': 24},\n",
       "  {'min_samples_leaf': 25},\n",
       "  {'min_samples_leaf': 26},\n",
       "  {'min_samples_leaf': 27},\n",
       "  {'min_samples_leaf': 28},\n",
       "  {'min_samples_leaf': 29},\n",
       "  {'min_samples_leaf': 30},\n",
       "  {'min_samples_leaf': 31},\n",
       "  {'min_samples_leaf': 32},\n",
       "  {'min_samples_leaf': 33},\n",
       "  {'min_samples_leaf': 34},\n",
       "  {'min_samples_leaf': 35},\n",
       "  {'min_samples_leaf': 36},\n",
       "  {'min_samples_leaf': 37},\n",
       "  {'min_samples_leaf': 38},\n",
       "  {'min_samples_leaf': 39}],\n",
       " 'split0_test_score': array([0.53888889, 0.54236111, 0.53854167, 0.53819444, 0.54236111,\n",
       "        0.53854167, 0.54166667, 0.54444444, 0.54583333, 0.53680556,\n",
       "        0.53784722, 0.53888889, 0.53923611, 0.53854167, 0.53819444,\n",
       "        0.53854167, 0.53680556, 0.53541667, 0.53368056, 0.53854167,\n",
       "        0.54097222, 0.53506944, 0.53888889, 0.53819444, 0.53611111,\n",
       "        0.53541667, 0.53888889, 0.53472222, 0.53506944, 0.53611111]),\n",
       " 'split1_test_score': array([0.53993056, 0.53993056, 0.54375   , 0.53888889, 0.53993056,\n",
       "        0.53993056, 0.54340278, 0.54409722, 0.54513889, 0.54479167,\n",
       "        0.54826389, 0.54618056, 0.54340278, 0.54305556, 0.53819444,\n",
       "        0.54166667, 0.54201389, 0.54375   , 0.54027778, 0.54270833,\n",
       "        0.54375   , 0.54444444, 0.54131944, 0.53993056, 0.540625  ,\n",
       "        0.54201389, 0.540625  , 0.53923611, 0.53854167, 0.53923611]),\n",
       " 'split2_test_score': array([0.54289684, 0.53907607, 0.54289684, 0.54220215, 0.5425495 ,\n",
       "        0.54116013, 0.54289684, 0.54081278, 0.54289684, 0.54289684,\n",
       "        0.53977075, 0.54359152, 0.54393887, 0.5449809 , 0.53977075,\n",
       "        0.53977075, 0.54116013, 0.5425495 , 0.54324418, 0.54359152,\n",
       "        0.54359152, 0.5425495 , 0.5449809 , 0.54463355, 0.5474123 ,\n",
       "        0.54637027, 0.54775964, 0.54706495, 0.54185481, 0.5449809 ]),\n",
       " 'split3_test_score': array([0.53178187, 0.53178187, 0.53386593, 0.52935047, 0.53143453,\n",
       "        0.53317124, 0.53351858, 0.53178187, 0.53456061, 0.5352553 ,\n",
       "        0.53178187, 0.5352553 , 0.53664467, 0.53456061, 0.5328239 ,\n",
       "        0.53699201, 0.53699201, 0.5376867 , 0.5352553 , 0.53872873,\n",
       "        0.53560264, 0.53317124, 0.53490795, 0.5328239 , 0.53247655,\n",
       "        0.53594998, 0.53594998, 0.53664467, 0.53247655, 0.53143453]),\n",
       " 'split4_test_score': array([0.55192775, 0.55366447, 0.54706495, 0.55192775, 0.55401181,\n",
       "        0.55088572, 0.55088572, 0.55158041, 0.55192775, 0.55679055,\n",
       "        0.55922195, 0.55783258, 0.55817992, 0.55540118, 0.55401181,\n",
       "        0.5547065 , 0.55679055, 0.55991664, 0.55505384, 0.55123307,\n",
       "        0.55679055, 0.55540118, 0.55505384, 0.55644321, 0.55852727,\n",
       "        0.55366447, 0.5571379 , 0.55435915, 0.55540118, 0.55609587]),\n",
       " 'mean_test_score': array([0.54108518, 0.54136281, 0.54122388, 0.54011274, 0.5420575 ,\n",
       "        0.54073786, 0.54247412, 0.54254335, 0.54407149, 0.54330798,\n",
       "        0.54337714, 0.54434977, 0.54428047, 0.54330798, 0.54059907,\n",
       "        0.54233552, 0.54275243, 0.5438639 , 0.54150233, 0.54296066,\n",
       "        0.54414139, 0.54212716, 0.5430302 , 0.54240513, 0.54303045,\n",
       "        0.54268305, 0.54407228, 0.54240542, 0.54066873, 0.5415717 ]),\n",
       " 'std_test_score': array([0.00653532, 0.00709087, 0.00457454, 0.00727962, 0.00721957,\n",
       "        0.00575997, 0.00552539, 0.00642653, 0.00561785, 0.00763253,\n",
       "        0.00951814, 0.00772326, 0.0074543 , 0.00704758, 0.00710782,\n",
       "        0.00637201, 0.00733072, 0.00859005, 0.0075945 , 0.00461153,\n",
       "        0.00697726, 0.00789643, 0.00684721, 0.00797103, 0.00921303,\n",
       "        0.00682304, 0.00760302, 0.00730569, 0.00801798, 0.00849246]),\n",
       " 'rank_test_score': array([26, 24, 25, 30, 21, 27, 16, 15,  5,  8,  7,  1,  2,  9, 29, 19, 13,\n",
       "         6, 23, 12,  3, 20, 11, 18, 10, 14,  4, 17, 28, 22])}"
      ]
     },
     "execution_count": 45,
     "metadata": {},
     "output_type": "execute_result"
    }
   ],
   "source": [
    "search.cv_results_"
   ]
  },
  {
   "cell_type": "code",
   "execution_count": 46,
   "metadata": {},
   "outputs": [
    {
     "data": {
      "text/html": [
       "<style>#sk-container-id-13 {color: black;background-color: white;}#sk-container-id-13 pre{padding: 0;}#sk-container-id-13 div.sk-toggleable {background-color: white;}#sk-container-id-13 label.sk-toggleable__label {cursor: pointer;display: block;width: 100%;margin-bottom: 0;padding: 0.3em;box-sizing: border-box;text-align: center;}#sk-container-id-13 label.sk-toggleable__label-arrow:before {content: \"▸\";float: left;margin-right: 0.25em;color: #696969;}#sk-container-id-13 label.sk-toggleable__label-arrow:hover:before {color: black;}#sk-container-id-13 div.sk-estimator:hover label.sk-toggleable__label-arrow:before {color: black;}#sk-container-id-13 div.sk-toggleable__content {max-height: 0;max-width: 0;overflow: hidden;text-align: left;background-color: #f0f8ff;}#sk-container-id-13 div.sk-toggleable__content pre {margin: 0.2em;color: black;border-radius: 0.25em;background-color: #f0f8ff;}#sk-container-id-13 input.sk-toggleable__control:checked~div.sk-toggleable__content {max-height: 200px;max-width: 100%;overflow: auto;}#sk-container-id-13 input.sk-toggleable__control:checked~label.sk-toggleable__label-arrow:before {content: \"▾\";}#sk-container-id-13 div.sk-estimator input.sk-toggleable__control:checked~label.sk-toggleable__label {background-color: #d4ebff;}#sk-container-id-13 div.sk-label input.sk-toggleable__control:checked~label.sk-toggleable__label {background-color: #d4ebff;}#sk-container-id-13 input.sk-hidden--visually {border: 0;clip: rect(1px 1px 1px 1px);clip: rect(1px, 1px, 1px, 1px);height: 1px;margin: -1px;overflow: hidden;padding: 0;position: absolute;width: 1px;}#sk-container-id-13 div.sk-estimator {font-family: monospace;background-color: #f0f8ff;border: 1px dotted black;border-radius: 0.25em;box-sizing: border-box;margin-bottom: 0.5em;}#sk-container-id-13 div.sk-estimator:hover {background-color: #d4ebff;}#sk-container-id-13 div.sk-parallel-item::after {content: \"\";width: 100%;border-bottom: 1px solid gray;flex-grow: 1;}#sk-container-id-13 div.sk-label:hover label.sk-toggleable__label {background-color: #d4ebff;}#sk-container-id-13 div.sk-serial::before {content: \"\";position: absolute;border-left: 1px solid gray;box-sizing: border-box;top: 0;bottom: 0;left: 50%;z-index: 0;}#sk-container-id-13 div.sk-serial {display: flex;flex-direction: column;align-items: center;background-color: white;padding-right: 0.2em;padding-left: 0.2em;position: relative;}#sk-container-id-13 div.sk-item {position: relative;z-index: 1;}#sk-container-id-13 div.sk-parallel {display: flex;align-items: stretch;justify-content: center;background-color: white;position: relative;}#sk-container-id-13 div.sk-item::before, #sk-container-id-13 div.sk-parallel-item::before {content: \"\";position: absolute;border-left: 1px solid gray;box-sizing: border-box;top: 0;bottom: 0;left: 50%;z-index: -1;}#sk-container-id-13 div.sk-parallel-item {display: flex;flex-direction: column;z-index: 1;position: relative;background-color: white;}#sk-container-id-13 div.sk-parallel-item:first-child::after {align-self: flex-end;width: 50%;}#sk-container-id-13 div.sk-parallel-item:last-child::after {align-self: flex-start;width: 50%;}#sk-container-id-13 div.sk-parallel-item:only-child::after {width: 0;}#sk-container-id-13 div.sk-dashed-wrapped {border: 1px dashed gray;margin: 0 0.4em 0.5em 0.4em;box-sizing: border-box;padding-bottom: 0.4em;background-color: white;}#sk-container-id-13 div.sk-label label {font-family: monospace;font-weight: bold;display: inline-block;line-height: 1.2em;}#sk-container-id-13 div.sk-label-container {text-align: center;}#sk-container-id-13 div.sk-container {/* jupyter's `normalize.less` sets `[hidden] { display: none; }` but bootstrap.min.css set `[hidden] { display: none !important; }` so we also need the `!important` here to be able to override the default hidden behavior on the sphinx rendered scikit-learn.org. See: https://github.com/scikit-learn/scikit-learn/issues/21755 */display: inline-block !important;position: relative;}#sk-container-id-13 div.sk-text-repr-fallback {display: none;}</style><div id=\"sk-container-id-13\" class=\"sk-top-container\"><div class=\"sk-text-repr-fallback\"><pre>GridSearchCV(cv=5,\n",
       "             estimator=HistGradientBoostingClassifier(l2_regularization=0.0020612244897959186,\n",
       "                                                      learning_rate=0.024241379310344827,\n",
       "                                                      max_leaf_nodes=19,\n",
       "                                                      min_samples_leaf=21,\n",
       "                                                      random_state=0),\n",
       "             n_jobs=-1,\n",
       "             param_grid=[{&#x27;max_depth&#x27;: array([10, 11, 12, 13, 14, 15, 16, 17, 18, 19, 20, 21, 22, 23, 24, 25, 26,\n",
       "       27, 28, 29, 30, 31, 32, 33, 34, 35, 36, 37, 38, 39])}],\n",
       "             scoring=&#x27;accuracy&#x27;)</pre><b>In a Jupyter environment, please rerun this cell to show the HTML representation or trust the notebook. <br />On GitHub, the HTML representation is unable to render, please try loading this page with nbviewer.org.</b></div><div class=\"sk-container\" hidden><div class=\"sk-item sk-dashed-wrapped\"><div class=\"sk-label-container\"><div class=\"sk-label sk-toggleable\"><input class=\"sk-toggleable__control sk-hidden--visually\" id=\"sk-estimator-id-37\" type=\"checkbox\" ><label for=\"sk-estimator-id-37\" class=\"sk-toggleable__label sk-toggleable__label-arrow\">GridSearchCV</label><div class=\"sk-toggleable__content\"><pre>GridSearchCV(cv=5,\n",
       "             estimator=HistGradientBoostingClassifier(l2_regularization=0.0020612244897959186,\n",
       "                                                      learning_rate=0.024241379310344827,\n",
       "                                                      max_leaf_nodes=19,\n",
       "                                                      min_samples_leaf=21,\n",
       "                                                      random_state=0),\n",
       "             n_jobs=-1,\n",
       "             param_grid=[{&#x27;max_depth&#x27;: array([10, 11, 12, 13, 14, 15, 16, 17, 18, 19, 20, 21, 22, 23, 24, 25, 26,\n",
       "       27, 28, 29, 30, 31, 32, 33, 34, 35, 36, 37, 38, 39])}],\n",
       "             scoring=&#x27;accuracy&#x27;)</pre></div></div></div><div class=\"sk-parallel\"><div class=\"sk-parallel-item\"><div class=\"sk-item\"><div class=\"sk-label-container\"><div class=\"sk-label sk-toggleable\"><input class=\"sk-toggleable__control sk-hidden--visually\" id=\"sk-estimator-id-38\" type=\"checkbox\" ><label for=\"sk-estimator-id-38\" class=\"sk-toggleable__label sk-toggleable__label-arrow\">estimator: HistGradientBoostingClassifier</label><div class=\"sk-toggleable__content\"><pre>HistGradientBoostingClassifier(l2_regularization=0.0020612244897959186,\n",
       "                               learning_rate=0.024241379310344827,\n",
       "                               max_leaf_nodes=19, min_samples_leaf=21,\n",
       "                               random_state=0)</pre></div></div></div><div class=\"sk-serial\"><div class=\"sk-item\"><div class=\"sk-estimator sk-toggleable\"><input class=\"sk-toggleable__control sk-hidden--visually\" id=\"sk-estimator-id-39\" type=\"checkbox\" ><label for=\"sk-estimator-id-39\" class=\"sk-toggleable__label sk-toggleable__label-arrow\">HistGradientBoostingClassifier</label><div class=\"sk-toggleable__content\"><pre>HistGradientBoostingClassifier(l2_regularization=0.0020612244897959186,\n",
       "                               learning_rate=0.024241379310344827,\n",
       "                               max_leaf_nodes=19, min_samples_leaf=21,\n",
       "                               random_state=0)</pre></div></div></div></div></div></div></div></div></div></div>"
      ],
      "text/plain": [
       "GridSearchCV(cv=5,\n",
       "             estimator=HistGradientBoostingClassifier(l2_regularization=0.0020612244897959186,\n",
       "                                                      learning_rate=0.024241379310344827,\n",
       "                                                      max_leaf_nodes=19,\n",
       "                                                      min_samples_leaf=21,\n",
       "                                                      random_state=0),\n",
       "             n_jobs=-1,\n",
       "             param_grid=[{'max_depth': array([10, 11, 12, 13, 14, 15, 16, 17, 18, 19, 20, 21, 22, 23, 24, 25, 26,\n",
       "       27, 28, 29, 30, 31, 32, 33, 34, 35, 36, 37, 38, 39])}],\n",
       "             scoring='accuracy')"
      ]
     },
     "execution_count": 46,
     "metadata": {},
     "output_type": "execute_result"
    }
   ],
   "source": [
    "from sklearn.model_selection import GridSearchCV\n",
    "clf = HistGradientBoostingClassifier(random_state=0, learning_rate=0.024241379310344827, l2_regularization=0.0020612244897959186, max_leaf_nodes=19, min_samples_leaf=21)\n",
    "parameters = [{\"max_depth\": np.arange(10, 40, 1)}]\n",
    "search = GridSearchCV(clf, parameters, cv=5, scoring='accuracy', n_jobs=-1)\n",
    "search.fit(train_df, train_target)"
   ]
  },
  {
   "cell_type": "code",
   "execution_count": 47,
   "metadata": {},
   "outputs": [
    {
     "data": {
      "text/plain": [
       "{'max_depth': 17}"
      ]
     },
     "execution_count": 47,
     "metadata": {},
     "output_type": "execute_result"
    }
   ],
   "source": [
    "search.best_params_"
   ]
  },
  {
   "cell_type": "code",
   "execution_count": 48,
   "metadata": {
    "scrolled": false
   },
   "outputs": [
    {
     "data": {
      "text/plain": [
       "{'mean_fit_time': array([4.92091107, 5.07095609, 5.12519827, 4.87006054, 5.07656898,\n",
       "        5.19996862, 5.02676849, 4.89416628, 4.91142468, 4.88901629,\n",
       "        4.86420999, 4.85488229, 4.88974609, 4.87119775, 4.85379949,\n",
       "        4.90420022, 4.92861276, 4.98804774, 5.09664698, 4.9084332 ,\n",
       "        4.87412891, 4.88272877, 4.86474419, 4.82681584, 4.90681725,\n",
       "        4.94697409, 4.91750669, 4.97150302, 4.70250788, 3.38877521]),\n",
       " 'std_fit_time': array([0.11223912, 0.13294935, 0.08090993, 0.05006354, 0.11909953,\n",
       "        0.19445398, 0.2134665 , 0.0172403 , 0.03988522, 0.05301203,\n",
       "        0.03182349, 0.04435582, 0.05104415, 0.04617124, 0.04257237,\n",
       "        0.04687512, 0.08612985, 0.05436344, 0.03550447, 0.11826942,\n",
       "        0.07406683, 0.03396862, 0.04114443, 0.02966432, 0.027532  ,\n",
       "        0.0439522 , 0.01834607, 0.0935111 , 0.61695818, 0.10039144]),\n",
       " 'mean_score_time': array([0.2324894 , 0.2372448 , 0.24260216, 0.23387461, 0.24819932,\n",
       "        0.25199962, 0.25100079, 0.23859344, 0.23599944, 0.24079952,\n",
       "        0.23880081, 0.2363996 , 0.24280124, 0.24340105, 0.234199  ,\n",
       "        0.24039874, 0.23683453, 0.23720064, 0.24279852, 0.24139981,\n",
       "        0.23599954, 0.23579931, 0.23879962, 0.2376018 , 0.23620081,\n",
       "        0.23851295, 0.2366004 , 0.22960238, 0.20258102, 0.17971439]),\n",
       " 'std_score_time': array([0.00511389, 0.00638581, 0.00516021, 0.00411964, 0.01818157,\n",
       "        0.01952405, 0.01546597, 0.00635551, 0.00892252, 0.00370858,\n",
       "        0.00457837, 0.0076578 , 0.00342912, 0.01080108, 0.00449177,\n",
       "        0.00412781, 0.00206103, 0.00767932, 0.0051545 , 0.00344215,\n",
       "        0.00586581, 0.00430783, 0.00430747, 0.00668084, 0.00318923,\n",
       "        0.00361554, 0.0076308 , 0.00662264, 0.01125223, 0.00749166]),\n",
       " 'param_max_depth': masked_array(data=[10, 11, 12, 13, 14, 15, 16, 17, 18, 19, 20, 21, 22, 23,\n",
       "                    24, 25, 26, 27, 28, 29, 30, 31, 32, 33, 34, 35, 36, 37,\n",
       "                    38, 39],\n",
       "              mask=[False, False, False, False, False, False, False, False,\n",
       "                    False, False, False, False, False, False, False, False,\n",
       "                    False, False, False, False, False, False, False, False,\n",
       "                    False, False, False, False, False, False],\n",
       "        fill_value='?',\n",
       "             dtype=object),\n",
       " 'params': [{'max_depth': 10},\n",
       "  {'max_depth': 11},\n",
       "  {'max_depth': 12},\n",
       "  {'max_depth': 13},\n",
       "  {'max_depth': 14},\n",
       "  {'max_depth': 15},\n",
       "  {'max_depth': 16},\n",
       "  {'max_depth': 17},\n",
       "  {'max_depth': 18},\n",
       "  {'max_depth': 19},\n",
       "  {'max_depth': 20},\n",
       "  {'max_depth': 21},\n",
       "  {'max_depth': 22},\n",
       "  {'max_depth': 23},\n",
       "  {'max_depth': 24},\n",
       "  {'max_depth': 25},\n",
       "  {'max_depth': 26},\n",
       "  {'max_depth': 27},\n",
       "  {'max_depth': 28},\n",
       "  {'max_depth': 29},\n",
       "  {'max_depth': 30},\n",
       "  {'max_depth': 31},\n",
       "  {'max_depth': 32},\n",
       "  {'max_depth': 33},\n",
       "  {'max_depth': 34},\n",
       "  {'max_depth': 35},\n",
       "  {'max_depth': 36},\n",
       "  {'max_depth': 37},\n",
       "  {'max_depth': 38},\n",
       "  {'max_depth': 39}],\n",
       " 'split0_test_score': array([0.534375  , 0.53541667, 0.534375  , 0.53680556, 0.53680556,\n",
       "        0.53888889, 0.53888889, 0.53888889, 0.53888889, 0.53888889,\n",
       "        0.53888889, 0.53888889, 0.53888889, 0.53888889, 0.53888889,\n",
       "        0.53888889, 0.53888889, 0.53888889, 0.53888889, 0.53888889,\n",
       "        0.53888889, 0.53888889, 0.53888889, 0.53888889, 0.53888889,\n",
       "        0.53888889, 0.53888889, 0.53888889, 0.53888889, 0.53888889]),\n",
       " 'split1_test_score': array([0.54479167, 0.54305556, 0.54375   , 0.54444444, 0.54513889,\n",
       "        0.54097222, 0.54618056, 0.54618056, 0.54618056, 0.54618056,\n",
       "        0.54618056, 0.54618056, 0.54618056, 0.54618056, 0.54618056,\n",
       "        0.54618056, 0.54618056, 0.54618056, 0.54618056, 0.54618056,\n",
       "        0.54618056, 0.54618056, 0.54618056, 0.54618056, 0.54618056,\n",
       "        0.54618056, 0.54618056, 0.54618056, 0.54618056, 0.54618056]),\n",
       " 'split2_test_score': array([0.54046544, 0.54393887, 0.54220215, 0.54185481, 0.5449809 ,\n",
       "        0.54185481, 0.54359152, 0.54359152, 0.54359152, 0.54359152,\n",
       "        0.54359152, 0.54359152, 0.54359152, 0.54359152, 0.54359152,\n",
       "        0.54359152, 0.54359152, 0.54359152, 0.54359152, 0.54359152,\n",
       "        0.54359152, 0.54359152, 0.54359152, 0.54359152, 0.54359152,\n",
       "        0.54359152, 0.54359152, 0.54359152, 0.54359152, 0.54359152]),\n",
       " 'split3_test_score': array([0.53073984, 0.53212921, 0.53386593, 0.53351858, 0.53351858,\n",
       "        0.53386593, 0.5352553 , 0.5352553 , 0.5352553 , 0.5352553 ,\n",
       "        0.5352553 , 0.5352553 , 0.5352553 , 0.5352553 , 0.5352553 ,\n",
       "        0.5352553 , 0.5352553 , 0.5352553 , 0.5352553 , 0.5352553 ,\n",
       "        0.5352553 , 0.5352553 , 0.5352553 , 0.5352553 , 0.5352553 ,\n",
       "        0.5352553 , 0.5352553 , 0.5352553 , 0.5352553 , 0.5352553 ]),\n",
       " 'split4_test_score': array([0.55644321, 0.55991664, 0.55574852, 0.55956929, 0.55435915,\n",
       "        0.55852727, 0.55748524, 0.55783258, 0.55783258, 0.55783258,\n",
       "        0.55783258, 0.55783258, 0.55783258, 0.55783258, 0.55783258,\n",
       "        0.55783258, 0.55783258, 0.55783258, 0.55783258, 0.55783258,\n",
       "        0.55783258, 0.55783258, 0.55783258, 0.55783258, 0.55783258,\n",
       "        0.55783258, 0.55783258, 0.55783258, 0.55783258, 0.55783258]),\n",
       " 'mean_test_score': array([0.54136303, 0.54289139, 0.54198832, 0.54323854, 0.54296062,\n",
       "        0.54282182, 0.5442803 , 0.54434977, 0.54434977, 0.54434977,\n",
       "        0.54434977, 0.54434977, 0.54434977, 0.54434977, 0.54434977,\n",
       "        0.54434977, 0.54434977, 0.54434977, 0.54434977, 0.54434977,\n",
       "        0.54434977, 0.54434977, 0.54434977, 0.54434977, 0.54434977,\n",
       "        0.54434977, 0.54434977, 0.54434977, 0.54434977, 0.54434977]),\n",
       " 'std_test_score': array([0.00896279, 0.00961956, 0.00795523, 0.00901025, 0.00729095,\n",
       "        0.00832698, 0.00760229, 0.00772326, 0.00772326, 0.00772326,\n",
       "        0.00772326, 0.00772326, 0.00772326, 0.00772326, 0.00772326,\n",
       "        0.00772326, 0.00772326, 0.00772326, 0.00772326, 0.00772326,\n",
       "        0.00772326, 0.00772326, 0.00772326, 0.00772326, 0.00772326,\n",
       "        0.00772326, 0.00772326, 0.00772326, 0.00772326, 0.00772326]),\n",
       " 'rank_test_score': array([30, 27, 29, 25, 26, 28, 24,  1,  1,  1,  1,  1,  1,  1,  1,  1,  1,\n",
       "         1,  1,  1,  1,  1,  1,  1,  1,  1,  1,  1,  1,  1])}"
      ]
     },
     "execution_count": 48,
     "metadata": {},
     "output_type": "execute_result"
    }
   ],
   "source": [
    "search.cv_results_"
   ]
  },
  {
   "cell_type": "code",
   "execution_count": 21,
   "metadata": {},
   "outputs": [
    {
     "data": {
      "text/plain": [
       "0.6275612974925332"
      ]
     },
     "execution_count": 21,
     "metadata": {},
     "output_type": "execute_result"
    }
   ],
   "source": [
    "clf = HistGradientBoostingClassifier(random_state=0, learning_rate=0.024241379310344827, l2_regularization=0.0020612244897959186, max_leaf_nodes=19, min_samples_leaf=21, max_depth=30)\n",
    "clf.fit(train_df, train_target)\n",
    "clf.score(train_df, train_target)"
   ]
  },
  {
   "cell_type": "markdown",
   "metadata": {},
   "source": [
    "# FULL GRID"
   ]
  },
  {
   "cell_type": "code",
   "execution_count": 23,
   "metadata": {
    "scrolled": true
   },
   "outputs": [
    {
     "data": {
      "text/html": [
       "<style>#sk-container-id-1 {color: black;background-color: white;}#sk-container-id-1 pre{padding: 0;}#sk-container-id-1 div.sk-toggleable {background-color: white;}#sk-container-id-1 label.sk-toggleable__label {cursor: pointer;display: block;width: 100%;margin-bottom: 0;padding: 0.3em;box-sizing: border-box;text-align: center;}#sk-container-id-1 label.sk-toggleable__label-arrow:before {content: \"▸\";float: left;margin-right: 0.25em;color: #696969;}#sk-container-id-1 label.sk-toggleable__label-arrow:hover:before {color: black;}#sk-container-id-1 div.sk-estimator:hover label.sk-toggleable__label-arrow:before {color: black;}#sk-container-id-1 div.sk-toggleable__content {max-height: 0;max-width: 0;overflow: hidden;text-align: left;background-color: #f0f8ff;}#sk-container-id-1 div.sk-toggleable__content pre {margin: 0.2em;color: black;border-radius: 0.25em;background-color: #f0f8ff;}#sk-container-id-1 input.sk-toggleable__control:checked~div.sk-toggleable__content {max-height: 200px;max-width: 100%;overflow: auto;}#sk-container-id-1 input.sk-toggleable__control:checked~label.sk-toggleable__label-arrow:before {content: \"▾\";}#sk-container-id-1 div.sk-estimator input.sk-toggleable__control:checked~label.sk-toggleable__label {background-color: #d4ebff;}#sk-container-id-1 div.sk-label input.sk-toggleable__control:checked~label.sk-toggleable__label {background-color: #d4ebff;}#sk-container-id-1 input.sk-hidden--visually {border: 0;clip: rect(1px 1px 1px 1px);clip: rect(1px, 1px, 1px, 1px);height: 1px;margin: -1px;overflow: hidden;padding: 0;position: absolute;width: 1px;}#sk-container-id-1 div.sk-estimator {font-family: monospace;background-color: #f0f8ff;border: 1px dotted black;border-radius: 0.25em;box-sizing: border-box;margin-bottom: 0.5em;}#sk-container-id-1 div.sk-estimator:hover {background-color: #d4ebff;}#sk-container-id-1 div.sk-parallel-item::after {content: \"\";width: 100%;border-bottom: 1px solid gray;flex-grow: 1;}#sk-container-id-1 div.sk-label:hover label.sk-toggleable__label {background-color: #d4ebff;}#sk-container-id-1 div.sk-serial::before {content: \"\";position: absolute;border-left: 1px solid gray;box-sizing: border-box;top: 0;bottom: 0;left: 50%;z-index: 0;}#sk-container-id-1 div.sk-serial {display: flex;flex-direction: column;align-items: center;background-color: white;padding-right: 0.2em;padding-left: 0.2em;position: relative;}#sk-container-id-1 div.sk-item {position: relative;z-index: 1;}#sk-container-id-1 div.sk-parallel {display: flex;align-items: stretch;justify-content: center;background-color: white;position: relative;}#sk-container-id-1 div.sk-item::before, #sk-container-id-1 div.sk-parallel-item::before {content: \"\";position: absolute;border-left: 1px solid gray;box-sizing: border-box;top: 0;bottom: 0;left: 50%;z-index: -1;}#sk-container-id-1 div.sk-parallel-item {display: flex;flex-direction: column;z-index: 1;position: relative;background-color: white;}#sk-container-id-1 div.sk-parallel-item:first-child::after {align-self: flex-end;width: 50%;}#sk-container-id-1 div.sk-parallel-item:last-child::after {align-self: flex-start;width: 50%;}#sk-container-id-1 div.sk-parallel-item:only-child::after {width: 0;}#sk-container-id-1 div.sk-dashed-wrapped {border: 1px dashed gray;margin: 0 0.4em 0.5em 0.4em;box-sizing: border-box;padding-bottom: 0.4em;background-color: white;}#sk-container-id-1 div.sk-label label {font-family: monospace;font-weight: bold;display: inline-block;line-height: 1.2em;}#sk-container-id-1 div.sk-label-container {text-align: center;}#sk-container-id-1 div.sk-container {/* jupyter's `normalize.less` sets `[hidden] { display: none; }` but bootstrap.min.css set `[hidden] { display: none !important; }` so we also need the `!important` here to be able to override the default hidden behavior on the sphinx rendered scikit-learn.org. See: https://github.com/scikit-learn/scikit-learn/issues/21755 */display: inline-block !important;position: relative;}#sk-container-id-1 div.sk-text-repr-fallback {display: none;}</style><div id=\"sk-container-id-1\" class=\"sk-top-container\"><div class=\"sk-text-repr-fallback\"><pre>GridSearchCV(cv=5,\n",
       "             estimator=HistGradientBoostingClassifier(l2_regularization=0.0020612244897959186,\n",
       "                                                      random_state=0),\n",
       "             n_jobs=-1,\n",
       "             param_grid=[{&#x27;learning_rate&#x27;: array([0.023 , 0.0245, 0.026 , 0.0275, 0.029 ]),\n",
       "                          &#x27;max_depth&#x27;: array([10, 16, 22, 28, 34]),\n",
       "                          &#x27;max_leaf_nodes&#x27;: array([10, 12, 14, 16, 18, 20]),\n",
       "                          &#x27;min_samples_leaf&#x27;: array([10, 16, 22, 28, 34])}],\n",
       "             scoring=&#x27;accuracy&#x27;)</pre><b>In a Jupyter environment, please rerun this cell to show the HTML representation or trust the notebook. <br />On GitHub, the HTML representation is unable to render, please try loading this page with nbviewer.org.</b></div><div class=\"sk-container\" hidden><div class=\"sk-item sk-dashed-wrapped\"><div class=\"sk-label-container\"><div class=\"sk-label sk-toggleable\"><input class=\"sk-toggleable__control sk-hidden--visually\" id=\"sk-estimator-id-1\" type=\"checkbox\" ><label for=\"sk-estimator-id-1\" class=\"sk-toggleable__label sk-toggleable__label-arrow\">GridSearchCV</label><div class=\"sk-toggleable__content\"><pre>GridSearchCV(cv=5,\n",
       "             estimator=HistGradientBoostingClassifier(l2_regularization=0.0020612244897959186,\n",
       "                                                      random_state=0),\n",
       "             n_jobs=-1,\n",
       "             param_grid=[{&#x27;learning_rate&#x27;: array([0.023 , 0.0245, 0.026 , 0.0275, 0.029 ]),\n",
       "                          &#x27;max_depth&#x27;: array([10, 16, 22, 28, 34]),\n",
       "                          &#x27;max_leaf_nodes&#x27;: array([10, 12, 14, 16, 18, 20]),\n",
       "                          &#x27;min_samples_leaf&#x27;: array([10, 16, 22, 28, 34])}],\n",
       "             scoring=&#x27;accuracy&#x27;)</pre></div></div></div><div class=\"sk-parallel\"><div class=\"sk-parallel-item\"><div class=\"sk-item\"><div class=\"sk-label-container\"><div class=\"sk-label sk-toggleable\"><input class=\"sk-toggleable__control sk-hidden--visually\" id=\"sk-estimator-id-2\" type=\"checkbox\" ><label for=\"sk-estimator-id-2\" class=\"sk-toggleable__label sk-toggleable__label-arrow\">estimator: HistGradientBoostingClassifier</label><div class=\"sk-toggleable__content\"><pre>HistGradientBoostingClassifier(l2_regularization=0.0020612244897959186,\n",
       "                               random_state=0)</pre></div></div></div><div class=\"sk-serial\"><div class=\"sk-item\"><div class=\"sk-estimator sk-toggleable\"><input class=\"sk-toggleable__control sk-hidden--visually\" id=\"sk-estimator-id-3\" type=\"checkbox\" ><label for=\"sk-estimator-id-3\" class=\"sk-toggleable__label sk-toggleable__label-arrow\">HistGradientBoostingClassifier</label><div class=\"sk-toggleable__content\"><pre>HistGradientBoostingClassifier(l2_regularization=0.0020612244897959186,\n",
       "                               random_state=0)</pre></div></div></div></div></div></div></div></div></div></div>"
      ],
      "text/plain": [
       "GridSearchCV(cv=5,\n",
       "             estimator=HistGradientBoostingClassifier(l2_regularization=0.0020612244897959186,\n",
       "                                                      random_state=0),\n",
       "             n_jobs=-1,\n",
       "             param_grid=[{'learning_rate': array([0.023 , 0.0245, 0.026 , 0.0275, 0.029 ]),\n",
       "                          'max_depth': array([10, 16, 22, 28, 34]),\n",
       "                          'max_leaf_nodes': array([10, 12, 14, 16, 18, 20]),\n",
       "                          'min_samples_leaf': array([10, 16, 22, 28, 34])}],\n",
       "             scoring='accuracy')"
      ]
     },
     "execution_count": 23,
     "metadata": {},
     "output_type": "execute_result"
    }
   ],
   "source": [
    "from sklearn.model_selection import GridSearchCV\n",
    "clf = HistGradientBoostingClassifier(random_state=0, l2_regularization=0.0020612244897959186)\n",
    "parameters = [{\"learning_rate\": np.linspace(0.023, 0.029, 5),  \"max_leaf_nodes\": np.arange(10, 22, 2), \"min_samples_leaf\": np.arange(10, 40, 6), \"max_depth\": np.arange(10, 40, 6)}]\n",
    "search = GridSearchCV(clf, parameters, cv=5, scoring='accuracy', n_jobs=-1)\n",
    "search.fit(train_df, train_target)"
   ]
  },
  {
   "cell_type": "code",
   "execution_count": 27,
   "metadata": {},
   "outputs": [
    {
     "data": {
      "text/plain": [
       "array([0.54166667, 0.54444444, 0.54289684, 0.53421327, 0.55991664])"
      ]
     },
     "execution_count": 27,
     "metadata": {},
     "output_type": "execute_result"
    }
   ],
   "source": [
    "from sklearn.model_selection import cross_val_score\n",
    "clf = HistGradientBoostingClassifier(random_state=0, l2_regularization=0.0020612244897959186, learning_rate=0.026000000000000002,\n",
    "  max_depth=22, max_leaf_nodes=20, min_samples_leaf=28)\n",
    "scores = cross_val_score(clf, train_df, train_target, cv=5)\n",
    "scores"
   ]
  },
  {
   "cell_type": "code",
   "execution_count": null,
   "metadata": {},
   "outputs": [],
   "source": []
  },
  {
   "cell_type": "code",
   "execution_count": 31,
   "metadata": {},
   "outputs": [
    {
     "data": {
      "text/html": [
       "<style>#sk-container-id-3 {color: black;background-color: white;}#sk-container-id-3 pre{padding: 0;}#sk-container-id-3 div.sk-toggleable {background-color: white;}#sk-container-id-3 label.sk-toggleable__label {cursor: pointer;display: block;width: 100%;margin-bottom: 0;padding: 0.3em;box-sizing: border-box;text-align: center;}#sk-container-id-3 label.sk-toggleable__label-arrow:before {content: \"▸\";float: left;margin-right: 0.25em;color: #696969;}#sk-container-id-3 label.sk-toggleable__label-arrow:hover:before {color: black;}#sk-container-id-3 div.sk-estimator:hover label.sk-toggleable__label-arrow:before {color: black;}#sk-container-id-3 div.sk-toggleable__content {max-height: 0;max-width: 0;overflow: hidden;text-align: left;background-color: #f0f8ff;}#sk-container-id-3 div.sk-toggleable__content pre {margin: 0.2em;color: black;border-radius: 0.25em;background-color: #f0f8ff;}#sk-container-id-3 input.sk-toggleable__control:checked~div.sk-toggleable__content {max-height: 200px;max-width: 100%;overflow: auto;}#sk-container-id-3 input.sk-toggleable__control:checked~label.sk-toggleable__label-arrow:before {content: \"▾\";}#sk-container-id-3 div.sk-estimator input.sk-toggleable__control:checked~label.sk-toggleable__label {background-color: #d4ebff;}#sk-container-id-3 div.sk-label input.sk-toggleable__control:checked~label.sk-toggleable__label {background-color: #d4ebff;}#sk-container-id-3 input.sk-hidden--visually {border: 0;clip: rect(1px 1px 1px 1px);clip: rect(1px, 1px, 1px, 1px);height: 1px;margin: -1px;overflow: hidden;padding: 0;position: absolute;width: 1px;}#sk-container-id-3 div.sk-estimator {font-family: monospace;background-color: #f0f8ff;border: 1px dotted black;border-radius: 0.25em;box-sizing: border-box;margin-bottom: 0.5em;}#sk-container-id-3 div.sk-estimator:hover {background-color: #d4ebff;}#sk-container-id-3 div.sk-parallel-item::after {content: \"\";width: 100%;border-bottom: 1px solid gray;flex-grow: 1;}#sk-container-id-3 div.sk-label:hover label.sk-toggleable__label {background-color: #d4ebff;}#sk-container-id-3 div.sk-serial::before {content: \"\";position: absolute;border-left: 1px solid gray;box-sizing: border-box;top: 0;bottom: 0;left: 50%;z-index: 0;}#sk-container-id-3 div.sk-serial {display: flex;flex-direction: column;align-items: center;background-color: white;padding-right: 0.2em;padding-left: 0.2em;position: relative;}#sk-container-id-3 div.sk-item {position: relative;z-index: 1;}#sk-container-id-3 div.sk-parallel {display: flex;align-items: stretch;justify-content: center;background-color: white;position: relative;}#sk-container-id-3 div.sk-item::before, #sk-container-id-3 div.sk-parallel-item::before {content: \"\";position: absolute;border-left: 1px solid gray;box-sizing: border-box;top: 0;bottom: 0;left: 50%;z-index: -1;}#sk-container-id-3 div.sk-parallel-item {display: flex;flex-direction: column;z-index: 1;position: relative;background-color: white;}#sk-container-id-3 div.sk-parallel-item:first-child::after {align-self: flex-end;width: 50%;}#sk-container-id-3 div.sk-parallel-item:last-child::after {align-self: flex-start;width: 50%;}#sk-container-id-3 div.sk-parallel-item:only-child::after {width: 0;}#sk-container-id-3 div.sk-dashed-wrapped {border: 1px dashed gray;margin: 0 0.4em 0.5em 0.4em;box-sizing: border-box;padding-bottom: 0.4em;background-color: white;}#sk-container-id-3 div.sk-label label {font-family: monospace;font-weight: bold;display: inline-block;line-height: 1.2em;}#sk-container-id-3 div.sk-label-container {text-align: center;}#sk-container-id-3 div.sk-container {/* jupyter's `normalize.less` sets `[hidden] { display: none; }` but bootstrap.min.css set `[hidden] { display: none !important; }` so we also need the `!important` here to be able to override the default hidden behavior on the sphinx rendered scikit-learn.org. See: https://github.com/scikit-learn/scikit-learn/issues/21755 */display: inline-block !important;position: relative;}#sk-container-id-3 div.sk-text-repr-fallback {display: none;}</style><div id=\"sk-container-id-3\" class=\"sk-top-container\"><div class=\"sk-text-repr-fallback\"><pre>GridSearchCV(cv=5,\n",
       "             estimator=HistGradientBoostingClassifier(l2_regularization=0.0020612244897959186,\n",
       "                                                      learning_rate=0.026000000000000002,\n",
       "                                                      max_depth=22,\n",
       "                                                      max_leaf_nodes=20,\n",
       "                                                      min_samples_leaf=28,\n",
       "                                                      random_state=0),\n",
       "             n_jobs=-1,\n",
       "             param_grid=[{&#x27;random_state&#x27;: array([ 50,  51,  52,  53,  54,  55,  56,  57,  58,  59,  60,  61,  62,\n",
       "        63,  64,  65,  66,  67,  68,  69,  70,  71,  72,  73,  74,  75,\n",
       "        76,  77,  78,  79,  80,  81,  82,  83,  84...\n",
       "       115, 116, 117, 118, 119, 120, 121, 122, 123, 124, 125, 126, 127,\n",
       "       128, 129, 130, 131, 132, 133, 134, 135, 136, 137, 138, 139, 140,\n",
       "       141, 142, 143, 144, 145, 146, 147, 148, 149, 150, 151, 152, 153,\n",
       "       154, 155, 156, 157, 158, 159, 160, 161, 162, 163, 164, 165, 166,\n",
       "       167, 168, 169, 170, 171, 172, 173, 174, 175, 176, 177, 178, 179,\n",
       "       180, 181, 182, 183, 184, 185, 186, 187, 188, 189, 190, 191, 192,\n",
       "       193, 194, 195, 196, 197, 198, 199])}],\n",
       "             scoring=&#x27;accuracy&#x27;)</pre><b>In a Jupyter environment, please rerun this cell to show the HTML representation or trust the notebook. <br />On GitHub, the HTML representation is unable to render, please try loading this page with nbviewer.org.</b></div><div class=\"sk-container\" hidden><div class=\"sk-item sk-dashed-wrapped\"><div class=\"sk-label-container\"><div class=\"sk-label sk-toggleable\"><input class=\"sk-toggleable__control sk-hidden--visually\" id=\"sk-estimator-id-7\" type=\"checkbox\" ><label for=\"sk-estimator-id-7\" class=\"sk-toggleable__label sk-toggleable__label-arrow\">GridSearchCV</label><div class=\"sk-toggleable__content\"><pre>GridSearchCV(cv=5,\n",
       "             estimator=HistGradientBoostingClassifier(l2_regularization=0.0020612244897959186,\n",
       "                                                      learning_rate=0.026000000000000002,\n",
       "                                                      max_depth=22,\n",
       "                                                      max_leaf_nodes=20,\n",
       "                                                      min_samples_leaf=28,\n",
       "                                                      random_state=0),\n",
       "             n_jobs=-1,\n",
       "             param_grid=[{&#x27;random_state&#x27;: array([ 50,  51,  52,  53,  54,  55,  56,  57,  58,  59,  60,  61,  62,\n",
       "        63,  64,  65,  66,  67,  68,  69,  70,  71,  72,  73,  74,  75,\n",
       "        76,  77,  78,  79,  80,  81,  82,  83,  84...\n",
       "       115, 116, 117, 118, 119, 120, 121, 122, 123, 124, 125, 126, 127,\n",
       "       128, 129, 130, 131, 132, 133, 134, 135, 136, 137, 138, 139, 140,\n",
       "       141, 142, 143, 144, 145, 146, 147, 148, 149, 150, 151, 152, 153,\n",
       "       154, 155, 156, 157, 158, 159, 160, 161, 162, 163, 164, 165, 166,\n",
       "       167, 168, 169, 170, 171, 172, 173, 174, 175, 176, 177, 178, 179,\n",
       "       180, 181, 182, 183, 184, 185, 186, 187, 188, 189, 190, 191, 192,\n",
       "       193, 194, 195, 196, 197, 198, 199])}],\n",
       "             scoring=&#x27;accuracy&#x27;)</pre></div></div></div><div class=\"sk-parallel\"><div class=\"sk-parallel-item\"><div class=\"sk-item\"><div class=\"sk-label-container\"><div class=\"sk-label sk-toggleable\"><input class=\"sk-toggleable__control sk-hidden--visually\" id=\"sk-estimator-id-8\" type=\"checkbox\" ><label for=\"sk-estimator-id-8\" class=\"sk-toggleable__label sk-toggleable__label-arrow\">estimator: HistGradientBoostingClassifier</label><div class=\"sk-toggleable__content\"><pre>HistGradientBoostingClassifier(l2_regularization=0.0020612244897959186,\n",
       "                               learning_rate=0.026000000000000002, max_depth=22,\n",
       "                               max_leaf_nodes=20, min_samples_leaf=28,\n",
       "                               random_state=0)</pre></div></div></div><div class=\"sk-serial\"><div class=\"sk-item\"><div class=\"sk-estimator sk-toggleable\"><input class=\"sk-toggleable__control sk-hidden--visually\" id=\"sk-estimator-id-9\" type=\"checkbox\" ><label for=\"sk-estimator-id-9\" class=\"sk-toggleable__label sk-toggleable__label-arrow\">HistGradientBoostingClassifier</label><div class=\"sk-toggleable__content\"><pre>HistGradientBoostingClassifier(l2_regularization=0.0020612244897959186,\n",
       "                               learning_rate=0.026000000000000002, max_depth=22,\n",
       "                               max_leaf_nodes=20, min_samples_leaf=28,\n",
       "                               random_state=0)</pre></div></div></div></div></div></div></div></div></div></div>"
      ],
      "text/plain": [
       "GridSearchCV(cv=5,\n",
       "             estimator=HistGradientBoostingClassifier(l2_regularization=0.0020612244897959186,\n",
       "                                                      learning_rate=0.026000000000000002,\n",
       "                                                      max_depth=22,\n",
       "                                                      max_leaf_nodes=20,\n",
       "                                                      min_samples_leaf=28,\n",
       "                                                      random_state=0),\n",
       "             n_jobs=-1,\n",
       "             param_grid=[{'random_state': array([ 50,  51,  52,  53,  54,  55,  56,  57,  58,  59,  60,  61,  62,\n",
       "        63,  64,  65,  66,  67,  68,  69,  70,  71,  72,  73,  74,  75,\n",
       "        76,  77,  78,  79,  80,  81,  82,  83,  84...\n",
       "       115, 116, 117, 118, 119, 120, 121, 122, 123, 124, 125, 126, 127,\n",
       "       128, 129, 130, 131, 132, 133, 134, 135, 136, 137, 138, 139, 140,\n",
       "       141, 142, 143, 144, 145, 146, 147, 148, 149, 150, 151, 152, 153,\n",
       "       154, 155, 156, 157, 158, 159, 160, 161, 162, 163, 164, 165, 166,\n",
       "       167, 168, 169, 170, 171, 172, 173, 174, 175, 176, 177, 178, 179,\n",
       "       180, 181, 182, 183, 184, 185, 186, 187, 188, 189, 190, 191, 192,\n",
       "       193, 194, 195, 196, 197, 198, 199])}],\n",
       "             scoring='accuracy')"
      ]
     },
     "execution_count": 31,
     "metadata": {},
     "output_type": "execute_result"
    }
   ],
   "source": [
    "from sklearn.model_selection import GridSearchCV\n",
    "clf = HistGradientBoostingClassifier(random_state=0, l2_regularization=0.0020612244897959186, learning_rate=0.026000000000000002,\n",
    "  max_depth=22, max_leaf_nodes=20, min_samples_leaf=28)\n",
    "parameters = [{\"random_state\": np.arange(50, 200, 1)}]\n",
    "search = GridSearchCV(clf, parameters, cv=5, scoring='accuracy', n_jobs=-1)\n",
    "search.fit(train_df, train_target)"
   ]
  },
  {
   "cell_type": "code",
   "execution_count": 32,
   "metadata": {},
   "outputs": [
    {
     "data": {
      "text/plain": [
       "({'random_state': 184}, 0.5461556626529273)"
      ]
     },
     "execution_count": 32,
     "metadata": {},
     "output_type": "execute_result"
    }
   ],
   "source": [
    "search.best_params_, search.best_score_"
   ]
  },
  {
   "cell_type": "code",
   "execution_count": 28,
   "metadata": {},
   "outputs": [
    {
     "data": {
      "text/plain": [
       "0.5446275713017636"
      ]
     },
     "execution_count": 28,
     "metadata": {},
     "output_type": "execute_result"
    }
   ],
   "source": [
    "scores.mean()"
   ]
  },
  {
   "cell_type": "code",
   "execution_count": 24,
   "metadata": {},
   "outputs": [
    {
     "data": {
      "text/plain": [
       "({'learning_rate': 0.026000000000000002,\n",
       "  'max_depth': 22,\n",
       "  'max_leaf_nodes': 20,\n",
       "  'min_samples_leaf': 28},\n",
       " 0.5446275713017636)"
      ]
     },
     "execution_count": 24,
     "metadata": {},
     "output_type": "execute_result"
    }
   ],
   "source": [
    "search.best_params_, search.best_score_"
   ]
  },
  {
   "cell_type": "code",
   "execution_count": null,
   "metadata": {},
   "outputs": [],
   "source": []
  },
  {
   "cell_type": "code",
   "execution_count": 34,
   "metadata": {},
   "outputs": [
    {
     "name": "stdout",
     "output_type": "stream",
     "text": [
      "Counter({10: 3984, 1: 2071, 0: 2012, 8: 1463, 9: 1152, 6: 1103, 3: 1036, 4: 501, 7: 442, 2: 321, 5: 312})\n"
     ]
    }
   ],
   "source": [
    "from collections import Counter\n",
    "print(Counter(train_target))"
   ]
  },
  {
   "cell_type": "code",
   "execution_count": null,
   "metadata": {},
   "outputs": [],
   "source": []
  },
  {
   "cell_type": "code",
   "execution_count": 35,
   "metadata": {},
   "outputs": [
    {
     "data": {
      "text/plain": [
       "0.630895325415017"
      ]
     },
     "execution_count": 35,
     "metadata": {},
     "output_type": "execute_result"
    }
   ],
   "source": [
    "clf = HistGradientBoostingClassifier(random_state=8, l2_regularization=0.0020612244897959186, learning_rate=0.026000000000000002,\n",
    "  max_depth=22, max_leaf_nodes=20, min_samples_leaf=28)\n",
    "clf.fit(train_df, train_target)\n",
    "clf.score(train_df, train_target)"
   ]
  },
  {
   "cell_type": "code",
   "execution_count": null,
   "metadata": {},
   "outputs": [],
   "source": []
  },
  {
   "cell_type": "markdown",
   "metadata": {
    "id": "3fsihXC10Dqi"
   },
   "source": [
    "Y finalmente aplico el modelo entrenado (ignorando id):"
   ]
  },
  {
   "cell_type": "code",
   "execution_count": 36,
   "metadata": {
    "colab": {
     "base_uri": "https://localhost:8080/"
    },
    "executionInfo": {
     "elapsed": 277,
     "status": "ok",
     "timestamp": 1672007983947,
     "user": {
      "displayName": "IGNACIO GARACH VELEZ",
      "userId": "17565059811689301258"
     },
     "user_tz": -60
    },
    "id": "gU_sFPyB0Dqi",
    "outputId": "71b030ae-80ad-4dfc-ca4b-5049956c8188"
   },
   "outputs": [
    {
     "name": "stdout",
     "output_type": "stream",
     "text": [
      "['Acustico/Folk' 'Rock' 'Blues' ... 'Rock' 'Rock' 'Rock']\n"
     ]
    }
   ],
   "source": [
    "predictions = clf.predict(test_df)\n",
    "predictions = targetencoder.inverse_transform(predictions)\n",
    "print(predictions)"
   ]
  },
  {
   "cell_type": "markdown",
   "metadata": {
    "id": "22Gurpg70Dqj"
   },
   "source": [
    "Ahora que tengo las predicciones voy a crear el fichero"
   ]
  },
  {
   "cell_type": "code",
   "execution_count": 37,
   "metadata": {
    "executionInfo": {
     "elapsed": 289,
     "status": "ok",
     "timestamp": 1672007993826,
     "user": {
      "displayName": "IGNACIO GARACH VELEZ",
      "userId": "17565059811689301258"
     },
     "user_tz": -60
    },
    "id": "fP3u5kcS0Dqj"
   },
   "outputs": [],
   "source": [
    "submission = pd.DataFrame({'id': ids, 'Expected': predictions})"
   ]
  },
  {
   "cell_type": "markdown",
   "metadata": {
    "id": "-zv8z_cT0Dqj"
   },
   "source": [
    "Vemos que tenemos el tamaño adecuado:"
   ]
  },
  {
   "cell_type": "code",
   "execution_count": 38,
   "metadata": {
    "colab": {
     "base_uri": "https://localhost:8080/"
    },
    "executionInfo": {
     "elapsed": 291,
     "status": "ok",
     "timestamp": 1672007996073,
     "user": {
      "displayName": "IGNACIO GARACH VELEZ",
      "userId": "17565059811689301258"
     },
     "user_tz": -60
    },
    "id": "-xpFx3zP0Dqj",
    "outputId": "d4229f65-bf51-42ce-9473-c54abd7190bf"
   },
   "outputs": [
    {
     "data": {
      "text/plain": [
       "(3599, 2)"
      ]
     },
     "execution_count": 38,
     "metadata": {},
     "output_type": "execute_result"
    }
   ],
   "source": [
    "submission.shape"
   ]
  },
  {
   "cell_type": "markdown",
   "metadata": {
    "id": "QJsdZfHj0Dqj"
   },
   "source": [
    "Creamos el fichero del modelo:"
   ]
  },
  {
   "cell_type": "code",
   "execution_count": 39,
   "metadata": {
    "executionInfo": {
     "elapsed": 262,
     "status": "ok",
     "timestamp": 1672008002930,
     "user": {
      "displayName": "IGNACIO GARACH VELEZ",
      "userId": "17565059811689301258"
     },
     "user_tz": -60
    },
    "id": "p3eRYJr60Dqj"
   },
   "outputs": [],
   "source": [
    "submission.to_csv(\"IGV2a2023.csv\", index=False)"
   ]
  },
  {
   "cell_type": "code",
   "execution_count": null,
   "metadata": {
    "id": "9dxk4zZi0Dqj"
   },
   "outputs": [],
   "source": []
  }
 ],
 "metadata": {
  "colab": {
   "provenance": []
  },
  "kernelspec": {
   "display_name": "Python 3 (ipykernel)",
   "language": "python",
   "name": "python3"
  },
  "language_info": {
   "codemirror_mode": {
    "name": "ipython",
    "version": 3
   },
   "file_extension": ".py",
   "mimetype": "text/x-python",
   "name": "python",
   "nbconvert_exporter": "python",
   "pygments_lexer": "ipython3",
   "version": "3.9.7"
  }
 },
 "nbformat": 4,
 "nbformat_minor": 1
}
