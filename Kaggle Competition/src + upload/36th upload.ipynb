{
 "cells": [
  {
   "cell_type": "code",
   "execution_count": 128,
   "metadata": {
    "colab": {
     "base_uri": "https://localhost:8080/",
     "height": 71
    },
    "executionInfo": {
     "elapsed": 6610,
     "status": "ok",
     "timestamp": 1671998006641,
     "user": {
      "displayName": "IGNACIO GARACH VELEZ",
      "userId": "17565059811689301258"
     },
     "user_tz": -60
    },
    "id": "itgpMsMb0DqY",
    "outputId": "9cc112a1-6afa-4238-b0f0-9462d3872daa"
   },
   "outputs": [],
   "source": [
    "import numpy as np\n",
    "from sklearn.preprocessing import OrdinalEncoder, LabelEncoder\n",
    "# We start by getting access to the drive"
   ]
  },
  {
   "cell_type": "code",
   "execution_count": 129,
   "metadata": {
    "executionInfo": {
     "elapsed": 287,
     "status": "ok",
     "timestamp": 1672006207619,
     "user": {
      "displayName": "IGNACIO GARACH VELEZ",
      "userId": "17565059811689301258"
     },
     "user_tz": -60
    },
    "id": "a_W7Lw6B0DqZ"
   },
   "outputs": [],
   "source": [
    "import pandas as pd\n",
    "\n",
    "train_df = pd.read_csv(\"../train.csv\")\n",
    "test_df = pd.read_csv(\"../test.csv\")"
   ]
  },
  {
   "cell_type": "markdown",
   "metadata": {
    "id": "y1pbHM3L0DqZ"
   },
   "source": [
    "Vamos a ver qué tal se ha cargado"
   ]
  },
  {
   "cell_type": "markdown",
   "metadata": {
    "id": "h_IU_ibe0Dqb"
   },
   "source": [
    "## Eliminando atributos no correctos\n",
    "\n",
    "Vamos a eliminar del conjunto de entrenamiento los atributos 'Artista' y\n",
    "'Titulo' porque no se puede aprender a partir de ellos.\n",
    "\n",
    "También quitamos el atributo a predecir para evitar usarlo de entrada."
   ]
  },
  {
   "cell_type": "code",
   "execution_count": 130,
   "metadata": {
    "colab": {
     "base_uri": "https://localhost:8080/"
    },
    "executionInfo": {
     "elapsed": 258,
     "status": "ok",
     "timestamp": 1672006210093,
     "user": {
      "displayName": "IGNACIO GARACH VELEZ",
      "userId": "17565059811689301258"
     },
     "user_tz": -60
    },
    "id": "JrpHVXp30Dqb",
    "outputId": "af0d1f83-326a-4593-940b-f3b3b17b73a5"
   },
   "outputs": [],
   "source": [
    "train_target = train_df.Category\n",
    "targetencoder = LabelEncoder()\n",
    "train_target = targetencoder.fit_transform(train_target)\n",
    "train_df.drop(['Artista', 'Titulo', 'Category'], axis=1, inplace=True)"
   ]
  },
  {
   "cell_type": "code",
   "execution_count": 131,
   "metadata": {},
   "outputs": [],
   "source": [
    "i=0\n",
    "duplicados=[]\n",
    "for a in train_df.duplicated(keep=False):\n",
    "    if a:\n",
    "        duplicados.append(i)\n",
    "    i=i+1"
   ]
  },
  {
   "cell_type": "code",
   "execution_count": 132,
   "metadata": {},
   "outputs": [
    {
     "data": {
      "text/html": [
       "<div>\n",
       "<style scoped>\n",
       "    .dataframe tbody tr th:only-of-type {\n",
       "        vertical-align: middle;\n",
       "    }\n",
       "\n",
       "    .dataframe tbody tr th {\n",
       "        vertical-align: top;\n",
       "    }\n",
       "\n",
       "    .dataframe thead th {\n",
       "        text-align: right;\n",
       "    }\n",
       "</style>\n",
       "<table border=\"1\" class=\"dataframe\">\n",
       "  <thead>\n",
       "    <tr style=\"text-align: right;\">\n",
       "      <th></th>\n",
       "      <th>bailable</th>\n",
       "      <th>energia</th>\n",
       "      <th>clave</th>\n",
       "      <th>hablado</th>\n",
       "      <th>positivismo</th>\n",
       "      <th>duración en min/ms</th>\n",
       "      <th>acustico</th>\n",
       "      <th>vivacidad</th>\n",
       "      <th>popularidad</th>\n",
       "      <th>tempo</th>\n",
       "      <th>modo</th>\n",
       "      <th>volumen</th>\n",
       "      <th>ritmo</th>\n",
       "      <th>instrumental</th>\n",
       "    </tr>\n",
       "  </thead>\n",
       "  <tbody>\n",
       "    <tr>\n",
       "      <th>0</th>\n",
       "      <td>63.1</td>\n",
       "      <td>7.93</td>\n",
       "      <td>P1.0</td>\n",
       "      <td>0.0468</td>\n",
       "      <td>0.6480</td>\n",
       "      <td>189373.000000</td>\n",
       "      <td>0.0218</td>\n",
       "      <td>9.76</td>\n",
       "      <td>63.0</td>\n",
       "      <td>13696.0</td>\n",
       "      <td>menor</td>\n",
       "      <td>-40.86</td>\n",
       "      <td>4</td>\n",
       "      <td>0.000565</td>\n",
       "    </tr>\n",
       "    <tr>\n",
       "      <th>1</th>\n",
       "      <td>70.6</td>\n",
       "      <td>6.56</td>\n",
       "      <td>P9.0</td>\n",
       "      <td>0.2900</td>\n",
       "      <td>0.8200</td>\n",
       "      <td>140564.000000</td>\n",
       "      <td>3.4000</td>\n",
       "      <td>16.30</td>\n",
       "      <td>48.0</td>\n",
       "      <td>16563.9</td>\n",
       "      <td>menor</td>\n",
       "      <td>-41.77</td>\n",
       "      <td>4</td>\n",
       "      <td>0.001670</td>\n",
       "    </tr>\n",
       "    <tr>\n",
       "      <th>2</th>\n",
       "      <td>81.5</td>\n",
       "      <td>6.61</td>\n",
       "      <td>P10.0</td>\n",
       "      <td>0.0996</td>\n",
       "      <td>0.6990</td>\n",
       "      <td>167787.000000</td>\n",
       "      <td>10.6000</td>\n",
       "      <td>28.40</td>\n",
       "      <td>54.0</td>\n",
       "      <td>12499.1</td>\n",
       "      <td>mayor</td>\n",
       "      <td>-82.08</td>\n",
       "      <td>3</td>\n",
       "      <td>2.660000</td>\n",
       "    </tr>\n",
       "    <tr>\n",
       "      <th>3</th>\n",
       "      <td>14.9</td>\n",
       "      <td>9.97</td>\n",
       "      <td>P1.0</td>\n",
       "      <td>0.1600</td>\n",
       "      <td>0.0954</td>\n",
       "      <td>295507.000000</td>\n",
       "      <td>0.1940</td>\n",
       "      <td>7.32</td>\n",
       "      <td>29.0</td>\n",
       "      <td>9144.7</td>\n",
       "      <td>menor</td>\n",
       "      <td>-23.49</td>\n",
       "      <td>4</td>\n",
       "      <td>0.009450</td>\n",
       "    </tr>\n",
       "    <tr>\n",
       "      <th>4</th>\n",
       "      <td>66.5</td>\n",
       "      <td>7.07</td>\n",
       "      <td>P11.0</td>\n",
       "      <td>0.0300</td>\n",
       "      <td>0.3910</td>\n",
       "      <td>156331.000000</td>\n",
       "      <td>19.3000</td>\n",
       "      <td>21.90</td>\n",
       "      <td>72.0</td>\n",
       "      <td>14495.2</td>\n",
       "      <td>mayor</td>\n",
       "      <td>-51.44</td>\n",
       "      <td>4</td>\n",
       "      <td>NaN</td>\n",
       "    </tr>\n",
       "    <tr>\n",
       "      <th>...</th>\n",
       "      <td>...</td>\n",
       "      <td>...</td>\n",
       "      <td>...</td>\n",
       "      <td>...</td>\n",
       "      <td>...</td>\n",
       "      <td>...</td>\n",
       "      <td>...</td>\n",
       "      <td>...</td>\n",
       "      <td>...</td>\n",
       "      <td>...</td>\n",
       "      <td>...</td>\n",
       "      <td>...</td>\n",
       "      <td>...</td>\n",
       "      <td>...</td>\n",
       "    </tr>\n",
       "    <tr>\n",
       "      <th>14390</th>\n",
       "      <td>25.2</td>\n",
       "      <td>0.34</td>\n",
       "      <td>P3.0</td>\n",
       "      <td>0.0407</td>\n",
       "      <td>0.1470</td>\n",
       "      <td>5.535550</td>\n",
       "      <td>97.1000</td>\n",
       "      <td>11.20</td>\n",
       "      <td>37.0</td>\n",
       "      <td>11801.0</td>\n",
       "      <td>mayor</td>\n",
       "      <td>-292.98</td>\n",
       "      <td>3</td>\n",
       "      <td>9.280000</td>\n",
       "    </tr>\n",
       "    <tr>\n",
       "      <th>14391</th>\n",
       "      <td>57.2</td>\n",
       "      <td>6.28</td>\n",
       "      <td>P11.0</td>\n",
       "      <td>0.0397</td>\n",
       "      <td>0.0359</td>\n",
       "      <td>296013.000000</td>\n",
       "      <td>41.9000</td>\n",
       "      <td>23.50</td>\n",
       "      <td>36.0</td>\n",
       "      <td>11998.9</td>\n",
       "      <td>menor</td>\n",
       "      <td>-97.11</td>\n",
       "      <td>4</td>\n",
       "      <td>8.870000</td>\n",
       "    </tr>\n",
       "    <tr>\n",
       "      <th>14392</th>\n",
       "      <td>48.5</td>\n",
       "      <td>3.07</td>\n",
       "      <td>P1.0</td>\n",
       "      <td>0.0565</td>\n",
       "      <td>0.1320</td>\n",
       "      <td>4.300000</td>\n",
       "      <td>66.3000</td>\n",
       "      <td>12.30</td>\n",
       "      <td>47.0</td>\n",
       "      <td>8017.1</td>\n",
       "      <td>mayor</td>\n",
       "      <td>-131.29</td>\n",
       "      <td>4</td>\n",
       "      <td>0.000413</td>\n",
       "    </tr>\n",
       "    <tr>\n",
       "      <th>14393</th>\n",
       "      <td>34.3</td>\n",
       "      <td>5.32</td>\n",
       "      <td>P6.0</td>\n",
       "      <td>0.0318</td>\n",
       "      <td>0.4760</td>\n",
       "      <td>5.583433</td>\n",
       "      <td>93.4000</td>\n",
       "      <td>31.60</td>\n",
       "      <td>25.0</td>\n",
       "      <td>10477.5</td>\n",
       "      <td>mayor</td>\n",
       "      <td>-73.47</td>\n",
       "      <td>4</td>\n",
       "      <td>0.004650</td>\n",
       "    </tr>\n",
       "    <tr>\n",
       "      <th>14396</th>\n",
       "      <td>44.9</td>\n",
       "      <td>3.13</td>\n",
       "      <td>P2.0</td>\n",
       "      <td>0.0272</td>\n",
       "      <td>0.2110</td>\n",
       "      <td>186987.000000</td>\n",
       "      <td>65.8000</td>\n",
       "      <td>11.60</td>\n",
       "      <td>63.0</td>\n",
       "      <td>15786.4</td>\n",
       "      <td>mayor</td>\n",
       "      <td>-103.28</td>\n",
       "      <td>3</td>\n",
       "      <td>NaN</td>\n",
       "    </tr>\n",
       "  </tbody>\n",
       "</table>\n",
       "<p>12158 rows × 14 columns</p>\n",
       "</div>"
      ],
      "text/plain": [
       "       bailable  energia  clave  hablado  positivismo  duración en min/ms  \\\n",
       "0          63.1     7.93   P1.0   0.0468       0.6480       189373.000000   \n",
       "1          70.6     6.56   P9.0   0.2900       0.8200       140564.000000   \n",
       "2          81.5     6.61  P10.0   0.0996       0.6990       167787.000000   \n",
       "3          14.9     9.97   P1.0   0.1600       0.0954       295507.000000   \n",
       "4          66.5     7.07  P11.0   0.0300       0.3910       156331.000000   \n",
       "...         ...      ...    ...      ...          ...                 ...   \n",
       "14390      25.2     0.34   P3.0   0.0407       0.1470            5.535550   \n",
       "14391      57.2     6.28  P11.0   0.0397       0.0359       296013.000000   \n",
       "14392      48.5     3.07   P1.0   0.0565       0.1320            4.300000   \n",
       "14393      34.3     5.32   P6.0   0.0318       0.4760            5.583433   \n",
       "14396      44.9     3.13   P2.0   0.0272       0.2110       186987.000000   \n",
       "\n",
       "       acustico  vivacidad  popularidad    tempo   modo  volumen  ritmo  \\\n",
       "0        0.0218       9.76         63.0  13696.0  menor   -40.86      4   \n",
       "1        3.4000      16.30         48.0  16563.9  menor   -41.77      4   \n",
       "2       10.6000      28.40         54.0  12499.1  mayor   -82.08      3   \n",
       "3        0.1940       7.32         29.0   9144.7  menor   -23.49      4   \n",
       "4       19.3000      21.90         72.0  14495.2  mayor   -51.44      4   \n",
       "...         ...        ...          ...      ...    ...      ...    ...   \n",
       "14390   97.1000      11.20         37.0  11801.0  mayor  -292.98      3   \n",
       "14391   41.9000      23.50         36.0  11998.9  menor   -97.11      4   \n",
       "14392   66.3000      12.30         47.0   8017.1  mayor  -131.29      4   \n",
       "14393   93.4000      31.60         25.0  10477.5  mayor   -73.47      4   \n",
       "14396   65.8000      11.60         63.0  15786.4  mayor  -103.28      3   \n",
       "\n",
       "       instrumental  \n",
       "0          0.000565  \n",
       "1          0.001670  \n",
       "2          2.660000  \n",
       "3          0.009450  \n",
       "4               NaN  \n",
       "...             ...  \n",
       "14390      9.280000  \n",
       "14391      8.870000  \n",
       "14392      0.000413  \n",
       "14393      0.004650  \n",
       "14396           NaN  \n",
       "\n",
       "[12158 rows x 14 columns]"
      ]
     },
     "execution_count": 132,
     "metadata": {},
     "output_type": "execute_result"
    }
   ],
   "source": [
    "train_df.drop(duplicados, axis=0, inplace=True)\n",
    "train_df"
   ]
  },
  {
   "cell_type": "code",
   "execution_count": 133,
   "metadata": {},
   "outputs": [
    {
     "data": {
      "text/plain": [
       "12158"
      ]
     },
     "execution_count": 133,
     "metadata": {},
     "output_type": "execute_result"
    }
   ],
   "source": [
    "train_target = np.delete(train_target, duplicados)\n",
    "len(train_target)"
   ]
  },
  {
   "cell_type": "code",
   "execution_count": null,
   "metadata": {},
   "outputs": [],
   "source": []
  },
  {
   "cell_type": "markdown",
   "metadata": {
    "id": "zUVxrdoN0Dqd"
   },
   "source": [
    "## Viendo nulos\n",
    "\n",
    "Ahora voy a ver los nulos y procesarlos. En general hay que procesarlos mejor\n",
    "pero aquí únicamente voy a reemplazarlos por las medias."
   ]
  },
  {
   "cell_type": "code",
   "execution_count": 134,
   "metadata": {
    "executionInfo": {
     "elapsed": 598,
     "status": "ok",
     "timestamp": 1672006216469,
     "user": {
      "displayName": "IGNACIO GARACH VELEZ",
      "userId": "17565059811689301258"
     },
     "user_tz": -60
    },
    "id": "_U8NtrCH0Dqd"
   },
   "outputs": [],
   "source": [
    "train_df.replace({'P1.0': 1.0, 'P9.0': 9.0, 'P10.0':10.0, 'P11.0':11.0, 'P2.0': 2.0, 'P6.0': 6.0, 'P4.0': 4.0,\n",
    "       'P7.0': 7.0, 'P5.0': 5.0 , 'P8.0': 8.0, 'P3.0' : 3.0, 'menor': 0, 'mayor': 1}, inplace=True)\n",
    "test_df.replace({'P1.0': 1.0, 'P9.0': 9.0, 'P10.0':10.0, 'P11.0':11.0, 'P2.0': 2.0, 'P6.0': 6.0, 'P4.0': 4.0,\n",
    "       'P7.0': 7.0, 'P5.0': 5.0 , 'P8.0': 8.0, 'P3.0' : 3.0, 'menor': 0, 'mayor': 1}, inplace=True)"
   ]
  },
  {
   "cell_type": "code",
   "execution_count": 135,
   "metadata": {
    "executionInfo": {
     "elapsed": 248,
     "status": "ok",
     "timestamp": 1672006219552,
     "user": {
      "displayName": "IGNACIO GARACH VELEZ",
      "userId": "17565059811689301258"
     },
     "user_tz": -60
    },
    "id": "GR2oBKkt0Dqe"
   },
   "outputs": [],
   "source": [
    "ids = test_df['id']\n",
    "test_df.drop(columns=\"id\", inplace=True)\n"
   ]
  },
  {
   "cell_type": "code",
   "execution_count": 120,
   "metadata": {},
   "outputs": [
    {
     "data": {
      "text/plain": [
       "GridSearchCV(cv=5,\n",
       "             estimator=XGBClassifier(base_score=None, booster=None,\n",
       "                                     callbacks=None, colsample_bylevel=None,\n",
       "                                     colsample_bynode=None,\n",
       "                                     colsample_bytree=0.75,\n",
       "                                     early_stopping_rounds=None,\n",
       "                                     enable_categorical=False, eval_metric=None,\n",
       "                                     feature_types=None, gamma=None,\n",
       "                                     gpu_id=None, grow_policy=None,\n",
       "                                     importance_type=None,\n",
       "                                     interaction_constraints=None,\n",
       "                                     learning_rate=0.088, max_bin=None,\n",
       "                                     max_cat_threshold=None,\n",
       "                                     max_cat_to_onehot=None,\n",
       "                                     max_delta_step=None, max_depth=5,\n",
       "                                     max_leaves=None, min_child_weight=4,\n",
       "                                     missing=nan, monotone_constraints=None,\n",
       "                                     n_estimators=100, n_jobs=None,\n",
       "                                     num_parallel_tree=None, predictor=None,\n",
       "                                     random_state=0, ...),\n",
       "             n_jobs=-1, param_grid={}, scoring='accuracy')"
      ]
     },
     "execution_count": 120,
     "metadata": {},
     "output_type": "execute_result"
    }
   ],
   "source": [
    "from sklearn.model_selection import GridSearchCV\n",
    "from sklearn.ensemble import HistGradientBoostingClassifier\n",
    "import xgboost as xgb\n",
    "\n",
    "PARAMETERS = {#'learning_rate': np.linspace(0.25, 0.35, 3)\n",
    "#\"n_estimators\":[160, 140, 120],\n",
    "#\"max_depth\": np.arange(2, 15, 1)\n",
    "#\"min_child_weight\":[0.4, 0.3, 0.2],\n",
    "#\"learning_rate\":[ 0.088, 0.083]}\n",
    "}\n",
    "estimator = xgb.XGBClassifier(random_state=0, learning_rate=0.088, max_depth=5,colsample_bytree=0.75, min_child_weight=4, reg_alpha=0.001)\n",
    "\n",
    "model = GridSearchCV(estimator=estimator, param_grid=PARAMETERS, cv=5, n_jobs=-1, scoring=\"accuracy\")\n",
    "\n",
    "model.fit(train_df, train_target)"
   ]
  },
  {
   "cell_type": "code",
   "execution_count": 121,
   "metadata": {},
   "outputs": [
    {
     "data": {
      "text/plain": [
       "(0.5982085493840525, {})"
      ]
     },
     "execution_count": 121,
     "metadata": {},
     "output_type": "execute_result"
    }
   ],
   "source": [
    "model.best_score_, model.best_params_"
   ]
  },
  {
   "cell_type": "code",
   "execution_count": 70,
   "metadata": {},
   "outputs": [
    {
     "data": {
      "text/plain": [
       "{'categorical_features': None,\n",
       " 'early_stopping': 'auto',\n",
       " 'l2_regularization': 0.0020612244897959186,\n",
       " 'learning_rate': 0.08336734693877551,\n",
       " 'loss': 'auto',\n",
       " 'max_bins': 255,\n",
       " 'max_depth': 17,\n",
       " 'max_iter': 100,\n",
       " 'max_leaf_nodes': 20,\n",
       " 'min_samples_leaf': 28,\n",
       " 'monotonic_cst': None,\n",
       " 'n_iter_no_change': 10,\n",
       " 'random_state': 8,\n",
       " 'scoring': 'loss',\n",
       " 'tol': 1e-07,\n",
       " 'validation_fraction': 0.1,\n",
       " 'verbose': 0,\n",
       " 'warm_start': False}"
      ]
     },
     "execution_count": 70,
     "metadata": {},
     "output_type": "execute_result"
    }
   ],
   "source": [
    "estimator.get_params()"
   ]
  },
  {
   "cell_type": "code",
   "execution_count": null,
   "metadata": {},
   "outputs": [],
   "source": []
  },
  {
   "cell_type": "code",
   "execution_count": null,
   "metadata": {},
   "outputs": [],
   "source": [
    "0.08336734693877551"
   ]
  },
  {
   "cell_type": "code",
   "execution_count": null,
   "metadata": {},
   "outputs": [],
   "source": []
  },
  {
   "cell_type": "code",
   "execution_count": null,
   "metadata": {},
   "outputs": [],
   "source": []
  },
  {
   "cell_type": "code",
   "execution_count": 104,
   "metadata": {
    "id": "DRAJeHKIUYqy"
   },
   "outputs": [],
   "source": [
    "import sklearn\n",
    "from sklearn.impute import SimpleImputer\n",
    "\n",
    "imputer1 = SimpleImputer(strategy='mean')\n",
    "train_df = imputer1.fit_transform(train_df)\n",
    "test_df = imputer1.transform(test_df)"
   ]
  },
  {
   "cell_type": "code",
   "execution_count": 123,
   "metadata": {
    "scrolled": true
   },
   "outputs": [
    {
     "name": "stderr",
     "output_type": "stream",
     "text": [
      "/home/nacho/anaconda3/lib/python3.9/site-packages/sklearn/model_selection/_validation.py:372: FitFailedWarning: \n",
      "5 fits failed out of a total of 5.\n",
      "The score on these train-test partitions for these parameters will be set to nan.\n",
      "If these failures are not expected, you can try to debug them by setting error_score='raise'.\n",
      "\n",
      "Below are more details about the failures:\n",
      "--------------------------------------------------------------------------------\n",
      "5 fits failed with the following error:\n",
      "Traceback (most recent call last):\n",
      "  File \"/home/nacho/anaconda3/lib/python3.9/site-packages/sklearn/model_selection/_validation.py\", line 680, in _fit_and_score\n",
      "    estimator.fit(X_train, y_train, **fit_params)\n",
      "  File \"/home/nacho/anaconda3/lib/python3.9/site-packages/sklearn/ensemble/_gb.py\", line 486, in fit\n",
      "    X, y = self._validate_data(\n",
      "  File \"/home/nacho/anaconda3/lib/python3.9/site-packages/sklearn/base.py\", line 581, in _validate_data\n",
      "    X, y = check_X_y(X, y, **check_params)\n",
      "  File \"/home/nacho/anaconda3/lib/python3.9/site-packages/sklearn/utils/validation.py\", line 964, in check_X_y\n",
      "    X = check_array(\n",
      "  File \"/home/nacho/anaconda3/lib/python3.9/site-packages/sklearn/utils/validation.py\", line 800, in check_array\n",
      "    _assert_all_finite(array, allow_nan=force_all_finite == \"allow-nan\")\n",
      "  File \"/home/nacho/anaconda3/lib/python3.9/site-packages/sklearn/utils/validation.py\", line 114, in _assert_all_finite\n",
      "    raise ValueError(\n",
      "ValueError: Input contains NaN, infinity or a value too large for dtype('float32').\n",
      "\n",
      "  warnings.warn(some_fits_failed_message, FitFailedWarning)\n",
      "/home/nacho/anaconda3/lib/python3.9/site-packages/sklearn/model_selection/_search.py:969: UserWarning: One or more of the test scores are non-finite: [nan]\n",
      "  warnings.warn(\n"
     ]
    },
    {
     "ename": "ValueError",
     "evalue": "Input contains NaN, infinity or a value too large for dtype('float32').",
     "output_type": "error",
     "traceback": [
      "\u001b[0;31m---------------------------------------------------------------------------\u001b[0m",
      "\u001b[0;31mValueError\u001b[0m                                Traceback (most recent call last)",
      "\u001b[0;32m/tmp/ipykernel_28917/4063400905.py\u001b[0m in \u001b[0;36m<module>\u001b[0;34m\u001b[0m\n\u001b[1;32m     11\u001b[0m \u001b[0mmodel\u001b[0m \u001b[0;34m=\u001b[0m \u001b[0mGridSearchCV\u001b[0m\u001b[0;34m(\u001b[0m\u001b[0mestimator\u001b[0m\u001b[0;34m=\u001b[0m\u001b[0mestimator\u001b[0m\u001b[0;34m,\u001b[0m \u001b[0mparam_grid\u001b[0m\u001b[0;34m=\u001b[0m\u001b[0mPARAMETERS\u001b[0m\u001b[0;34m,\u001b[0m \u001b[0mcv\u001b[0m\u001b[0;34m=\u001b[0m\u001b[0;36m5\u001b[0m\u001b[0;34m,\u001b[0m \u001b[0mn_jobs\u001b[0m\u001b[0;34m=\u001b[0m\u001b[0;34m-\u001b[0m\u001b[0;36m1\u001b[0m\u001b[0;34m,\u001b[0m \u001b[0mscoring\u001b[0m\u001b[0;34m=\u001b[0m\u001b[0;34m\"accuracy\"\u001b[0m\u001b[0;34m)\u001b[0m\u001b[0;34m\u001b[0m\u001b[0;34m\u001b[0m\u001b[0m\n\u001b[1;32m     12\u001b[0m \u001b[0;34m\u001b[0m\u001b[0m\n\u001b[0;32m---> 13\u001b[0;31m \u001b[0mmodel\u001b[0m\u001b[0;34m.\u001b[0m\u001b[0mfit\u001b[0m\u001b[0;34m(\u001b[0m\u001b[0mtrain_df\u001b[0m\u001b[0;34m,\u001b[0m \u001b[0mtrain_target\u001b[0m\u001b[0;34m)\u001b[0m\u001b[0;34m\u001b[0m\u001b[0;34m\u001b[0m\u001b[0m\n\u001b[0m",
      "\u001b[0;32m~/anaconda3/lib/python3.9/site-packages/sklearn/model_selection/_search.py\u001b[0m in \u001b[0;36mfit\u001b[0;34m(self, X, y, groups, **fit_params)\u001b[0m\n\u001b[1;32m    924\u001b[0m             \u001b[0mrefit_start_time\u001b[0m \u001b[0;34m=\u001b[0m \u001b[0mtime\u001b[0m\u001b[0;34m.\u001b[0m\u001b[0mtime\u001b[0m\u001b[0;34m(\u001b[0m\u001b[0;34m)\u001b[0m\u001b[0;34m\u001b[0m\u001b[0;34m\u001b[0m\u001b[0m\n\u001b[1;32m    925\u001b[0m             \u001b[0;32mif\u001b[0m \u001b[0my\u001b[0m \u001b[0;32mis\u001b[0m \u001b[0;32mnot\u001b[0m \u001b[0;32mNone\u001b[0m\u001b[0;34m:\u001b[0m\u001b[0;34m\u001b[0m\u001b[0;34m\u001b[0m\u001b[0m\n\u001b[0;32m--> 926\u001b[0;31m                 \u001b[0mself\u001b[0m\u001b[0;34m.\u001b[0m\u001b[0mbest_estimator_\u001b[0m\u001b[0;34m.\u001b[0m\u001b[0mfit\u001b[0m\u001b[0;34m(\u001b[0m\u001b[0mX\u001b[0m\u001b[0;34m,\u001b[0m \u001b[0my\u001b[0m\u001b[0;34m,\u001b[0m \u001b[0;34m**\u001b[0m\u001b[0mfit_params\u001b[0m\u001b[0;34m)\u001b[0m\u001b[0;34m\u001b[0m\u001b[0;34m\u001b[0m\u001b[0m\n\u001b[0m\u001b[1;32m    927\u001b[0m             \u001b[0;32melse\u001b[0m\u001b[0;34m:\u001b[0m\u001b[0;34m\u001b[0m\u001b[0;34m\u001b[0m\u001b[0m\n\u001b[1;32m    928\u001b[0m                 \u001b[0mself\u001b[0m\u001b[0;34m.\u001b[0m\u001b[0mbest_estimator_\u001b[0m\u001b[0;34m.\u001b[0m\u001b[0mfit\u001b[0m\u001b[0;34m(\u001b[0m\u001b[0mX\u001b[0m\u001b[0;34m,\u001b[0m \u001b[0;34m**\u001b[0m\u001b[0mfit_params\u001b[0m\u001b[0;34m)\u001b[0m\u001b[0;34m\u001b[0m\u001b[0;34m\u001b[0m\u001b[0m\n",
      "\u001b[0;32m~/anaconda3/lib/python3.9/site-packages/sklearn/ensemble/_gb.py\u001b[0m in \u001b[0;36mfit\u001b[0;34m(self, X, y, sample_weight, monitor)\u001b[0m\n\u001b[1;32m    484\u001b[0m         \u001b[0;31m# trees use different types for X and y, checking them separately.\u001b[0m\u001b[0;34m\u001b[0m\u001b[0;34m\u001b[0m\u001b[0m\n\u001b[1;32m    485\u001b[0m \u001b[0;34m\u001b[0m\u001b[0m\n\u001b[0;32m--> 486\u001b[0;31m         X, y = self._validate_data(\n\u001b[0m\u001b[1;32m    487\u001b[0m             \u001b[0mX\u001b[0m\u001b[0;34m,\u001b[0m \u001b[0my\u001b[0m\u001b[0;34m,\u001b[0m \u001b[0maccept_sparse\u001b[0m\u001b[0;34m=\u001b[0m\u001b[0;34m[\u001b[0m\u001b[0;34m\"csr\"\u001b[0m\u001b[0;34m,\u001b[0m \u001b[0;34m\"csc\"\u001b[0m\u001b[0;34m,\u001b[0m \u001b[0;34m\"coo\"\u001b[0m\u001b[0;34m]\u001b[0m\u001b[0;34m,\u001b[0m \u001b[0mdtype\u001b[0m\u001b[0;34m=\u001b[0m\u001b[0mDTYPE\u001b[0m\u001b[0;34m,\u001b[0m \u001b[0mmulti_output\u001b[0m\u001b[0;34m=\u001b[0m\u001b[0;32mTrue\u001b[0m\u001b[0;34m\u001b[0m\u001b[0;34m\u001b[0m\u001b[0m\n\u001b[1;32m    488\u001b[0m         )\n",
      "\u001b[0;32m~/anaconda3/lib/python3.9/site-packages/sklearn/base.py\u001b[0m in \u001b[0;36m_validate_data\u001b[0;34m(self, X, y, reset, validate_separately, **check_params)\u001b[0m\n\u001b[1;32m    579\u001b[0m                 \u001b[0my\u001b[0m \u001b[0;34m=\u001b[0m \u001b[0mcheck_array\u001b[0m\u001b[0;34m(\u001b[0m\u001b[0my\u001b[0m\u001b[0;34m,\u001b[0m \u001b[0;34m**\u001b[0m\u001b[0mcheck_y_params\u001b[0m\u001b[0;34m)\u001b[0m\u001b[0;34m\u001b[0m\u001b[0;34m\u001b[0m\u001b[0m\n\u001b[1;32m    580\u001b[0m             \u001b[0;32melse\u001b[0m\u001b[0;34m:\u001b[0m\u001b[0;34m\u001b[0m\u001b[0;34m\u001b[0m\u001b[0m\n\u001b[0;32m--> 581\u001b[0;31m                 \u001b[0mX\u001b[0m\u001b[0;34m,\u001b[0m \u001b[0my\u001b[0m \u001b[0;34m=\u001b[0m \u001b[0mcheck_X_y\u001b[0m\u001b[0;34m(\u001b[0m\u001b[0mX\u001b[0m\u001b[0;34m,\u001b[0m \u001b[0my\u001b[0m\u001b[0;34m,\u001b[0m \u001b[0;34m**\u001b[0m\u001b[0mcheck_params\u001b[0m\u001b[0;34m)\u001b[0m\u001b[0;34m\u001b[0m\u001b[0;34m\u001b[0m\u001b[0m\n\u001b[0m\u001b[1;32m    582\u001b[0m             \u001b[0mout\u001b[0m \u001b[0;34m=\u001b[0m \u001b[0mX\u001b[0m\u001b[0;34m,\u001b[0m \u001b[0my\u001b[0m\u001b[0;34m\u001b[0m\u001b[0;34m\u001b[0m\u001b[0m\n\u001b[1;32m    583\u001b[0m \u001b[0;34m\u001b[0m\u001b[0m\n",
      "\u001b[0;32m~/anaconda3/lib/python3.9/site-packages/sklearn/utils/validation.py\u001b[0m in \u001b[0;36mcheck_X_y\u001b[0;34m(X, y, accept_sparse, accept_large_sparse, dtype, order, copy, force_all_finite, ensure_2d, allow_nd, multi_output, ensure_min_samples, ensure_min_features, y_numeric, estimator)\u001b[0m\n\u001b[1;32m    962\u001b[0m         \u001b[0;32mraise\u001b[0m \u001b[0mValueError\u001b[0m\u001b[0;34m(\u001b[0m\u001b[0;34m\"y cannot be None\"\u001b[0m\u001b[0;34m)\u001b[0m\u001b[0;34m\u001b[0m\u001b[0;34m\u001b[0m\u001b[0m\n\u001b[1;32m    963\u001b[0m \u001b[0;34m\u001b[0m\u001b[0m\n\u001b[0;32m--> 964\u001b[0;31m     X = check_array(\n\u001b[0m\u001b[1;32m    965\u001b[0m         \u001b[0mX\u001b[0m\u001b[0;34m,\u001b[0m\u001b[0;34m\u001b[0m\u001b[0;34m\u001b[0m\u001b[0m\n\u001b[1;32m    966\u001b[0m         \u001b[0maccept_sparse\u001b[0m\u001b[0;34m=\u001b[0m\u001b[0maccept_sparse\u001b[0m\u001b[0;34m,\u001b[0m\u001b[0;34m\u001b[0m\u001b[0;34m\u001b[0m\u001b[0m\n",
      "\u001b[0;32m~/anaconda3/lib/python3.9/site-packages/sklearn/utils/validation.py\u001b[0m in \u001b[0;36mcheck_array\u001b[0;34m(array, accept_sparse, accept_large_sparse, dtype, order, copy, force_all_finite, ensure_2d, allow_nd, ensure_min_samples, ensure_min_features, estimator)\u001b[0m\n\u001b[1;32m    798\u001b[0m \u001b[0;34m\u001b[0m\u001b[0m\n\u001b[1;32m    799\u001b[0m         \u001b[0;32mif\u001b[0m \u001b[0mforce_all_finite\u001b[0m\u001b[0;34m:\u001b[0m\u001b[0;34m\u001b[0m\u001b[0;34m\u001b[0m\u001b[0m\n\u001b[0;32m--> 800\u001b[0;31m             \u001b[0m_assert_all_finite\u001b[0m\u001b[0;34m(\u001b[0m\u001b[0marray\u001b[0m\u001b[0;34m,\u001b[0m \u001b[0mallow_nan\u001b[0m\u001b[0;34m=\u001b[0m\u001b[0mforce_all_finite\u001b[0m \u001b[0;34m==\u001b[0m \u001b[0;34m\"allow-nan\"\u001b[0m\u001b[0;34m)\u001b[0m\u001b[0;34m\u001b[0m\u001b[0;34m\u001b[0m\u001b[0m\n\u001b[0m\u001b[1;32m    801\u001b[0m \u001b[0;34m\u001b[0m\u001b[0m\n\u001b[1;32m    802\u001b[0m     \u001b[0;32mif\u001b[0m \u001b[0mensure_min_samples\u001b[0m \u001b[0;34m>\u001b[0m \u001b[0;36m0\u001b[0m\u001b[0;34m:\u001b[0m\u001b[0;34m\u001b[0m\u001b[0;34m\u001b[0m\u001b[0m\n",
      "\u001b[0;32m~/anaconda3/lib/python3.9/site-packages/sklearn/utils/validation.py\u001b[0m in \u001b[0;36m_assert_all_finite\u001b[0;34m(X, allow_nan, msg_dtype)\u001b[0m\n\u001b[1;32m    112\u001b[0m         ):\n\u001b[1;32m    113\u001b[0m             \u001b[0mtype_err\u001b[0m \u001b[0;34m=\u001b[0m \u001b[0;34m\"infinity\"\u001b[0m \u001b[0;32mif\u001b[0m \u001b[0mallow_nan\u001b[0m \u001b[0;32melse\u001b[0m \u001b[0;34m\"NaN, infinity\"\u001b[0m\u001b[0;34m\u001b[0m\u001b[0;34m\u001b[0m\u001b[0m\n\u001b[0;32m--> 114\u001b[0;31m             raise ValueError(\n\u001b[0m\u001b[1;32m    115\u001b[0m                 msg_err.format(\n\u001b[1;32m    116\u001b[0m                     \u001b[0mtype_err\u001b[0m\u001b[0;34m,\u001b[0m \u001b[0mmsg_dtype\u001b[0m \u001b[0;32mif\u001b[0m \u001b[0mmsg_dtype\u001b[0m \u001b[0;32mis\u001b[0m \u001b[0;32mnot\u001b[0m \u001b[0;32mNone\u001b[0m \u001b[0;32melse\u001b[0m \u001b[0mX\u001b[0m\u001b[0;34m.\u001b[0m\u001b[0mdtype\u001b[0m\u001b[0;34m\u001b[0m\u001b[0;34m\u001b[0m\u001b[0m\n",
      "\u001b[0;31mValueError\u001b[0m: Input contains NaN, infinity or a value too large for dtype('float32')."
     ]
    }
   ],
   "source": [
    "from sklearn.model_selection import GridSearchCV\n",
    "from sklearn.ensemble import GradientBoostingClassifier\n",
    "\n",
    "PARAMETERS = {#'max_features': [2, 3, 4, 5, 6, 7, 8, 9, 10],\n",
    "#\"colsample_bytree\":[0.71, 0.75, 0.73, 0.74, 0.76],\n",
    "#\"max_depth\": np.arange(2, 11, 1)\n",
    "#\"min_child_weight\":[4, 5, 6, 7, 8, 9],\n",
    "#\"learning_rate\":[ 0.088, 0.083]}\n",
    "}\n",
    "estimator = GradientBoostingClassifier(random_state=3, max_depth=12, n_estimators=325, min_samples_split=22, max_features=7)\n",
    "model = GridSearchCV(estimator=estimator, param_grid=PARAMETERS, cv=5, n_jobs=-1, scoring=\"accuracy\")\n",
    "\n",
    "model.fit(train_df, train_target)"
   ]
  },
  {
   "cell_type": "code",
   "execution_count": 148,
   "metadata": {},
   "outputs": [
    {
     "data": {
      "text/plain": [
       "(0.5322637103932693, {'max_features': 7})"
      ]
     },
     "execution_count": 148,
     "metadata": {},
     "output_type": "execute_result"
    }
   ],
   "source": [
    "model.best_score_, model.best_params_"
   ]
  },
  {
   "cell_type": "code",
   "execution_count": null,
   "metadata": {},
   "outputs": [],
   "source": []
  },
  {
   "cell_type": "code",
   "execution_count": null,
   "metadata": {},
   "outputs": [],
   "source": []
  },
  {
   "cell_type": "code",
   "execution_count": 7,
   "metadata": {},
   "outputs": [
    {
     "ename": "ModuleNotFoundError",
     "evalue": "No module named 'autoPyTorch'",
     "output_type": "error",
     "traceback": [
      "\u001b[1;31m---------------------------------------------------------------------------\u001b[0m",
      "\u001b[1;31mModuleNotFoundError\u001b[0m                       Traceback (most recent call last)",
      "Cell \u001b[1;32mIn [7], line 1\u001b[0m\n\u001b[1;32m----> 1\u001b[0m \u001b[38;5;28;01mfrom\u001b[39;00m \u001b[38;5;21;01mautoPyTorch\u001b[39;00m \u001b[38;5;28;01mimport\u001b[39;00m AutoNetClassification\n",
      "\u001b[1;31mModuleNotFoundError\u001b[0m: No module named 'autoPyTorch'"
     ]
    }
   ],
   "source": [
    "from autoPyTorch import AutoNetClassification"
   ]
  },
  {
   "cell_type": "code",
   "execution_count": null,
   "metadata": {},
   "outputs": [],
   "source": [
    "autoPyTorch = AutoNetClassification\n",
    "autoPyTorch = AutoNetClassification(\"tiny_cs\", max_runtime=300, min_budget=30, max_budget=90)\n",
    "autoPyTorch.fit(X_train, y_train, validation_split=0.3)\n",
    "y_pred = autoPyTorch.predict(X_test)\n",
    "print(\"Accuracy score\", sklearn.metrics.accuracy_score(y_test, y_pred))"
   ]
  },
  {
   "cell_type": "code",
   "execution_count": 49,
   "metadata": {},
   "outputs": [
    {
     "data": {
      "text/plain": [
       "0.6277002153226366"
      ]
     },
     "execution_count": 49,
     "metadata": {},
     "output_type": "execute_result"
    }
   ],
   "source": [
    "calibrated_clf.score(train_df, train_target)"
   ]
  },
  {
   "cell_type": "markdown",
   "metadata": {
    "id": "8yprdabZ0Dqf"
   },
   "source": [
    "## Cambiando escala los datos numéricos\n",
    "\n",
    "Vamos a aplicar una escala de los datos numéricos, dicho escalado es mejorable,\n",
    "pero por ahora nos vale."
   ]
  },
  {
   "cell_type": "code",
   "execution_count": 173,
   "metadata": {
    "id": "UF-ROhgn0Dqf"
   },
   "outputs": [],
   "source": [
    "from sklearn.preprocessing import MinMaxScaler\n",
    "\n",
    "scaler = MinMaxScaler().fit(train_df)\n",
    "X_train = scaler.transform(train_df)\n",
    "y_train = train_target\n",
    "X_test = scaler.transform(test_df)\n"
   ]
  },
  {
   "cell_type": "code",
   "execution_count": null,
   "metadata": {},
   "outputs": [],
   "source": []
  },
  {
   "cell_type": "code",
   "execution_count": null,
   "metadata": {},
   "outputs": [],
   "source": []
  },
  {
   "cell_type": "code",
   "execution_count": null,
   "metadata": {},
   "outputs": [],
   "source": []
  },
  {
   "cell_type": "markdown",
   "metadata": {
    "id": "GRNPpobD0Dqf"
   },
   "source": [
    "## Aplicando el modelo\n",
    "\n",
    "Una vez que ya está preprocesados los datos, voy a empezar a aplicar el modelo.\n",
    "\n",
    "Voy a aplicar un modelo básico, el DecisionTreeClassifier"
   ]
  },
  {
   "cell_type": "code",
   "execution_count": 40,
   "metadata": {},
   "outputs": [
    {
     "data": {
      "text/html": [
       "<style>#sk-container-id-12 {color: black;background-color: white;}#sk-container-id-12 pre{padding: 0;}#sk-container-id-12 div.sk-toggleable {background-color: white;}#sk-container-id-12 label.sk-toggleable__label {cursor: pointer;display: block;width: 100%;margin-bottom: 0;padding: 0.3em;box-sizing: border-box;text-align: center;}#sk-container-id-12 label.sk-toggleable__label-arrow:before {content: \"▸\";float: left;margin-right: 0.25em;color: #696969;}#sk-container-id-12 label.sk-toggleable__label-arrow:hover:before {color: black;}#sk-container-id-12 div.sk-estimator:hover label.sk-toggleable__label-arrow:before {color: black;}#sk-container-id-12 div.sk-toggleable__content {max-height: 0;max-width: 0;overflow: hidden;text-align: left;background-color: #f0f8ff;}#sk-container-id-12 div.sk-toggleable__content pre {margin: 0.2em;color: black;border-radius: 0.25em;background-color: #f0f8ff;}#sk-container-id-12 input.sk-toggleable__control:checked~div.sk-toggleable__content {max-height: 200px;max-width: 100%;overflow: auto;}#sk-container-id-12 input.sk-toggleable__control:checked~label.sk-toggleable__label-arrow:before {content: \"▾\";}#sk-container-id-12 div.sk-estimator input.sk-toggleable__control:checked~label.sk-toggleable__label {background-color: #d4ebff;}#sk-container-id-12 div.sk-label input.sk-toggleable__control:checked~label.sk-toggleable__label {background-color: #d4ebff;}#sk-container-id-12 input.sk-hidden--visually {border: 0;clip: rect(1px 1px 1px 1px);clip: rect(1px, 1px, 1px, 1px);height: 1px;margin: -1px;overflow: hidden;padding: 0;position: absolute;width: 1px;}#sk-container-id-12 div.sk-estimator {font-family: monospace;background-color: #f0f8ff;border: 1px dotted black;border-radius: 0.25em;box-sizing: border-box;margin-bottom: 0.5em;}#sk-container-id-12 div.sk-estimator:hover {background-color: #d4ebff;}#sk-container-id-12 div.sk-parallel-item::after {content: \"\";width: 100%;border-bottom: 1px solid gray;flex-grow: 1;}#sk-container-id-12 div.sk-label:hover label.sk-toggleable__label {background-color: #d4ebff;}#sk-container-id-12 div.sk-serial::before {content: \"\";position: absolute;border-left: 1px solid gray;box-sizing: border-box;top: 0;bottom: 0;left: 50%;z-index: 0;}#sk-container-id-12 div.sk-serial {display: flex;flex-direction: column;align-items: center;background-color: white;padding-right: 0.2em;padding-left: 0.2em;position: relative;}#sk-container-id-12 div.sk-item {position: relative;z-index: 1;}#sk-container-id-12 div.sk-parallel {display: flex;align-items: stretch;justify-content: center;background-color: white;position: relative;}#sk-container-id-12 div.sk-item::before, #sk-container-id-12 div.sk-parallel-item::before {content: \"\";position: absolute;border-left: 1px solid gray;box-sizing: border-box;top: 0;bottom: 0;left: 50%;z-index: -1;}#sk-container-id-12 div.sk-parallel-item {display: flex;flex-direction: column;z-index: 1;position: relative;background-color: white;}#sk-container-id-12 div.sk-parallel-item:first-child::after {align-self: flex-end;width: 50%;}#sk-container-id-12 div.sk-parallel-item:last-child::after {align-self: flex-start;width: 50%;}#sk-container-id-12 div.sk-parallel-item:only-child::after {width: 0;}#sk-container-id-12 div.sk-dashed-wrapped {border: 1px dashed gray;margin: 0 0.4em 0.5em 0.4em;box-sizing: border-box;padding-bottom: 0.4em;background-color: white;}#sk-container-id-12 div.sk-label label {font-family: monospace;font-weight: bold;display: inline-block;line-height: 1.2em;}#sk-container-id-12 div.sk-label-container {text-align: center;}#sk-container-id-12 div.sk-container {/* jupyter's `normalize.less` sets `[hidden] { display: none; }` but bootstrap.min.css set `[hidden] { display: none !important; }` so we also need the `!important` here to be able to override the default hidden behavior on the sphinx rendered scikit-learn.org. See: https://github.com/scikit-learn/scikit-learn/issues/21755 */display: inline-block !important;position: relative;}#sk-container-id-12 div.sk-text-repr-fallback {display: none;}</style><div id=\"sk-container-id-12\" class=\"sk-top-container\"><div class=\"sk-text-repr-fallback\"><pre>GridSearchCV(cv=5,\n",
       "             estimator=GradientBoostingClassifier(max_depth=2, max_features=2,\n",
       "                                                  min_samples_split=5,\n",
       "                                                  n_estimators=600,\n",
       "                                                  random_state=3),\n",
       "             n_jobs=-1,\n",
       "             param_grid={&#x27;random_state&#x27;: array([ 4,  5,  6,  7,  8,  9, 10, 11])},\n",
       "             scoring=&#x27;accuracy&#x27;)</pre><b>In a Jupyter environment, please rerun this cell to show the HTML representation or trust the notebook. <br />On GitHub, the HTML representation is unable to render, please try loading this page with nbviewer.org.</b></div><div class=\"sk-container\" hidden><div class=\"sk-item sk-dashed-wrapped\"><div class=\"sk-label-container\"><div class=\"sk-label sk-toggleable\"><input class=\"sk-toggleable__control sk-hidden--visually\" id=\"sk-estimator-id-34\" type=\"checkbox\" ><label for=\"sk-estimator-id-34\" class=\"sk-toggleable__label sk-toggleable__label-arrow\">GridSearchCV</label><div class=\"sk-toggleable__content\"><pre>GridSearchCV(cv=5,\n",
       "             estimator=GradientBoostingClassifier(max_depth=2, max_features=2,\n",
       "                                                  min_samples_split=5,\n",
       "                                                  n_estimators=600,\n",
       "                                                  random_state=3),\n",
       "             n_jobs=-1,\n",
       "             param_grid={&#x27;random_state&#x27;: array([ 4,  5,  6,  7,  8,  9, 10, 11])},\n",
       "             scoring=&#x27;accuracy&#x27;)</pre></div></div></div><div class=\"sk-parallel\"><div class=\"sk-parallel-item\"><div class=\"sk-item\"><div class=\"sk-label-container\"><div class=\"sk-label sk-toggleable\"><input class=\"sk-toggleable__control sk-hidden--visually\" id=\"sk-estimator-id-35\" type=\"checkbox\" ><label for=\"sk-estimator-id-35\" class=\"sk-toggleable__label sk-toggleable__label-arrow\">estimator: GradientBoostingClassifier</label><div class=\"sk-toggleable__content\"><pre>GradientBoostingClassifier(max_depth=2, max_features=2, min_samples_split=5,\n",
       "                           n_estimators=600, random_state=3)</pre></div></div></div><div class=\"sk-serial\"><div class=\"sk-item\"><div class=\"sk-estimator sk-toggleable\"><input class=\"sk-toggleable__control sk-hidden--visually\" id=\"sk-estimator-id-36\" type=\"checkbox\" ><label for=\"sk-estimator-id-36\" class=\"sk-toggleable__label sk-toggleable__label-arrow\">GradientBoostingClassifier</label><div class=\"sk-toggleable__content\"><pre>GradientBoostingClassifier(max_depth=2, max_features=2, min_samples_split=5,\n",
       "                           n_estimators=600, random_state=3)</pre></div></div></div></div></div></div></div></div></div></div>"
      ],
      "text/plain": [
       "GridSearchCV(cv=5,\n",
       "             estimator=GradientBoostingClassifier(max_depth=2, max_features=2,\n",
       "                                                  min_samples_split=5,\n",
       "                                                  n_estimators=600,\n",
       "                                                  random_state=3),\n",
       "             n_jobs=-1,\n",
       "             param_grid={'random_state': array([ 4,  5,  6,  7,  8,  9, 10, 11])},\n",
       "             scoring='accuracy')"
      ]
     },
     "execution_count": 40,
     "metadata": {},
     "output_type": "execute_result"
    }
   ],
   "source": [
    "from sklearn.model_selection import GridSearchCV\n",
    "from sklearn.ensemble import GradientBoostingClassifier\n",
    "\n",
    "PARAMETERS = { #'random_state' : np.arange(4, 12, 1)\n",
    "    #\"colsample_bytree\":[0.71, 0.75, 0.73, 0.74, 0.76],\n",
    "#\"max_depth\": np.arange(2, 11, 1)\n",
    "#\"min_samples_split\":[2, 3, 4, 5, 6, 7, 8, 9, 15, 20],\n",
    "#\"learning_rate\":[0.058, 0.059, 0.0615, 0.0625, 0.06, 0.5, 0.25]\n",
    "}\n",
    "estimator = GradientBoostingClassifier(random_state=3, max_depth=2, n_estimators=600, min_samples_split=5, max_features=2)\n",
    "model = GridSearchCV(estimator=estimator, param_grid=PARAMETERS, cv=5, n_jobs=-1, scoring=\"accuracy\")\n",
    "\n",
    "model.fit(train_df, train_target)"
   ]
  },
  {
   "cell_type": "code",
   "execution_count": 42,
   "metadata": {},
   "outputs": [
    {
     "data": {
      "text/plain": [
       "(0.5387931525220948, {'random_state': 8})"
      ]
     },
     "execution_count": 42,
     "metadata": {},
     "output_type": "execute_result"
    }
   ],
   "source": [
    "model.best_score_, model.best_params_"
   ]
  },
  {
   "cell_type": "code",
   "execution_count": null,
   "metadata": {},
   "outputs": [],
   "source": []
  },
  {
   "cell_type": "code",
   "execution_count": 182,
   "metadata": {},
   "outputs": [
    {
     "data": {
      "text/plain": [
       "0.4443984938829068"
      ]
     },
     "execution_count": 182,
     "metadata": {},
     "output_type": "execute_result"
    }
   ],
   "source": [
    "from sklearn.neighbors import KNeighborsClassifier\n",
    "clf = KNeighborsClassifier(n_neighbors=31)\n",
    "clf.fit(X_train, y_train)\n",
    "scores = cross_val_score(clf, X_train, y_train, cv=5, n_jobs=-1)\n",
    "scores.mean()"
   ]
  },
  {
   "cell_type": "code",
   "execution_count": null,
   "metadata": {},
   "outputs": [],
   "source": []
  },
  {
   "cell_type": "code",
   "execution_count": 31,
   "metadata": {},
   "outputs": [],
   "source": [
    "from sklearn.linear_model import RidgeClassifierCV\n",
    "clf = RidgeClassifierCV(alphas=[1e-3, 1e-2, 1e-1, 1], cv=5).fit(train_df, train_target)\n",
    "\n"
   ]
  },
  {
   "cell_type": "code",
   "execution_count": 32,
   "metadata": {},
   "outputs": [
    {
     "data": {
      "text/plain": [
       "0.44106364092470374"
      ]
     },
     "execution_count": 32,
     "metadata": {},
     "output_type": "execute_result"
    }
   ],
   "source": [
    "clf.best_score_"
   ]
  },
  {
   "cell_type": "code",
   "execution_count": 100,
   "metadata": {},
   "outputs": [
    {
     "data": {
      "text/plain": [
       "0.5816489546433284"
      ]
     },
     "execution_count": 100,
     "metadata": {},
     "output_type": "execute_result"
    }
   ],
   "source": [
    "clf = HistGradientBoostingClassifier(random_state=8, l2_regularization=0.0020612244897959186, learning_rate=0.026000000000000002,\n",
    "  max_depth=22, max_leaf_nodes=20, min_samples_leaf=28, class_weight='balanced')\n",
    "clf.fit(train_df, train_target)\n",
    "clf.score(train_df, train_target)"
   ]
  },
  {
   "cell_type": "code",
   "execution_count": null,
   "metadata": {},
   "outputs": [],
   "source": []
  },
  {
   "cell_type": "code",
   "execution_count": null,
   "metadata": {
    "id": "hNgZMXVR0Dqg"
   },
   "outputs": [],
   "source": [
    "from sklearn.tree import DecisionTreeClassifier\n",
    "\n",
    "model = DecisionTreeClassifier()"
   ]
  },
  {
   "cell_type": "code",
   "execution_count": null,
   "metadata": {},
   "outputs": [],
   "source": []
  },
  {
   "cell_type": "code",
   "execution_count": null,
   "metadata": {},
   "outputs": [],
   "source": [
    "Pipeline(steps=[('standardscaler', StandardScaler()),\n",
    "                ('gaussiannb', GaussianNB())])"
   ]
  },
  {
   "cell_type": "markdown",
   "metadata": {
    "id": "PGT37f8d0Dqg"
   },
   "source": [
    "Voy a validar cómo de bueno es usando validación cruzada con 5 conjuntos."
   ]
  },
  {
   "cell_type": "code",
   "execution_count": 124,
   "metadata": {
    "id": "gflkuDGI0Dqg"
   },
   "outputs": [],
   "source": [
    "from sklearn.model_selection import cross_val_score\n",
    "from sklearn.pipeline import Pipeline\n",
    "from sklearn.pipeline import make_pipeline\n",
    "from sklearn.model_selection import GridSearchCV\n",
    "from sklearn.ensemble import HistGradientBoostingClassifier\n",
    "from sklearn.ensemble import RandomForestClassifier\n",
    "from sklearn.ensemble import GradientBoostingClassifier\n",
    "from sklearn.ensemble import StackingClassifier\n",
    "from sklearn.linear_model import LogisticRegression\n",
    "import xgboost as xgb\n",
    "import lightgbm as lgb\n",
    "\n",
    "pipehist = Pipeline(steps=[('imputer', SimpleImputer(strategy='mean')),('estimator', HistGradientBoostingClassifier(random_state=8, l2_regularization=0.0020612244897959186, learning_rate=0.08336734693877551,\n",
    "  max_depth=17, max_leaf_nodes=20, min_samples_leaf=28))])\n",
    "\n",
    "pipexg = Pipeline(steps=[('imputer', SimpleImputer(strategy='mean')),('estimator', xgb.XGBClassifier(random_state=0, learning_rate=0.083, max_depth=5,colsample_bytree=0.75, min_child_weight=4, reg_alpha=0.001))])\n",
    "\n",
    "piperandom = Pipeline(steps=[('imputer', SimpleImputer(strategy='mean')),('estimator', RandomForestClassifier(random_state=3, max_depth=12, n_estimators=325, min_samples_split=22, max_features=7))])\n",
    "\n",
    "pipelg = Pipeline(steps=[('imputer', SimpleImputer(strategy='mean')),('estimator', lgb.LGBMClassifier(n_estimators=300, max_depth=2, reg_alpha=3, reg_lambda=2, colsample_bytree=0.7))])\n",
    "\n",
    "pipegb = Pipeline(steps=[('imputer', SimpleImputer(strategy='mean')),('estimator', GradientBoostingClassifier(random_state=3, max_depth=2, n_estimators=600, min_samples_split=5, max_features=2, learning_rate=0.11))])\n",
    "\n",
    "estimators = [\n",
    "('1', xgb.XGBClassifier(random_state=0, learning_rate=0.083, max_depth=5,colsample_bytree=0.75, min_child_weight=4, reg_alpha=0.001)),\n",
    "('2', HistGradientBoostingClassifier(random_state=8, l2_regularization=0.0020612244897959186, learning_rate=0.08336734693877551,\n",
    "  max_depth=17, max_leaf_nodes=20, min_samples_leaf=28)),\n",
    "('3', piperandom),\n",
    "('4', pipegb),\n",
    "('5',  lgb.LGBMClassifier(n_estimators=300, max_depth=2, reg_alpha=3, reg_lambda=2, colsample_bytree=0.7))]\n",
    "clf = StackingClassifier(estimators=estimators, final_estimator=LogisticRegression(max_iter=300), n_jobs=-1)\n",
    "\n",
    "PARAMETERS = {#'2__max_iter': [150, 200],\n",
    "#\"colsample_bytree\":[0.71, 0.75, 0.73, 0.74, 0.76],\n",
    "#\"1__max_depth\": [5]\n",
    "#\"min_child_weight\":[4, 5, 6, 7, 8, 9],\n",
    "#\"learning_rate\":[ 0.088, 0.083]}\n",
    "}\n",
    "\n",
    "#model = GridSearchCV(clf, param_grid=PARAMETERS, cv=5, n_jobs=-1, scoring=\"accuracy\")\n",
    "\n",
    "#model.fit(train_df, train_target)\n",
    "\n",
    "scores = cross_val_score(clf, train_df, train_target, cv=5, n_jobs=-1)"
   ]
  },
  {
   "cell_type": "code",
   "execution_count": 125,
   "metadata": {},
   "outputs": [
    {
     "data": {
      "text/plain": [
       "0.6002642674662798"
      ]
     },
     "execution_count": 125,
     "metadata": {},
     "output_type": "execute_result"
    }
   ],
   "source": [
    "scores.mean()"
   ]
  },
  {
   "cell_type": "code",
   "execution_count": null,
   "metadata": {},
   "outputs": [],
   "source": []
  },
  {
   "cell_type": "code",
   "execution_count": 136,
   "metadata": {},
   "outputs": [
    {
     "data": {
      "text/plain": [
       "0.7278335252508636"
      ]
     },
     "execution_count": 136,
     "metadata": {},
     "output_type": "execute_result"
    }
   ],
   "source": [
    "pipehist = Pipeline(steps=[('imputer', SimpleImputer(strategy='mean')),('estimator', HistGradientBoostingClassifier(random_state=8, l2_regularization=0.0020612244897959186, learning_rate=0.08336734693877551,\n",
    "  max_depth=17, max_leaf_nodes=20, min_samples_leaf=28))])\n",
    "\n",
    "pipexg = Pipeline(steps=[('imputer', SimpleImputer(strategy='mean')),('estimator', xgb.XGBClassifier(random_state=0, learning_rate=0.083, max_depth=5,colsample_bytree=0.75, min_child_weight=4, reg_alpha=0.001))])\n",
    "\n",
    "piperandom = Pipeline(steps=[('imputer', SimpleImputer(strategy='mean')),('estimator', RandomForestClassifier(random_state=3, max_depth=12, n_estimators=325, min_samples_split=22, max_features=7))])\n",
    "\n",
    "pipelg = Pipeline(steps=[('imputer', SimpleImputer(strategy='mean')),('estimator', lgb.LGBMClassifier(n_estimators=300, max_depth=2, reg_alpha=3, reg_lambda=2, colsample_bytree=0.7))])\n",
    "\n",
    "pipegb = Pipeline(steps=[('imputer', SimpleImputer(strategy='mean')),('estimator', GradientBoostingClassifier(random_state=3, max_depth=2, n_estimators=600, min_samples_split=5, max_features=2, learning_rate=0.11))])\n",
    "\n",
    "estimators = [\n",
    "('1', xgb.XGBClassifier(random_state=0, learning_rate=0.083, max_depth=5,colsample_bytree=0.75, min_child_weight=4, reg_alpha=0.001)),\n",
    "('2', HistGradientBoostingClassifier(random_state=8, l2_regularization=0.0020612244897959186, learning_rate=0.08336734693877551,\n",
    "  max_depth=17, max_leaf_nodes=20, min_samples_leaf=28)),\n",
    "('3', piperandom),\n",
    "('4', pipegb),\n",
    "('5',  lgb.LGBMClassifier(n_estimators=300, max_depth=2, reg_alpha=3, reg_lambda=2, colsample_bytree=0.7))]\n",
    "clf = StackingClassifier(estimators=estimators, final_estimator=LogisticRegression(max_iter=300), n_jobs=-1)\n",
    "\n",
    "\n",
    "clf.fit(train_df, train_target)\n",
    "clf.score(train_df, train_target)"
   ]
  },
  {
   "cell_type": "code",
   "execution_count": 269,
   "metadata": {},
   "outputs": [
    {
     "data": {
      "text/plain": [
       "array([0.58840461, 0.59827303, 0.59498355, 0.58823529, 0.61456191])"
      ]
     },
     "execution_count": 269,
     "metadata": {},
     "output_type": "execute_result"
    }
   ],
   "source": [
    "scores"
   ]
  },
  {
   "cell_type": "markdown",
   "metadata": {
    "id": "eS21cba50Dqg"
   },
   "source": [
    "La puntuación final sería la media de las cinco."
   ]
  },
  {
   "cell_type": "markdown",
   "metadata": {
    "id": "3fsihXC10Dqi"
   },
   "source": [
    "Y finalmente aplico el modelo entrenado (ignorando id):"
   ]
  },
  {
   "cell_type": "code",
   "execution_count": null,
   "metadata": {},
   "outputs": [],
   "source": []
  },
  {
   "cell_type": "code",
   "execution_count": null,
   "metadata": {},
   "outputs": [],
   "source": []
  },
  {
   "cell_type": "code",
   "execution_count": 137,
   "metadata": {
    "colab": {
     "base_uri": "https://localhost:8080/"
    },
    "executionInfo": {
     "elapsed": 277,
     "status": "ok",
     "timestamp": 1672007983947,
     "user": {
      "displayName": "IGNACIO GARACH VELEZ",
      "userId": "17565059811689301258"
     },
     "user_tz": -60
    },
    "id": "gU_sFPyB0Dqi",
    "outputId": "71b030ae-80ad-4dfc-ca4b-5049956c8188"
   },
   "outputs": [
    {
     "name": "stdout",
     "output_type": "stream",
     "text": [
      "['Acustico/Folk' 'Rock' 'Blues' ... 'Rock' 'Rock' 'Rock']\n"
     ]
    }
   ],
   "source": [
    "predictions = clf.predict(test_df)\n",
    "predictions = targetencoder.inverse_transform(predictions)\n",
    "print(predictions)"
   ]
  },
  {
   "cell_type": "markdown",
   "metadata": {
    "id": "22Gurpg70Dqj"
   },
   "source": [
    "Ahora que tengo las predicciones voy a crear el fichero"
   ]
  },
  {
   "cell_type": "code",
   "execution_count": 138,
   "metadata": {
    "executionInfo": {
     "elapsed": 289,
     "status": "ok",
     "timestamp": 1672007993826,
     "user": {
      "displayName": "IGNACIO GARACH VELEZ",
      "userId": "17565059811689301258"
     },
     "user_tz": -60
    },
    "id": "fP3u5kcS0Dqj"
   },
   "outputs": [],
   "source": [
    "submission = pd.DataFrame({'id': ids, 'Expected': predictions})"
   ]
  },
  {
   "cell_type": "code",
   "execution_count": null,
   "metadata": {},
   "outputs": [],
   "source": []
  },
  {
   "cell_type": "code",
   "execution_count": 139,
   "metadata": {},
   "outputs": [
    {
     "data": {
      "text/html": [
       "<div>\n",
       "<style scoped>\n",
       "    .dataframe tbody tr th:only-of-type {\n",
       "        vertical-align: middle;\n",
       "    }\n",
       "\n",
       "    .dataframe tbody tr th {\n",
       "        vertical-align: top;\n",
       "    }\n",
       "\n",
       "    .dataframe thead th {\n",
       "        text-align: right;\n",
       "    }\n",
       "</style>\n",
       "<table border=\"1\" class=\"dataframe\">\n",
       "  <thead>\n",
       "    <tr style=\"text-align: right;\">\n",
       "      <th></th>\n",
       "      <th>id</th>\n",
       "      <th>Expected</th>\n",
       "    </tr>\n",
       "  </thead>\n",
       "  <tbody>\n",
       "    <tr>\n",
       "      <th>0</th>\n",
       "      <td>12760</td>\n",
       "      <td>Acustico/Folk</td>\n",
       "    </tr>\n",
       "    <tr>\n",
       "      <th>1</th>\n",
       "      <td>10607</td>\n",
       "      <td>Rock</td>\n",
       "    </tr>\n",
       "    <tr>\n",
       "      <th>2</th>\n",
       "      <td>4355</td>\n",
       "      <td>Blues</td>\n",
       "    </tr>\n",
       "    <tr>\n",
       "      <th>3</th>\n",
       "      <td>757</td>\n",
       "      <td>Alt</td>\n",
       "    </tr>\n",
       "    <tr>\n",
       "      <th>4</th>\n",
       "      <td>11503</td>\n",
       "      <td>Blues</td>\n",
       "    </tr>\n",
       "    <tr>\n",
       "      <th>...</th>\n",
       "      <td>...</td>\n",
       "      <td>...</td>\n",
       "    </tr>\n",
       "    <tr>\n",
       "      <th>3594</th>\n",
       "      <td>396</td>\n",
       "      <td>Acustico/Folk</td>\n",
       "    </tr>\n",
       "    <tr>\n",
       "      <th>3595</th>\n",
       "      <td>12017</td>\n",
       "      <td>Rock</td>\n",
       "    </tr>\n",
       "    <tr>\n",
       "      <th>3596</th>\n",
       "      <td>6520</td>\n",
       "      <td>Rock</td>\n",
       "    </tr>\n",
       "    <tr>\n",
       "      <th>3597</th>\n",
       "      <td>5591</td>\n",
       "      <td>Rock</td>\n",
       "    </tr>\n",
       "    <tr>\n",
       "      <th>3598</th>\n",
       "      <td>14863</td>\n",
       "      <td>Rock</td>\n",
       "    </tr>\n",
       "  </tbody>\n",
       "</table>\n",
       "<p>3599 rows × 2 columns</p>\n",
       "</div>"
      ],
      "text/plain": [
       "         id       Expected\n",
       "0     12760  Acustico/Folk\n",
       "1     10607           Rock\n",
       "2      4355          Blues\n",
       "3       757            Alt\n",
       "4     11503          Blues\n",
       "...     ...            ...\n",
       "3594    396  Acustico/Folk\n",
       "3595  12017           Rock\n",
       "3596   6520           Rock\n",
       "3597   5591           Rock\n",
       "3598  14863           Rock\n",
       "\n",
       "[3599 rows x 2 columns]"
      ]
     },
     "execution_count": 139,
     "metadata": {},
     "output_type": "execute_result"
    }
   ],
   "source": [
    "submission"
   ]
  },
  {
   "cell_type": "markdown",
   "metadata": {
    "id": "-zv8z_cT0Dqj"
   },
   "source": [
    "Vemos que tenemos el tamaño adecuado:"
   ]
  },
  {
   "cell_type": "code",
   "execution_count": 140,
   "metadata": {
    "colab": {
     "base_uri": "https://localhost:8080/"
    },
    "executionInfo": {
     "elapsed": 291,
     "status": "ok",
     "timestamp": 1672007996073,
     "user": {
      "displayName": "IGNACIO GARACH VELEZ",
      "userId": "17565059811689301258"
     },
     "user_tz": -60
    },
    "id": "-xpFx3zP0Dqj",
    "outputId": "d4229f65-bf51-42ce-9473-c54abd7190bf"
   },
   "outputs": [
    {
     "data": {
      "text/plain": [
       "(3599, 2)"
      ]
     },
     "execution_count": 140,
     "metadata": {},
     "output_type": "execute_result"
    }
   ],
   "source": [
    "submission.shape"
   ]
  },
  {
   "cell_type": "markdown",
   "metadata": {
    "id": "QJsdZfHj0Dqj"
   },
   "source": [
    "Creamos el fichero del modelo:"
   ]
  },
  {
   "cell_type": "code",
   "execution_count": 141,
   "metadata": {
    "executionInfo": {
     "elapsed": 262,
     "status": "ok",
     "timestamp": 1672008002930,
     "user": {
      "displayName": "IGNACIO GARACH VELEZ",
      "userId": "17565059811689301258"
     },
     "user_tz": -60
    },
    "id": "p3eRYJr60Dqj"
   },
   "outputs": [],
   "source": [
    "submission.to_csv(\"tuned60val.csv\", index=False)"
   ]
  },
  {
   "cell_type": "code",
   "execution_count": 142,
   "metadata": {},
   "outputs": [
    {
     "name": "stdout",
     "output_type": "stream",
     "text": [
      "Counter({'Rock': 1429, 'Acustico/Folk': 497, 'Alt': 400, 'Metal': 348, 'Rap': 298, 'Blues': 190, 'Bollywood': 149, 'Instrumental': 126, 'Country': 76, 'Alt_Music': 73, 'Indie': 13})\n"
     ]
    }
   ],
   "source": [
    "from collections import Counter\n",
    "print(Counter(predictions))"
   ]
  },
  {
   "cell_type": "code",
   "execution_count": 276,
   "metadata": {
    "id": "9dxk4zZi0Dqj"
   },
   "outputs": [
    {
     "name": "stdout",
     "output_type": "stream",
     "text": [
      "Counter({'Rock': 1420, 'Acustico/Folk': 519, 'Alt': 388, 'Metal': 349, 'Rap': 303, 'Blues': 188, 'Bollywood': 154, 'Instrumental': 125, 'Country': 76, 'Alt_Music': 66, 'Indie': 11})\n"
     ]
    }
   ],
   "source": [
    "from collections import Counter\n",
    "print(Counter(predictions))"
   ]
  },
  {
   "cell_type": "code",
   "execution_count": 228,
   "metadata": {},
   "outputs": [
    {
     "name": "stdout",
     "output_type": "stream",
     "text": [
      "Counter({10: 1485, 0: 488, 1: 439, 8: 305, 9: 287, 3: 175, 4: 152, 7: 123, 5: 73, 2: 70, 6: 2})\n"
     ]
    }
   ],
   "source": [
    "print(Counter(clf.predict(test_df)))"
   ]
  },
  {
   "cell_type": "code",
   "execution_count": 231,
   "metadata": {},
   "outputs": [
    {
     "name": "stdout",
     "output_type": "stream",
     "text": [
      "Counter({10: 1490, 0: 524, 1: 442, 9: 284, 8: 247, 3: 200, 4: 150, 7: 123, 5: 70, 2: 69})\n"
     ]
    }
   ],
   "source": [
    "print(Counter(calibrated_clf.predict(test_df)))"
   ]
  },
  {
   "cell_type": "code",
   "execution_count": null,
   "metadata": {},
   "outputs": [],
   "source": []
  }
 ],
 "metadata": {
  "colab": {
   "provenance": []
  },
  "kernelspec": {
   "display_name": "Python 3 (ipykernel)",
   "language": "python",
   "name": "python3"
  },
  "language_info": {
   "codemirror_mode": {
    "name": "ipython",
    "version": 3
   },
   "file_extension": ".py",
   "mimetype": "text/x-python",
   "name": "python",
   "nbconvert_exporter": "python",
   "pygments_lexer": "ipython3",
   "version": "3.9.13"
  }
 },
 "nbformat": 4,
 "nbformat_minor": 1
}
